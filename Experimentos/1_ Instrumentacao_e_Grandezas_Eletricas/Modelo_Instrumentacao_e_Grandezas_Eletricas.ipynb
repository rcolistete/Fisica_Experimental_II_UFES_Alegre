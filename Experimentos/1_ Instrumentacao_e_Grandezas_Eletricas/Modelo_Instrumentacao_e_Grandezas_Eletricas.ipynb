{
 "cells": [
  {
   "cell_type": "markdown",
   "id": "b6c301fc",
   "metadata": {
    "slideshow": {
     "slide_type": "slide"
    }
   },
   "source": [
    "# Relatório \"Instrumentação e Grandezas Elétricas\"\n",
    "## < Fulana da Silva, Beltrano da Costa, Sicrano de Santos >\n",
    "### Disciplina DQF10441 Física Experimental II - Semestre 2021/2 EARTE\n",
    "### [DQF - CCENS](http://alegre.ufes.br/ccens/departamento-de-quimica-e-fisica) - [UFES/Alegre](http://alegre.ufes.br/)\n",
    "#### Experimento realizado em ?? e ??/02/2022 - Relatório entregue em < ??/02/2022 >\n",
    "#### Professor : [Roberto Colistete Jr.](https://github.com/rcolistete)"
   ]
  },
  {
   "cell_type": "markdown",
   "id": "87527b77",
   "metadata": {
    "slideshow": {
     "slide_type": "slide"
    }
   },
   "source": [
    "# 1 - Objetivos"
   ]
  },
  {
   "cell_type": "markdown",
   "id": "bddd7d6a",
   "metadata": {
    "slideshow": {
     "slide_type": "fragment"
    }
   },
   "source": [
    "< Identifição da razão de se realizar o experimento.\n",
    "\n",
    "Parcialmente baseado em \"Objetivos\" do roteiro.\n",
    "\n",
    "Por exemplo, nesse experimento (fiquem à vontade em alterar) : >"
   ]
  },
  {
   "cell_type": "markdown",
   "id": "c7d91c4c",
   "metadata": {
    "slideshow": {
     "slide_type": "fragment"
    }
   },
   "source": [
    "Esse experimento visa inicialmente praticar circuito elétrico de uma malha com resistor, com fonte de tensão elétrica, protoboard e resistor. Para tanto é necessário o domínio da teoria envolvida de circuitos elétricos, seus componentes e suas grandezas. Bem como domínio da prática de medições das grandezas elétricas utilizando multímetros nos modos voltímetro, amperímetro e ohmímetro, sendo calculadas as incertezas de cada medida e propagadas via software."
   ]
  },
  {
   "cell_type": "markdown",
   "id": "93e2a453",
   "metadata": {
    "slideshow": {
     "slide_type": "slide"
    }
   },
   "source": [
    "# 2 - Teoria"
   ]
  },
  {
   "cell_type": "markdown",
   "id": "39fb0bdc",
   "metadata": {
    "slideshow": {
     "slide_type": "fragment"
    }
   },
   "source": [
    "< Resumo teórico, geralmente é advindo de um texto maior encontrado em livros de Física (que vem ser citados).\n",
    "\n",
    "Parcialmente baseada em \"Teoria\" e \"Equipamento\" do roteiro.\n",
    "\n",
    "Teoria resumida, tipicamente com 1 a 2 parágrafos, sobre certos tópicos e ítens. >"
   ]
  },
  {
   "cell_type": "markdown",
   "id": "62f51ed3",
   "metadata": {
    "slideshow": {
     "slide_type": "fragment"
    }
   },
   "source": [
    "< Teoria de grandezas elétricas : tensão elétrica, corrente elétrica e resistência elétrica (e lei de Ohm).\n",
    "\n",
    "Segundo [HRW], ... >"
   ]
  },
  {
   "cell_type": "markdown",
   "id": "bd5f91ff",
   "metadata": {
    "slideshow": {
     "slide_type": "fragment"
    }
   },
   "source": [
    "< Teoria de circuitos elétricos de uma malha. Com imagem de um exemplo. >"
   ]
  },
  {
   "cell_type": "markdown",
   "id": "f0d445ac",
   "metadata": {
    "slideshow": {
     "slide_type": "subslide"
    }
   },
   "source": [
    "< Teoria de resistor (ôhmico) e código de cores. Com imagem/foto de exemplo. Com imagem do símbolo de resistor adotado em diagrama esquemático. >"
   ]
  },
  {
   "cell_type": "markdown",
   "id": "b14bc87d",
   "metadata": {
    "slideshow": {
     "slide_type": "fragment"
    }
   },
   "source": [
    "< Teoria de fonte de tensão elétrica. Com imagem/foto de exemplo. Com imagem do símbolo de fonte de tensão elétrica adotado em diagrama esquemático. >"
   ]
  },
  {
   "cell_type": "markdown",
   "id": "8e585265",
   "metadata": {
    "slideshow": {
     "slide_type": "fragment"
    }
   },
   "source": [
    "< Teoria de princípio de funcionamento de voltímetro, amperímetro e ohmímetro. Com imagem/foto de exemplo. >"
   ]
  },
  {
   "cell_type": "markdown",
   "id": "9f9c6611",
   "metadata": {
    "slideshow": {
     "slide_type": "slide"
    }
   },
   "source": [
    "# 3 - Procedimento Experimental"
   ]
  },
  {
   "cell_type": "markdown",
   "id": "3c6fb616",
   "metadata": {
    "slideshow": {
     "slide_type": "fragment"
    }
   },
   "source": [
    "< Descrição precisa do que foi usado e como foi usado no experimento.\n",
    "\n",
    "Parcialmente baseado em \"Equipamento\" e \"Procedimento Experimental\" do roteiro.\n",
    "\n",
    "Nesta seção são descritos os procedimentos empregados para efetuar as medidas e são descritas as montagens experimentais utilizadas. Diagramas esquemáticos das experiências são bastante úteis pois facilitam a visualização.  Este procedimento não é uma cópia do roteiro do experimento, podendo o relatório ser mais resumido que o roteiro. \n",
    "\n",
    "Por exemplo, nesse experimento (fiquem à vontade em alterar) : >"
   ]
  },
  {
   "cell_type": "markdown",
   "id": "49efd271",
   "metadata": {
    "slideshow": {
     "slide_type": "subslide"
    }
   },
   "source": [
    "## Medindo Tensão, Corrente e Resistência Elétricas com Multímetro"
   ]
  },
  {
   "cell_type": "markdown",
   "id": "38686094",
   "metadata": {
    "slideshow": {
     "slide_type": "fragment"
    }
   },
   "source": [
    "O experimento consiste de um circuito elétrico de uma malha com resistor, com fonte de tensão elétrica de 3,3/5V, protoboard, fios e resistor.\n",
    "\n",
    "Bem como 2 multímetros com pontas-de-prova e garras jacaré, sendo usados nos modos voltímetro, amperímetro e ohmímetro."
   ]
  },
  {
   "cell_type": "markdown",
   "id": "590a4151",
   "metadata": {
    "slideshow": {
     "slide_type": "fragment"
    }
   },
   "source": [
    "A montagem é feita sob orientação do professor, conectando a fonte de tensão 3,3/5V no protoboard, o resistor indicado pelo professor no protoboard, um multímetro em modo voltímetro conectado em paralelo ao resistor, outro multímetro em modo amperímetro em série ao resistor (entre o terminal positivo da fonte de tensão e um dos terminais do resistor).\n",
    "\n",
    "Todas as conexões devem ser feitas com a fonte de tensão elétrica desligada e os multímetros desligados. Ssempre deve ser desconectado um dos cabos do multímetro antes de ligar ou mudar a escala, conectando depois."
   ]
  },
  {
   "cell_type": "markdown",
   "id": "55072427",
   "metadata": {
    "slideshow": {
     "slide_type": "subslide"
    }
   },
   "source": [
    "<center> Figura N - Diagrama esquemático do circuito elétrico com resistor. </center>"
   ]
  },
  {
   "cell_type": "markdown",
   "id": "249c3710",
   "metadata": {
    "slideshow": {
     "slide_type": "fragment"
    }
   },
   "source": [
    "São feitas medições em todas as escalas possíveis de tensão elétrica contínua (DC) do multímetro, bem como medições em todas as escalas possíveis de corrente elétrica contínua (DC) do multímetro."
   ]
  },
  {
   "cell_type": "markdown",
   "id": "b66061f2",
   "metadata": {
    "slideshow": {
     "slide_type": "fragment"
    }
   },
   "source": [
    "Ao final a resistência elétrica do resistor é medida via multímetro no modo ohmímetro, com o resistor desconectado do protoboard, novamente usando todas as escalas possíveis do multímetro."
   ]
  },
  {
   "cell_type": "markdown",
   "id": "b42f941d",
   "metadata": {
    "slideshow": {
     "slide_type": "slide"
    }
   },
   "source": [
    "# 4 - Resultados e Discussão"
   ]
  },
  {
   "cell_type": "markdown",
   "id": "34feb66c",
   "metadata": {
    "slideshow": {
     "slide_type": "fragment"
    }
   },
   "source": [
    "< Apresentação dos dados medidos e dos principais resultados do experimento, com incertezas, o número correto de algarismos significativos e em notação científica. É nessa seção que se discute mais amplamente esses resultados apresentados.\n",
    "\n",
    "Parcialmente baseado em \"Procedimento Experimental / Medidas\" e \"Análises\" do roteiro.\n",
    "\n",
    "Esta seção é o coração do relatório. Nela são apresentados os dados obtidos em forma de fotos, tabelas, gráficos e diagramas. Lembre-se que quando o volume de dados é elevado os gráficos devem ter preferência sobre as tabelas.\n",
    "\n",
    "Lembre-se que toda medida experimental apresenta uma incerteza e portanto as contas efetuadas devem levar estas em consideração via propagação de incertezas.\n",
    "\n",
    "Por exemplo, nesse experimento (fiquem à vontade em alterar) : >"
   ]
  },
  {
   "cell_type": "markdown",
   "id": "84933474",
   "metadata": {
    "slideshow": {
     "slide_type": "subslide"
    }
   },
   "source": [
    "## Medindo Tensão, Corrente e Resistência Elétricas com Multímetro"
   ]
  },
  {
   "cell_type": "markdown",
   "id": "5b09a799",
   "metadata": {
    "slideshow": {
     "slide_type": "fragment"
    }
   },
   "source": [
    "1) Calculando a corrente elétrica $I_R$ teórica para o valor do resistor $R$ escolhido e a tensão $V_S = 3,3\\,V$ ou $5,0\\,V$ (vide indicaçao do professor) nominal da fonte (\"source\") de tensão :\n",
    "\n",
    "$R = \\underline{\\ \\ \\ \\ \\ \\ \\ \\ \\ }\\,k\\Omega$\n",
    "\n",
    "$V_S = \\underline{\\ \\ \\ \\ \\ \\ \\ \\ \\ }\\,V$\n",
    "\n",
    "$I_R = \\underline{\\ \\ \\ \\ \\ \\ \\ \\ \\ }\\,mA$\n",
    "\n",
    "Vide 7.1 de Anexos. "
   ]
  },
  {
   "cell_type": "markdown",
   "id": "8e1044ed",
   "metadata": {
    "slideshow": {
     "slide_type": "fragment"
    }
   },
   "source": [
    "2) Após consulta do manual do multímetro, a escolha da escala de tensão elétrica contínua (DC) mais adequada do multímetro em modo voltímetro, i. e., a menor escala capaz de ler a tensão $V_S$ :\n",
    "\n",
    "Escala $= \\underline{\\ \\ \\ \\ \\ \\ \\ \\ \\ }\\,V$"
   ]
  },
  {
   "cell_type": "markdown",
   "id": "144936a6",
   "metadata": {
    "slideshow": {
     "slide_type": "fragment"
    }
   },
   "source": [
    "3) Após consulta do manual do multímetro, a escolha da escala de corrente elétrica contínua (DC) mais adequada do multímetro em modo amperímetro, i. e., a menor escala capaz de ler a corrente $I_R$ :\n",
    "\n",
    "Escala $= \\underline{\\ \\ \\ \\ \\ \\ \\ \\ \\ }\\, mA$"
   ]
  },
  {
   "cell_type": "markdown",
   "id": "0306bce6",
   "metadata": {
    "slideshow": {
     "slide_type": "subslide"
    }
   },
   "source": [
    "<center> Figura N - Foto do circuito elétrico com resistor. </center>"
   ]
  },
  {
   "cell_type": "markdown",
   "id": "3d106479",
   "metadata": {
    "slideshow": {
     "slide_type": "fragment"
    }
   },
   "source": [
    "|   n     |  Leitura da tela  | Escala (V)  | Resolução (V) |  Precisão ±(p%+nD)  | $V_R$ (V) com incerteza |\n",
    "|---------|-------------------|-------------|---------------|---------------------|--------------------------|\n",
    "|   1     |                   |             |               |                     |                          |\n",
    "|   2     |                   |             |               |                     |                          |\n",
    "|   3     |                   |             |               |                     |                          |\n",
    "|   4     |                   |             |               |                     |                          |\n",
    "|   5     |                   |             |               |                     |                          |\n",
    "\n",
    "<center>Tabela 1 : Medidas de $V_R$ variando escala do voltímetro.</center>\n",
    "\n",
    "Vide 7.1 de Anexos."
   ]
  },
  {
   "cell_type": "markdown",
   "id": "b73b7137",
   "metadata": {
    "slideshow": {
     "slide_type": "fragment"
    }
   },
   "source": [
    "Na tabela 1 :\n",
    "- as medições de $V_R$ são compatíveis com o valor nominal da fonte de tensão $V_S$, no ítem (1) de \"Medidas\" ?\n",
    "- qual a escala com menor incerteza na medição de $V_R$ ?\n",
    "- é a mesma escala apontada no ítem (2) de \"Medidas\" ?\n",
    "\n",
    "..."
   ]
  },
  {
   "cell_type": "markdown",
   "id": "a1f77895",
   "metadata": {
    "slideshow": {
     "slide_type": "subslide"
    }
   },
   "source": [
    "|   n     |  Leitura da tela  |  Escala (A)  |  Resolução (A) |  Precisão ±(p%+nD)  | $I_R$ (mA) com incerteza |\n",
    "|---------|-------------------|--------------|----------------|---------------------|-----------------------------|\n",
    "|   1     |                   |              |                |                     |                             |\n",
    "|   2     |                   |              |                |                     |                             |\n",
    "|   3     |                   |              |                |                     |                             |\n",
    "|   4     |                   |              |                |                     |                             |\n",
    "|   5     |                   |              |                |                     |                             |\n",
    "\n",
    "<center>Tabela 2 : Medidas de $I_R$ variando escala do amperímetro.</center>\n",
    "\n",
    "Vide 7.1 de Anexos."
   ]
  },
  {
   "cell_type": "markdown",
   "id": "09b76aa2",
   "metadata": {
    "slideshow": {
     "slide_type": "fragment"
    }
   },
   "source": [
    "Na tabela 2 :\n",
    "- as medições de $I_R$ são compatíveis com o valor teórico calculado da corrente elétrica $I_R$, no ítem (1) de \"Medidas\" ?\n",
    "- qual a escala com menor incerteza na medição de $I_R$ ?\n",
    "- é a mesma escala apontada no ítem (3) de \"Medidas\" ?\n",
    "\n",
    "..."
   ]
  },
  {
   "cell_type": "markdown",
   "id": "3d62cb36",
   "metadata": {
    "slideshow": {
     "slide_type": "subslide"
    }
   },
   "source": [
    "9) Após consulta do manual do multímetro, a escolha da escala de resistência elétrica mais adequada do multímetro em modo ohmímetro, i. e., a menor escala capaz de ler a resistência elétrica $R$ :\n",
    "\n",
    "Escala $= \\underline{\\ \\ \\ \\ \\ \\ \\ \\ \\ }\\, \\Omega$"
   ]
  },
  {
   "cell_type": "markdown",
   "id": "ca1d3fe9",
   "metadata": {
    "slideshow": {
     "slide_type": "fragment"
    }
   },
   "source": [
    "|   n     |  Leitura da tela  |  Escala ($\\Omega$)  |  Resolução ($\\Omega$) |  Precisão ±(p%+nD)  | $R$ ($k\\Omega$) com incerteza |\n",
    "|---------|-------------------|--------------|----------------|---------------------|-----------------------------|\n",
    "|   1     |                   |              |                |                     |                             |\n",
    "|   2     |                   |              |                |                     |                             |\n",
    "|   3     |                   |              |                |                     |                             |\n",
    "|   4     |                   |              |                |                     |                             |\n",
    "|   5     |                   |              |                |                     |                             |\n",
    "\n",
    "<center>Tabela 3 : Medidas de $R$ variando escala do ohmímetro.</center>\n",
    "\n",
    "Vide 7.1 de Anexos."
   ]
  },
  {
   "cell_type": "markdown",
   "id": "aef419a1",
   "metadata": {
    "slideshow": {
     "slide_type": "subslide"
    }
   },
   "source": [
    "Na tabela 3 :\n",
    "- as medições de $R$ são compatíveis com o valor nominal do resistor $R$ obtido via código de cores, no ítem (1) de \"Medidas\" ?\n",
    "- qual a escala com menor incerteza na medição de $R$ ?\n",
    "- é a mesma escala apontada no ítem (9) de \"Medidas\" ou não ?\n",
    "- calcule **uma vez** $R$ a partir de $V_R$ e $I_R$ medidos nas escalas mais adequadas, ítens (2)-(3) de \"Medidas\", usando propagação de incertezas (manualmente e via propagação de incerteza usando [módulo Python Uncertainties](https://pythonhosted.org/uncertainties/), comparando as incertezas resultantes). Compare com a medição de $R$ na melhor escala e com o valor nominal do resistor $R$.\n",
    "\n",
    "...\n",
    "\n",
    "Vide 7.2 de Anexos.\n",
    "\n",
    "..."
   ]
  },
  {
   "cell_type": "markdown",
   "id": "429f476c",
   "metadata": {
    "slideshow": {
     "slide_type": "slide"
    }
   },
   "source": [
    "# 5 - Conclusão"
   ]
  },
  {
   "cell_type": "markdown",
   "id": "bc058506",
   "metadata": {
    "slideshow": {
     "slide_type": "fragment"
    }
   },
   "source": [
    "<A conclusão deve abordar brevemente o experimento efetuado, os resultados obtidos e a que conclusões estes resultados levam. Em alguns casos se discute possíveis rumos desta investigação.\n",
    "\n",
    "Apresentar com clareza se o objetivo foi cumprido ou dar uma explicação satisfatória para o não cumprimento do objetivo.\n",
    "\n",
    "Comentários do tipo: “O experimento foi muito proveitoso....” “Foi muito legal ter feito isso...” e outro similares não tem sentido científico e portanto não devem ser utilizados.>"
   ]
  },
  {
   "cell_type": "markdown",
   "id": "04860abd",
   "metadata": {
    "slideshow": {
     "slide_type": "fragment"
    }
   },
   "source": [
    "..."
   ]
  },
  {
   "cell_type": "markdown",
   "id": "8c180dd7",
   "metadata": {
    "slideshow": {
     "slide_type": "slide"
    }
   },
   "source": [
    "# 6 - Referências Bibliográficas"
   ]
  },
  {
   "cell_type": "markdown",
   "id": "ffc6a722",
   "metadata": {
    "slideshow": {
     "slide_type": "fragment"
    }
   },
   "source": [
    "< Devem constar nessa seção todas as referências bibliográfias, seguindo norma da ABNT, utilizadas no relatório, como :\n",
    "- livros impressos;\n",
    "- livros eletrônicos;\n",
    "- sítios com material de referência;\n",
    "- softwares;\n",
    "- etc. >"
   ]
  },
  {
   "cell_type": "markdown",
   "id": "26ec5d92",
   "metadata": {
    "slideshow": {
     "slide_type": "fragment"
    }
   },
   "source": [
    "[HRW] Halliday, D.; Resnick, R.; Walker, J.; Fundamentos de Física: Eletromagnetismo. Vol. 3,\n",
    "10a ed, editora LTC, 2016. ISBN: 8521630379;"
   ]
  },
  {
   "cell_type": "markdown",
   "id": "5444c4bc",
   "metadata": {
    "slideshow": {
     "slide_type": "fragment"
    }
   },
   "source": [
    "..."
   ]
  },
  {
   "cell_type": "markdown",
   "id": "9f297509",
   "metadata": {
    "slideshow": {
     "slide_type": "slide"
    }
   },
   "source": [
    "# 7 - Anexos"
   ]
  },
  {
   "cell_type": "markdown",
   "id": "9241cab6",
   "metadata": {
    "slideshow": {
     "slide_type": "fragment"
    }
   },
   "source": [
    "< Devem constar nessa seção todos os cálculos intermediários feitos no experimento e relatório, como :\n",
    "- cálculo de incerteza das medições;\n",
    "- cálculos de propagação de incertezas;\n",
    "- relatório de ajuste de curvas gerado por certo software (SciDAVis, etc);\n",
    "- cálculos diversos. \n",
    "\n",
    "Os cálculos podem ser organizados em subseções, subsubseçõe, etc. >"
   ]
  },
  {
   "cell_type": "markdown",
   "id": "c27ca186",
   "metadata": {
    "slideshow": {
     "slide_type": "subslide"
    }
   },
   "source": [
    "## Medindo Tensão, Corrente e Resistência Elétricas com Multímetro"
   ]
  },
  {
   "cell_type": "markdown",
   "id": "dc43fcd9",
   "metadata": {
    "slideshow": {
     "slide_type": "fragment"
    }
   },
   "source": [
    "### 7.1 - Medidas"
   ]
  },
  {
   "cell_type": "markdown",
   "id": "694d505e",
   "metadata": {
    "slideshow": {
     "slide_type": "fragment"
    }
   },
   "source": [
    "$R$ indicado pelo professor via código de cores : cor1 cor2 cor3 cor4.  \n",
    "Consultando tabela de código de cores [ResCores], o valor é $R = (N k\\,\\Omega \\pm p\\%)$."
   ]
  },
  {
   "cell_type": "markdown",
   "id": "1f8932af",
   "metadata": {
    "slideshow": {
     "slide_type": "fragment"
    }
   },
   "source": [
    "Corrente elétrica teórica, sem incertezas :\n",
    "\n",
    "$$I_R =\\,...$$"
   ]
  },
  {
   "cell_type": "markdown",
   "id": "f69be34d",
   "metadata": {
    "slideshow": {
     "slide_type": "subslide"
    }
   },
   "source": [
    "Cálculos de incertezas das medições da Tabela 1 :\n",
    "\n",
    "..."
   ]
  },
  {
   "cell_type": "markdown",
   "id": "f8984dc6",
   "metadata": {
    "slideshow": {
     "slide_type": "subslide"
    }
   },
   "source": [
    "Cálculos de incertezas das medições da Tabela 2 :\n",
    "\n",
    "..."
   ]
  },
  {
   "cell_type": "markdown",
   "id": "ac7bb781",
   "metadata": {
    "slideshow": {
     "slide_type": "subslide"
    }
   },
   "source": [
    "Cálculos de incertezas das medições da Tabela 3 :\n",
    "\n",
    "..."
   ]
  },
  {
   "cell_type": "markdown",
   "id": "3ca51777",
   "metadata": {
    "slideshow": {
     "slide_type": "subslide"
    }
   },
   "source": [
    "### 7.2 - Análises"
   ]
  },
  {
   "cell_type": "markdown",
   "id": "53d53ac5",
   "metadata": {
    "slideshow": {
     "slide_type": "fragment"
    }
   },
   "source": [
    "Análise da Tabela 3 :\n",
    "\n",
    "$R$ a partir de $V_R$ e $I_R$ usando propagação de incertezas manualmente :\n",
    "\n",
    "...\n",
    "\n",
    "$R$ via propagação de incerteza usando [módulo Python Uncertainties](https://pythonhosted.org/uncertainties/) :"
   ]
  }
 ],
 "metadata": {
  "celltoolbar": "Slideshow",
  "kernelspec": {
   "display_name": "Python 3 (ipykernel)",
   "language": "python",
   "name": "python3"
  },
  "language_info": {
   "codemirror_mode": {
    "name": "ipython",
    "version": 3
   },
   "file_extension": ".py",
   "mimetype": "text/x-python",
   "name": "python",
   "nbconvert_exporter": "python",
   "pygments_lexer": "ipython3",
   "version": "3.10.2"
  }
 },
 "nbformat": 4,
 "nbformat_minor": 5
}
