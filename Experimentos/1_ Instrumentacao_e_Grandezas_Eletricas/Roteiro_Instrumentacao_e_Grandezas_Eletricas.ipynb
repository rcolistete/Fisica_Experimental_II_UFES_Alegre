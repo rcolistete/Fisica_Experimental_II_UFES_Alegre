{
 "cells": [
  {
   "cell_type": "markdown",
   "id": "b6c301fc",
   "metadata": {
    "slideshow": {
     "slide_type": "slide"
    }
   },
   "source": [
    "# Roteiro do Experimento\n",
    "# \"Instrumentação e Grandezas Elétricas\"\n",
    "## Disciplina - DQF10441 Física Experimental II\n",
    "### Semestre 2021/2 EARTE - [DQF - CCENS](http://alegre.ufes.br/ccens/departamento-de-quimica-e-fisica) - [UFES/Alegre](http://alegre.ufes.br/)\n",
    "#### Professor : [Roberto Colistete Jr.](https://github.com/rcolistete)"
   ]
  },
  {
   "cell_type": "markdown",
   "id": "ce6a8650",
   "metadata": {
    "slideshow": {
     "slide_type": "slide"
    }
   },
   "source": [
    "O **experimento \"Instrumentação e grandezas elétricas\"** é uma adaptação dos experimento originais do [sítio eletrônico do Laboratório 2 de Física da UFES-Alegre, seção de roteiros](https://fisica.alegre.ufes.br/roteiros-de-fisica-experimental-ii-e-fisica-iii) :"
   ]
  },
  {
   "cell_type": "markdown",
   "id": "85ac3d23",
   "metadata": {
    "slideshow": {
     "slide_type": "fragment"
    }
   },
   "source": [
    "- \"Equipamentos de Laboratório Relacionados com a Medição de Grandezas Elétricas\";"
   ]
  },
  {
   "cell_type": "markdown",
   "id": "c3597f8a",
   "metadata": {
    "slideshow": {
     "slide_type": "fragment"
    }
   },
   "source": [
    "- parte pequena de \"Caracterização de Dispositivos Eletrônicos\"."
   ]
  },
  {
   "cell_type": "markdown",
   "id": "37b8590e",
   "metadata": {
    "slideshow": {
     "slide_type": "fragment"
    }
   },
   "source": [
    "As mudanças principais se referem a :"
   ]
  },
  {
   "cell_type": "markdown",
   "id": "c32d7d12",
   "metadata": {
    "slideshow": {
     "slide_type": "fragment"
    }
   },
   "source": [
    "- foco no uso de multímetro;"
   ]
  },
  {
   "cell_type": "markdown",
   "id": "a8f9daaf",
   "metadata": {
    "slideshow": {
     "slide_type": "fragment"
    }
   },
   "source": [
    "- uso de equipamento mais portátil, de menor custo e mais acessível, permitindo uso EARTE em aulas remotas, fora do laboratório;"
   ]
  },
  {
   "cell_type": "markdown",
   "id": "fde4aee0",
   "metadata": {
    "slideshow": {
     "slide_type": "fragment"
    }
   },
   "source": [
    "- uso de medidas fornecidas pelo professor, quando for o caso;"
   ]
  },
  {
   "cell_type": "markdown",
   "id": "7bd16e20",
   "metadata": {
    "slideshow": {
     "slide_type": "fragment"
    }
   },
   "source": [
    "- uso de software de simulação de circuitos eletrônicos, quando for o caso."
   ]
  },
  {
   "cell_type": "markdown",
   "id": "49efd271",
   "metadata": {
    "slideshow": {
     "slide_type": "slide"
    }
   },
   "source": [
    "# Medindo Tensão, Corrente e Resistência Elétricas com Multímetro"
   ]
  },
  {
   "cell_type": "markdown",
   "id": "cd1a0270",
   "metadata": {
    "slideshow": {
     "slide_type": "fragment"
    }
   },
   "source": [
    "O experimento emprega :"
   ]
  },
  {
   "cell_type": "markdown",
   "id": "76722e8f",
   "metadata": {
    "slideshow": {
     "slide_type": "fragment"
    }
   },
   "source": [
    "- prioritariamente um kit de material fornecido para cada grupo, permitindo-o fazer as medidas; "
   ]
  },
  {
   "cell_type": "markdown",
   "id": "18febc30",
   "metadata": {
    "slideshow": {
     "slide_type": "fragment"
    }
   },
   "source": [
    "- ou uso de medidas fornecidas pelo professor, caso o kit de material não esteja disponível ou o grupo tenha sérios problemas ao usar o kit de material."
   ]
  },
  {
   "cell_type": "markdown",
   "id": "bed9a1a7",
   "metadata": {
    "slideshow": {
     "slide_type": "subslide"
    }
   },
   "source": [
    "## Objetivos"
   ]
  },
  {
   "cell_type": "markdown",
   "id": "fa7b7eac",
   "metadata": {
    "slideshow": {
     "slide_type": "fragment"
    }
   },
   "source": [
    "Prática de uso de :"
   ]
  },
  {
   "cell_type": "markdown",
   "id": "f9a55923",
   "metadata": {
    "slideshow": {
     "slide_type": "fragment"
    }
   },
   "source": [
    "- fonte de tensão elétrica;"
   ]
  },
  {
   "cell_type": "markdown",
   "id": "d4670489",
   "metadata": {
    "slideshow": {
     "slide_type": "fragment"
    }
   },
   "source": [
    "- protoboard;"
   ]
  },
  {
   "cell_type": "markdown",
   "id": "870e7d18",
   "metadata": {
    "slideshow": {
     "slide_type": "fragment"
    }
   },
   "source": [
    "- circuito elétrico de uma malha com resistor;"
   ]
  },
  {
   "cell_type": "markdown",
   "id": "1e4cd61b",
   "metadata": {
    "slideshow": {
     "slide_type": "fragment"
    }
   },
   "source": [
    "- multímetros nos modos voltímetro, amperímetro e ohmímetro, em diferentes escalas."
   ]
  },
  {
   "cell_type": "markdown",
   "id": "cec7aac6",
   "metadata": {
    "slideshow": {
     "slide_type": "subslide"
    }
   },
   "source": [
    "## Teoria"
   ]
  },
  {
   "cell_type": "markdown",
   "id": "030aa445",
   "metadata": {
    "slideshow": {
     "slide_type": "fragment"
    }
   },
   "source": [
    "- corrente elétrica, resistência elétrica e circuitos elétricos de uma malha, vide bibliografia de \"Física C\" e dessa disciplina;"
   ]
  },
  {
   "cell_type": "markdown",
   "id": "7c0a157d",
   "metadata": {
    "slideshow": {
     "slide_type": "fragment"
    }
   },
   "source": [
    "- como funciona voltímetro, amperímetro e ohmímetro em termos de princípio, vide trabalho em grupo \"Multímetros\";"
   ]
  },
  {
   "cell_type": "markdown",
   "id": "65d97df8",
   "metadata": {
    "slideshow": {
     "slide_type": "fragment"
    }
   },
   "source": [
    "- cálculo de incerteza nas medidas de voltímetro, amperímetro e ohmímetro via consulta da escala, resolução e precisão no manual do multímetro, vide aulas anteriores aos experimentos;"
   ]
  },
  {
   "cell_type": "markdown",
   "id": "b7e48998",
   "metadata": {
    "slideshow": {
     "slide_type": "fragment"
    }
   },
   "source": [
    "- propagação de incertezas calculada manualmente e usando [módulo Python Uncertainties](https://pythonhosted.org/uncertainties/), vide aulas anteriores aos experimentos."
   ]
  },
  {
   "cell_type": "markdown",
   "id": "07ea1968",
   "metadata": {
    "slideshow": {
     "slide_type": "subslide"
    }
   },
   "source": [
    "## Equipamento"
   ]
  },
  {
   "cell_type": "markdown",
   "id": "82033976",
   "metadata": {
    "slideshow": {
     "slide_type": "fragment"
    }
   },
   "source": [
    "- fonte de tensão 3,3/5V, com alimentação via carregador AC ou bateria de 9V;"
   ]
  },
  {
   "cell_type": "markdown",
   "id": "6e97f05a",
   "metadata": {
    "slideshow": {
     "slide_type": "fragment"
    }
   },
   "source": [
    "- protoboard;"
   ]
  },
  {
   "cell_type": "markdown",
   "id": "21a8eb2e",
   "metadata": {
    "slideshow": {
     "slide_type": "fragment"
    }
   },
   "source": [
    "- fios/jumpers para protoboard;"
   ]
  },
  {
   "cell_type": "markdown",
   "id": "bac2b061",
   "metadata": {
    "slideshow": {
     "slide_type": "fragment"
    }
   },
   "source": [
    "- resistor;"
   ]
  },
  {
   "cell_type": "markdown",
   "id": "3a2c4b02",
   "metadata": {
    "slideshow": {
     "slide_type": "fragment"
    }
   },
   "source": [
    "- 2 multímetros com pontas-de-prova e garras jacaré."
   ]
  },
  {
   "cell_type": "markdown",
   "id": "2f69c036",
   "metadata": {
    "slideshow": {
     "slide_type": "slide"
    }
   },
   "source": [
    "## Procedimento Experimental"
   ]
  },
  {
   "cell_type": "markdown",
   "id": "2e79a888",
   "metadata": {
    "slideshow": {
     "slide_type": "fragment"
    }
   },
   "source": [
    "Para o relatório :"
   ]
  },
  {
   "cell_type": "markdown",
   "id": "1327f9ff",
   "metadata": {
    "slideshow": {
     "slide_type": "fragment"
    }
   },
   "source": [
    "- fazer registro fotográfico da montagem e de algumas medidas, para constar no relatório;"
   ]
  },
  {
   "cell_type": "markdown",
   "id": "f117f3b5",
   "metadata": {
    "slideshow": {
     "slide_type": "fragment"
    }
   },
   "source": [
    "- fazer diagrama esquemático do circuito eletrônico, via algum software de desenho/projeto/simulação de circuitos eletrônicos."
   ]
  },
  {
   "cell_type": "markdown",
   "id": "464f9e0d",
   "metadata": {
    "slideshow": {
     "slide_type": "subslide"
    }
   },
   "source": [
    "### Montagem"
   ]
  },
  {
   "cell_type": "markdown",
   "id": "590a4151",
   "metadata": {
    "slideshow": {
     "slide_type": "fragment"
    }
   },
   "source": [
    "Fazer a montagem sob orientação do professor :"
   ]
  },
  {
   "cell_type": "markdown",
   "id": "e17a57b9",
   "metadata": {
    "slideshow": {
     "slide_type": "fragment"
    }
   },
   "source": [
    "1) encaixar a fonte de tensão 3,3/5V no protoboard, **sem alimentação externa e desligada**;"
   ]
  },
  {
   "cell_type": "markdown",
   "id": "6f4851f5",
   "metadata": {
    "slideshow": {
     "slide_type": "fragment"
    }
   },
   "source": [
    "2) **escolher via código de cores** (consulte tabela sobre isso) **o resistor** indicado pelo professor e encaixar seus terminais no protoboard;"
   ]
  },
  {
   "cell_type": "markdown",
   "id": "85ac1965",
   "metadata": {
    "slideshow": {
     "slide_type": "fragment"
    }
   },
   "source": [
    "3) usar um multímetro em modo voltímetro, desligado, conectando-o em paralelo ao resistor;"
   ]
  },
  {
   "cell_type": "markdown",
   "id": "98bb2783",
   "metadata": {
    "slideshow": {
     "slide_type": "fragment"
    }
   },
   "source": [
    "4) usar um multímetro em modo amperímetro, desligado, conectando-o em série ao resistor, entre o terminal positivo da fonte de tensão e um dos terminais do resistor;"
   ]
  },
  {
   "cell_type": "markdown",
   "id": "611b67a3",
   "metadata": {
    "slideshow": {
     "slide_type": "fragment"
    }
   },
   "source": [
    "5) conectar a alimentação externa na fonte de tensão 3,3/5V, mas **mantendo-a desligada**."
   ]
  },
  {
   "cell_type": "markdown",
   "id": "a7f16cfe",
   "metadata": {
    "slideshow": {
     "slide_type": "subslide"
    }
   },
   "source": [
    "### Medidas"
   ]
  },
  {
   "cell_type": "markdown",
   "id": "2baa8f1d",
   "metadata": {
    "slideshow": {
     "slide_type": "fragment"
    }
   },
   "source": [
    "1) dado o valor do resistor $R$ escolhido, calcule a corrente elétrica $I_R$ teórica para a tensão $V_S = 3,3\\,V$ ou $5,0\\,V$ (vide indicaçao do professor) nominal da fonte (\"source\") de tensão. $R = \\underline{\\ \\ \\ \\ \\ \\ \\ \\ \\ }\\,k\\Omega$, $V_S = \\underline{\\ \\ \\ \\ \\ \\ \\ \\ \\ }\\,V$, $I_R = \\underline{\\ \\ \\ \\ \\ \\ \\ \\ \\ }\\,mA$;"
   ]
  },
  {
   "cell_type": "markdown",
   "id": "09d75f42",
   "metadata": {
    "slideshow": {
     "slide_type": "fragment"
    }
   },
   "source": [
    "2) consultando o manual do multímetro, escolher a escala de tensão  elétrica contínua (DC) mais adequada do multímetro em modo voltímetro, i. e., a menor escala capaz de ler a tensão $V_S$. Escala $= \\underline{\\ \\ \\ \\ \\ \\ \\ \\ \\ }\\,V$;"
   ]
  },
  {
   "cell_type": "markdown",
   "id": "0c0c354a",
   "metadata": {
    "slideshow": {
     "slide_type": "fragment"
    }
   },
   "source": [
    "3) consultando o manual do multímetro, escolher a escala de corrente elétrica contínua (DC) mais adequada do multímetro em modo amperímetro, i. e., a menor escala capaz de ler a corrente $I_R$. Escala $= \\underline{\\ \\ \\ \\ \\ \\ \\ \\ \\ }\\, mA$;"
   ]
  },
  {
   "cell_type": "markdown",
   "id": "113bc595",
   "metadata": {
    "slideshow": {
     "slide_type": "fragment"
    }
   },
   "source": [
    "4) selecionar a fonte de tensão para saída indicada de $V_S$, ligando-a;"
   ]
  },
  {
   "cell_type": "markdown",
   "id": "05a69d0e",
   "metadata": {
    "slideshow": {
     "slide_type": "fragment"
    }
   },
   "source": [
    "5) anotar a leitura da tela do multímetro em modo voltímetro, a escala usada, e via consulta do manual do  multímetro, anotar a resolução e precisão de tal escala. Calcular a partir disso a incerteza e expressar o valor da medida com incerteza e o número correto de algarismos significativos. Preencha na tabela 1;"
   ]
  },
  {
   "cell_type": "markdown",
   "id": "138d18b5",
   "metadata": {
    "slideshow": {
     "slide_type": "subslide"
    }
   },
   "source": [
    "6) anotar a leitura da tela do multímetro em modo amperímetro, a escala usada, e via consulta do manual do  multímetro, anotar a resolução e precisão de tal escala. Calcular a partir disso a incerteza e expressar o valor da medida com incerteza e o número correto de algarismos significativos. Preencha na tabela 2;"
   ]
  },
  {
   "cell_type": "markdown",
   "id": "64d01cc4",
   "metadata": {
    "slideshow": {
     "slide_type": "fragment"
    }
   },
   "source": [
    "7) repetir (5) para todas as escalas possíveis de tensão elétrica contínua (DC) do multímetro, usando a escala mais adequada para a corrente elétrica contínua (DC). **Atenção, sempre desconecte um dos cabos do multímetro antes de mudar a escala, conectando depois**. Preencha a tabela 1 :"
   ]
  },
  {
   "cell_type": "markdown",
   "id": "3d106479",
   "metadata": {
    "slideshow": {
     "slide_type": "fragment"
    }
   },
   "source": [
    "|   n     |  Leitura da tela  | Escala (V)  | Resolução (V) |  Precisão ±(p%+nD)  | $V_R$ (V) com incerteza |\n",
    "|---------|-------------------|-------------|---------------|---------------------|--------------------------|\n",
    "|   1     |                   |             |               |                     |                          |\n",
    "|   2     |                   |             |               |                     |                          |\n",
    "|   3     |                   |             |               |                     |                          |\n",
    "|   4     |                   |             |               |                     |                          |\n",
    "|   5     |                   |             |               |                     |                          |\n",
    "\n",
    "<center>Tabela 1 : Medidas de $V_R$ variando escala do voltímetro.</center>"
   ]
  },
  {
   "cell_type": "markdown",
   "id": "6824b1a1",
   "metadata": {
    "slideshow": {
     "slide_type": "subslide"
    }
   },
   "source": [
    "8) repetir (6) para todas as escalas possíveis de corrente elétrica contínua (DC) do multímetro, usando a escala mais adequada para a tensão elétrica contínua (DC). **Atenção, sempre desconecte um dos cabos do multímetro antes de mudar a escala, conectando depois**. Preencha a tabela 2 :"
   ]
  },
  {
   "cell_type": "markdown",
   "id": "a1f77895",
   "metadata": {
    "slideshow": {
     "slide_type": "fragment"
    }
   },
   "source": [
    "|   n     |  Leitura da tela  |  Escala (A)  |  Resolução (A) |  Precisão ±(p%+nD)  | $I_R$ (mA) com incerteza |\n",
    "|---------|-------------------|--------------|----------------|---------------------|-----------------------------|\n",
    "|   1     |                   |              |                |                     |                             |\n",
    "|   2     |                   |              |                |                     |                             |\n",
    "|   3     |                   |              |                |                     |                             |\n",
    "|   4     |                   |              |                |                     |                             |\n",
    "|   5     |                   |              |                |                     |                             |\n",
    "\n",
    "<center>Tabela 2 : Medidas de $I_R$ variando escala do amperímetro.</center>"
   ]
  },
  {
   "cell_type": "markdown",
   "id": "8a628159",
   "metadata": {
    "slideshow": {
     "slide_type": "subslide"
    }
   },
   "source": [
    "9) **deslige a fonte de tensão e desconecte os dois terminais do resistor do protoboard**. Consultando o manual do multímetro, escolher a escala de resistência elétrica mais adequada do multímetro em modo ohmímetro, i. e., a menor escala capaz de ler a resistência elétrica $R$. Escala $= \\underline{\\ \\ \\ \\ \\ \\ \\ \\ \\ }\\, \\Omega$;"
   ]
  },
  {
   "cell_type": "markdown",
   "id": "5399a927",
   "metadata": {
    "slideshow": {
     "slide_type": "fragment"
    }
   },
   "source": [
    "10) Use o multímetro no modo ohmímetro para medir a resistência elétrica do resistor $R$, conectando os 2 cabos do multímetro nos dois terminais do **resistor (desconectado do protoboard)**. Anotar a leitura da tela do multímetro em modo ohmímetro, a escala usada, e via consulta do manual do multímetro, anotar a resolução e precisão de tal escala. Calcular a partir disso a incerteza e expressar o valor da medida com incerteza e o número correto de algarismos significativos. Repetir para todas as escalas possíveis de resistência elétrica do multímetro. Preencha a tabela 3 :"
   ]
  },
  {
   "cell_type": "markdown",
   "id": "ca1d3fe9",
   "metadata": {
    "slideshow": {
     "slide_type": "fragment"
    }
   },
   "source": [
    "|   n     |  Leitura da tela  |  Escala ($\\Omega$)  |  Resolução ($\\Omega$) |  Precisão ±(p%+nD)  | $R$ ($k\\Omega$) com incerteza |\n",
    "|---------|-------------------|--------------|----------------|---------------------|-----------------------------|\n",
    "|   1     |                   |              |                |                     |                             |\n",
    "|   2     |                   |              |                |                     |                             |\n",
    "|   3     |                   |              |                |                     |                             |\n",
    "|   4     |                   |              |                |                     |                             |\n",
    "|   5     |                   |              |                |                     |                             |\n",
    "\n",
    "<center>Tabela 3 : Medidas de $R$ variando escala do ohmímetro.</center>"
   ]
  },
  {
   "cell_type": "markdown",
   "id": "de52f337",
   "metadata": {
    "slideshow": {
     "slide_type": "subslide"
    }
   },
   "source": [
    "## Análises"
   ]
  },
  {
   "cell_type": "markdown",
   "id": "b73b7137",
   "metadata": {
    "slideshow": {
     "slide_type": "fragment"
    }
   },
   "source": [
    "Na tabela 1 :\n",
    "- as medições de $V_R$ são compatíveis com o valor nominal da fonte de tensão $V_S$, no ítem (1) de \"Medidas\" ?\n",
    "- qual a escala com menor incerteza na medição de $V_R$ ?\n",
    "- é a mesma escala apontada no ítem (2) de \"Medidas\" ?"
   ]
  },
  {
   "cell_type": "markdown",
   "id": "09b76aa2",
   "metadata": {
    "slideshow": {
     "slide_type": "fragment"
    }
   },
   "source": [
    "Na tabela 2 :\n",
    "- as medições de $I_R$ são compatíveis com o valor teórico calculado da corrente elétrica $I_R$, no ítem (1) de \"Medidas\" ?\n",
    "- qual a escala com menor incerteza na medição de $I_R$ ?\n",
    "- é a mesma escala apontada no ítem (3) de \"Medidas\" ?"
   ]
  },
  {
   "cell_type": "markdown",
   "id": "aef419a1",
   "metadata": {
    "slideshow": {
     "slide_type": "subslide"
    }
   },
   "source": [
    "Na tabela 3 :\n",
    "- as medições de $R$ são compatíveis com o valor nominal do resistor $R$ obtido via código de cores, no ítem (1) de \"Medidas\" ?\n",
    "- qual a escala com menor incerteza na medição de $R$ ?\n",
    "- é a mesma escala apontada no ítem (9) de \"Medidas\" ou não ?\n",
    "- calcule **uma vez** $R$ a partir de $V_R$ e $I_R$ medidos nas escalas mais adequadas, ítens (2)-(3) de \"Medidas\", usando propagação de incertezas (manualmente e via propagação de incerteza usando [módulo Python Uncertainties](https://pythonhosted.org/uncertainties/), comparando as incertezas resultantes). Compare com a medição de $R$ na melhor escala e com o valor nominal do resistor $R$."
   ]
  }
 ],
 "metadata": {
  "celltoolbar": "Slideshow",
  "kernelspec": {
   "display_name": "Python 3 (ipykernel)",
   "language": "python",
   "name": "python3"
  },
  "language_info": {
   "codemirror_mode": {
    "name": "ipython",
    "version": 3
   },
   "file_extension": ".py",
   "mimetype": "text/x-python",
   "name": "python",
   "nbconvert_exporter": "python",
   "pygments_lexer": "ipython3",
   "version": "3.10.2"
  }
 },
 "nbformat": 4,
 "nbformat_minor": 5
}
