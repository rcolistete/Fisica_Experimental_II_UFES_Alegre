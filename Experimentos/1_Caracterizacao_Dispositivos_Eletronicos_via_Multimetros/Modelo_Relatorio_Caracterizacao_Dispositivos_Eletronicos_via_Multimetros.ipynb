{
 "cells": [
  {
   "cell_type": "markdown",
   "id": "b6c301fc",
   "metadata": {
    "slideshow": {
     "slide_type": "slide"
    }
   },
   "source": [
    "# Caracterização de Dispositivos Eletrônicos via Multímetros\n",
    "## < Fulana da Silva, Beltrano da Costa, Sicrano de Santos >\n",
    "### Disciplina DQF10441 Física Experimental II - Semestre 2021/1 EARTE\n",
    "### [DQF - CCENS](http://alegre.ufes.br/ccens/departamento-de-quimica-e-fisica) - [UFES/Alegre](http://alegre.ufes.br/)\n",
    "#### Experimento realizado em 13 e 20/08/2021 - Relatório entregue em < 31/08/2021 >\n",
    "#### Professor : [Roberto Colistete Jr.](https://github.com/rcolistete)"
   ]
  },
  {
   "cell_type": "markdown",
   "id": "87527b77",
   "metadata": {
    "slideshow": {
     "slide_type": "slide"
    }
   },
   "source": [
    "# 1 - Objetivos"
   ]
  },
  {
   "cell_type": "markdown",
   "id": "bddd7d6a",
   "metadata": {
    "slideshow": {
     "slide_type": "fragment"
    }
   },
   "source": [
    "< Identifição da razão de se realizar o experimento.\n",
    "\n",
    "Parcialmente baseado em \"Objetivos\" do roteiro.\n",
    "\n",
    "Por exemplo, nesse experimento (fiquem à vontade em alterar) : >"
   ]
  },
  {
   "cell_type": "markdown",
   "id": "c7d91c4c",
   "metadata": {
    "slideshow": {
     "slide_type": "fragment"
    }
   },
   "source": [
    "Esse experimento visa inicialmente praticar circuito elétrico de uma malha com resistor, com fonte de tensão elétrica, protoboard e resistor. Para tanto é necessário o domínio da teoria envolvida de circuitos elétricos, seus componentes e suas grandezas. Bem como domínio da prática de medições das grandezas elétricas utilizando multímetros nos modos voltímetro, amperímetro e ohmímetro, sendo calculadas as incertezas de cada medida."
   ]
  },
  {
   "cell_type": "markdown",
   "id": "1c254a36",
   "metadata": {
    "slideshow": {
     "slide_type": "fragment"
    }
   },
   "source": [
    "A segunda parte do experimento visa praticar circuitos eletrônicos de uma malha com resistor, diodo e LED (diodo emissor de luz). Para tanto é necessário o domínio da teoria envolvida de circuitos eletrônicos, seus componentes e suas grandezas. Bem como domínio da prática de medições das grandezas elétricas utilizando multímetros nos modos voltímetro e amperímetro para obter a curva $V \\times I$ de caracterização de cada componente : resistor, diodo e LED. Sendo que as incertezas das medidas são calculadas e propagadas via software."
   ]
  },
  {
   "cell_type": "markdown",
   "id": "93e2a453",
   "metadata": {
    "slideshow": {
     "slide_type": "slide"
    }
   },
   "source": [
    "# 2 - Teoria"
   ]
  },
  {
   "cell_type": "markdown",
   "id": "39fb0bdc",
   "metadata": {
    "slideshow": {
     "slide_type": "fragment"
    }
   },
   "source": [
    "< Resumo teórico, geralmente é advindo de um texto maior encontrado em livros de Física (que vem ser citados).\n",
    "\n",
    "Parcialmente baseada em \"Teoria\" e \"Equipamento\" do roteiro.\n",
    "\n",
    "Teoria resumida, tipicamente com 1 a 2 parágrafos, sobre certos tópicos e ítens. >"
   ]
  },
  {
   "cell_type": "markdown",
   "id": "62f51ed3",
   "metadata": {
    "slideshow": {
     "slide_type": "fragment"
    }
   },
   "source": [
    "< Teoria de grandezas elétricas : tensão elétrica, corrente elétrica e resistência elétrica (e lei de Ohm).\n",
    "\n",
    "Segundo [HRW], ... >"
   ]
  },
  {
   "cell_type": "markdown",
   "id": "bd5f91ff",
   "metadata": {
    "slideshow": {
     "slide_type": "fragment"
    }
   },
   "source": [
    "< Teoria de circuitos elétricos de uma malha. Com imagem de um exemplo. >"
   ]
  },
  {
   "cell_type": "markdown",
   "id": "0d0093e4",
   "metadata": {
    "slideshow": {
     "slide_type": "fragment"
    }
   },
   "source": [
    "< Teoria de condutores, isolantes e semicondutores elétricos. >"
   ]
  },
  {
   "cell_type": "markdown",
   "id": "f0d445ac",
   "metadata": {
    "slideshow": {
     "slide_type": "subslide"
    }
   },
   "source": [
    "< Teoria de resistor (ôhmico) e código de cores. Com imagem/foto de exemplo. Com imagem do símbolo de resistor adotado em diagrama esquemático. >"
   ]
  },
  {
   "cell_type": "markdown",
   "id": "5d4f6e61",
   "metadata": {
    "slideshow": {
     "slide_type": "fragment"
    }
   },
   "source": [
    "< Teoria de diodo. Com imagem/foto de exemplo. Com imagem do símbolo de diodo adotado em diagrama esquemático. >"
   ]
  },
  {
   "cell_type": "markdown",
   "id": "aec629b2",
   "metadata": {
    "slideshow": {
     "slide_type": "fragment"
    }
   },
   "source": [
    "< Teoria de LED (diodo emissor de luz) e tipos/cores disponíveis. Com imagem/foto de exemplo. Com imagem do símbolo de LED adotado em diagrama esquemático. >"
   ]
  },
  {
   "cell_type": "markdown",
   "id": "b14bc87d",
   "metadata": {
    "slideshow": {
     "slide_type": "fragment"
    }
   },
   "source": [
    "< Teoria de fonte de tensão elétrica. Com imagem/foto de exemplo. Com imagem do símbolo de fonte de tensão elétrica adotado em diagrama esquemático. >"
   ]
  },
  {
   "cell_type": "markdown",
   "id": "8e585265",
   "metadata": {
    "slideshow": {
     "slide_type": "fragment"
    }
   },
   "source": [
    "< Teoria de princípio de funcionamento de voltímetro, amperímetro e ohmímetro. Com imagem/foto de exemplo. >"
   ]
  },
  {
   "cell_type": "markdown",
   "id": "9f9c6611",
   "metadata": {
    "slideshow": {
     "slide_type": "slide"
    }
   },
   "source": [
    "# 3 - Procedimento Experimental"
   ]
  },
  {
   "cell_type": "markdown",
   "id": "3c6fb616",
   "metadata": {
    "slideshow": {
     "slide_type": "fragment"
    }
   },
   "source": [
    "< Descrição precisa do que foi usado e como foi usado no experimento.\n",
    "\n",
    "Parcialmente baseado em \"Equipamento\" e \"Procedimento Experimental\" do roteiro.\n",
    "\n",
    "Nesta seção são descritos os procedimentos empregados para efetuar as medidas e são descritas as montagens experimentais utilizadas. Diagramas esquemáticos das experiências são bastante úteis pois facilitam a visualização.  Este procedimento não é uma cópia do roteiro do experimento, podendo o relatório ser mais resumido que o roteiro. \n",
    "\n",
    "Por exemplo, nesse experimento (fiquem à vontade em alterar) : >"
   ]
  },
  {
   "cell_type": "markdown",
   "id": "49efd271",
   "metadata": {
    "slideshow": {
     "slide_type": "subslide"
    }
   },
   "source": [
    "## 3.1 - Medindo Tensão, Corrente e Resistência Elétricas com Multímetro"
   ]
  },
  {
   "cell_type": "markdown",
   "id": "38686094",
   "metadata": {
    "slideshow": {
     "slide_type": "fragment"
    }
   },
   "source": [
    "Essa parte do experimento consiste de um circuito elétrico de uma malha com resistor, com fonte de tensão elétrica de 3,3/5V, protoboard, fios e resistor.\n",
    "\n",
    "Bem como 2 multímetros com pontas-de-prova e garras jacaré, sendo usados nos modos voltímetro, amperímetro e ohmímetro."
   ]
  },
  {
   "cell_type": "markdown",
   "id": "590a4151",
   "metadata": {
    "slideshow": {
     "slide_type": "fragment"
    }
   },
   "source": [
    "A montagem é feita sob orientação do professor, conectando a fonte de tensão 3,3/5V no protoboard, o resistor indicado pelo professor no protoboard, um multímetro em modo voltímetro conectado em paralelo ao resistor, outro multímetro em modo amperímetro em série ao resistor (entre o terminal positivo da fonte de tensão e um dos terminais do resistor).\n",
    "\n",
    "Todas as conexões devem ser feitas com a fonte de tensão elétrica desligada e os multímetros desligados. Ssempre deve ser desconectado um dos cabos do multímetro antes de ligar ou mudar a escala, conectando depois."
   ]
  },
  {
   "cell_type": "markdown",
   "id": "55072427",
   "metadata": {
    "slideshow": {
     "slide_type": "subslide"
    }
   },
   "source": [
    "<center> Figura N - Diagrama esquemático do circuito elétrico com resistor. </center>"
   ]
  },
  {
   "cell_type": "markdown",
   "id": "249c3710",
   "metadata": {
    "slideshow": {
     "slide_type": "fragment"
    }
   },
   "source": [
    "São feitas medições em todas as escalas possíveis de tensão elétrica contínua (DC) do multímetro, bem como medições em todas as escalas possíveis de corrente elétrica contínua (DC) do multímetro."
   ]
  },
  {
   "cell_type": "markdown",
   "id": "b66061f2",
   "metadata": {
    "slideshow": {
     "slide_type": "fragment"
    }
   },
   "source": [
    "Ao final a resistência elétrica do resistor é medida via multímetro no modo ohmímetro, com o resistor desconectado do protoboard, novamente usando todas as escalas possíveis do multímetro."
   ]
  },
  {
   "cell_type": "markdown",
   "id": "e9b36d05",
   "metadata": {
    "slideshow": {
     "slide_type": "subslide"
    }
   },
   "source": [
    "## 3.2 - Caracterização de Resistor, Diodo e LED com Multímetro"
   ]
  },
  {
   "cell_type": "markdown",
   "id": "9049c8d2",
   "metadata": {
    "slideshow": {
     "slide_type": "fragment"
    }
   },
   "source": [
    "Essa segunda parte do experimento consiste de um circuito eletrônico de uma malha com resistor, com fonte de tensão elétrica regulável, protoboard, fios, 1-2 resistores, diodo e LED.\n",
    "\n",
    "Bem como 2 multímetros com pontas-de-prova e garras jacaré, sendo usados nos modos voltímetro e amperímetro."
   ]
  },
  {
   "cell_type": "markdown",
   "id": "bff70e2d",
   "metadata": {
    "slideshow": {
     "slide_type": "fragment"
    }
   },
   "source": [
    "A montagem e medições são feitas pelo professor, pois a fonte de tensão regulável é equipamento mais complexo e caro e por isso não está presente no kit de material fornecido aos grupos."
   ]
  },
  {
   "cell_type": "markdown",
   "id": "036063d9",
   "metadata": {
    "slideshow": {
     "slide_type": "fragment"
    }
   },
   "source": [
    "A montagem, se feita pelos alunos, é sob orientação do professor. Todas as conexões devem ser feitas com a fonte de tensão elétrica desligada e os multímetros desligados. Sempre deve ser desconectado um dos cabos do multímetro antes de ligar ou mudar a escala, conectando depois."
   ]
  },
  {
   "cell_type": "markdown",
   "id": "abbf7780",
   "metadata": {
    "slideshow": {
     "slide_type": "subslide"
    }
   },
   "source": [
    "### 3.2.1 - Caracterização $V \\times I$ de Resistor $R_C$"
   ]
  },
  {
   "cell_type": "markdown",
   "id": "194d66c4",
   "metadata": {
    "slideshow": {
     "slide_type": "fragment"
    }
   },
   "source": [
    "A montagem é feita conectando a fonte de tensão regulável no protoboard, os resistores indicados pelo professor em série no protoboard, um multímetro em modo voltímetro conectado em paralelo ao resistor carga, outro multímetro em modo amperímetro em série ao resistor carga (entre o resistor limitador e resistor carga)."
   ]
  },
  {
   "cell_type": "markdown",
   "id": "d50e6e14",
   "metadata": {
    "slideshow": {
     "slide_type": "fragment"
    }
   },
   "source": [
    "<center> Figura N - Diagrama esquemático do circuito elétrico com 2 resistores em série. </center>"
   ]
  },
  {
   "cell_type": "markdown",
   "id": "a55f4000",
   "metadata": {
    "slideshow": {
     "slide_type": "fragment"
    }
   },
   "source": [
    "São feitas medições de tensão e corrente elétrica sobre o resistor carga $R_C$, variando a fonte de tensão regulável de $0\\,V$ até $V_{Smax}$ em 10 passos (variando 10%), depois é invertida a polaridade e repetido o procedimento, com 21 valores ao todo."
   ]
  },
  {
   "cell_type": "markdown",
   "id": "cbd6bea5",
   "metadata": {
    "slideshow": {
     "slide_type": "subslide"
    }
   },
   "source": [
    "### 3.2.2 - Caracterização $V \\times I$ de Diodo $D$"
   ]
  },
  {
   "cell_type": "markdown",
   "id": "89cf4eca",
   "metadata": {
    "slideshow": {
     "slide_type": "fragment"
    }
   },
   "source": [
    "É substituída a carga $R_C$ pelo diodo $D$ indicado (com catodo, indicado pela faixa, conectado no terminal negativo da fonte de tensão regulável)."
   ]
  },
  {
   "cell_type": "markdown",
   "id": "533e89da",
   "metadata": {
    "slideshow": {
     "slide_type": "fragment"
    }
   },
   "source": [
    "<center> Figura N - Diagrama esquemático do circuito elétrico com 1 resistor e 1 diodo em série. </center>"
   ]
  },
  {
   "cell_type": "markdown",
   "id": "e6360429",
   "metadata": {
    "slideshow": {
     "slide_type": "fragment"
    }
   },
   "source": [
    "São feitas medições de tensão e corrente elétrica sobre o diodo $D$, variando a fonte de tensão regulável de $0\\,V$ até $V_{Smax}$ em 10 passos (variando 10%), depois é invertida a polaridade e repetido o procedimento porém variando 50%, com 13 valores ao todo."
   ]
  },
  {
   "cell_type": "markdown",
   "id": "4bbb6c2a",
   "metadata": {
    "slideshow": {
     "slide_type": "subslide"
    }
   },
   "source": [
    "### 3.2.3 - Caracterização $V \\times I$ de LED"
   ]
  },
  {
   "cell_type": "markdown",
   "id": "6b66f86f",
   "metadata": {
    "slideshow": {
     "slide_type": "fragment"
    }
   },
   "source": [
    "É substituída a carga $R_C$ pelo LED indicado (com catodo, indicado pelo terminal mais curto, conectado no terminal negativo da fonte de tensão regulável)."
   ]
  },
  {
   "cell_type": "markdown",
   "id": "0f31ea18",
   "metadata": {
    "slideshow": {
     "slide_type": "fragment"
    }
   },
   "source": [
    "<center> Figura N - Diagrama esquemático do circuito elétrico com 1 resistor e 1 LED em série. </center>"
   ]
  },
  {
   "cell_type": "markdown",
   "id": "76df26c5",
   "metadata": {
    "slideshow": {
     "slide_type": "fragment"
    }
   },
   "source": [
    "São feitas medições de tensão e corrente elétrica sobre o LED, variando a fonte de tensão regulável de $0\\,V$ até $V_{Smax}$ em 10 passos (variando 10%), depois é invertida a polaridade e repetido o procedimento porém variando 50%, com 13 valores ao todo."
   ]
  },
  {
   "cell_type": "markdown",
   "id": "b42f941d",
   "metadata": {
    "slideshow": {
     "slide_type": "slide"
    }
   },
   "source": [
    "# 4 - Resultados e Discussão"
   ]
  },
  {
   "cell_type": "markdown",
   "id": "34feb66c",
   "metadata": {
    "slideshow": {
     "slide_type": "fragment"
    }
   },
   "source": [
    "< Apresentação dos dados medidos e dos principais resultados do experimento, com incertezas, o número correto de algarismos significativos e em notação científica. É nessa seção que se discute mais amplamente esses resultados apresentados.\n",
    "\n",
    "Parcialmente baseado em \"Procedimento Experimental / Medidas\" e \"Análises\" do roteiro.\n",
    "\n",
    "Esta seção é o coração do relatório. Nela são apresentados os dados obtidos em forma de fotos, tabelas, gráficos e diagramas. Lembre-se que quando o volume de dados é elevado os gráficos devem ter preferência sobre as tabelas.\n",
    "\n",
    "Lembre-se que toda medida experimental apresenta uma incerteza e portanto as contas efetuadas devem levar estas em consideração via propagação de incertezas.\n",
    "\n",
    "Por exemplo, nesse experimento (fiquem à vontade em alterar) : >"
   ]
  },
  {
   "cell_type": "markdown",
   "id": "84933474",
   "metadata": {
    "slideshow": {
     "slide_type": "subslide"
    }
   },
   "source": [
    "## 4.1 - Medindo Tensão, Corrente e Resistência Elétricas com Multímetro"
   ]
  },
  {
   "cell_type": "markdown",
   "id": "5b09a799",
   "metadata": {
    "slideshow": {
     "slide_type": "fragment"
    }
   },
   "source": [
    "1) Calculando a corrente elétrica $I_R$ teórica para o valor do resistor $R$ escolhido e a tensão $V_S = 3,3\\,V$ ou $5,0\\,V$ (vide indicaçao do professor) nominal da fonte (\"source\") de tensão :\n",
    "\n",
    "$R = \\underline{\\ \\ \\ \\ \\ \\ \\ \\ \\ }\\,k\\Omega$\n",
    "\n",
    "$V_S = \\underline{\\ \\ \\ \\ \\ \\ \\ \\ \\ }\\,V$\n",
    "\n",
    "$I_R = \\underline{\\ \\ \\ \\ \\ \\ \\ \\ \\ }\\,mA$\n",
    "\n",
    "Vide 7.1.1 de Anexos. "
   ]
  },
  {
   "cell_type": "markdown",
   "id": "8e1044ed",
   "metadata": {
    "slideshow": {
     "slide_type": "fragment"
    }
   },
   "source": [
    "2) Após consulta do manual do multímetro, a escolha da escala de tensão elétrica contínua (DC) mais adequada do multímetro em modo voltímetro, i. e., a menor escala capaz de ler a tensão $V_S$ :\n",
    "\n",
    "Escala $= \\underline{\\ \\ \\ \\ \\ \\ \\ \\ \\ }\\,V$"
   ]
  },
  {
   "cell_type": "markdown",
   "id": "144936a6",
   "metadata": {
    "slideshow": {
     "slide_type": "fragment"
    }
   },
   "source": [
    "3) Após consulta do manual do multímetro, a escolha da escala de corrente elétrica contínua (DC) mais adequada do multímetro em modo amperímetro, i. e., a menor escala capaz de ler a corrente $I_R$ :\n",
    "\n",
    "Escala $= \\underline{\\ \\ \\ \\ \\ \\ \\ \\ \\ }\\, mA$"
   ]
  },
  {
   "cell_type": "markdown",
   "id": "0306bce6",
   "metadata": {
    "slideshow": {
     "slide_type": "subslide"
    }
   },
   "source": [
    "<center> Figura N - Foto do circuito elétrico com resistor. </center>"
   ]
  },
  {
   "cell_type": "markdown",
   "id": "3d106479",
   "metadata": {
    "slideshow": {
     "slide_type": "fragment"
    }
   },
   "source": [
    "|   n     |  Leitura da tela  | Escala (V)  | Resolução (V) |  Precisão ±(p%+nD)  | $V_R$ (V) com incerteza |\n",
    "|---------|-------------------|-------------|---------------|---------------------|--------------------------|\n",
    "|   1     |                   |             |               |                     |                          |\n",
    "|   2     |                   |             |               |                     |                          |\n",
    "|   3     |                   |             |               |                     |                          |\n",
    "|   4     |                   |             |               |                     |                          |\n",
    "|   5     |                   |             |               |                     |                          |\n",
    "\n",
    "<center>Tabela 1 : Medidas de $V_R$ variando escala do voltímetro.</center>\n",
    "\n",
    "Vide 7.1.1 de Anexos."
   ]
  },
  {
   "cell_type": "markdown",
   "id": "b73b7137",
   "metadata": {
    "slideshow": {
     "slide_type": "fragment"
    }
   },
   "source": [
    "Na tabela 1 :\n",
    "- as medições de $V_R$ são compatíveis com o valor nominal da fonte de tensão $V_S$, no ítem (1) de \"Medidas\" ?\n",
    "- qual a escala com menor incerteza na medição de $V_R$ ?\n",
    "- é a mesma escala apontada no ítem (2) de \"Medidas\" ?\n",
    "\n",
    "..."
   ]
  },
  {
   "cell_type": "markdown",
   "id": "a1f77895",
   "metadata": {
    "slideshow": {
     "slide_type": "subslide"
    }
   },
   "source": [
    "|   n     |  Leitura da tela  |  Escala (A)  |  Resolução (A) |  Precisão ±(p%+nD)  | $I_R$ (mA) com incerteza |\n",
    "|---------|-------------------|--------------|----------------|---------------------|-----------------------------|\n",
    "|   1     |                   |              |                |                     |                             |\n",
    "|   2     |                   |              |                |                     |                             |\n",
    "|   3     |                   |              |                |                     |                             |\n",
    "|   4     |                   |              |                |                     |                             |\n",
    "|   5     |                   |              |                |                     |                             |\n",
    "\n",
    "<center>Tabela 2 : Medidas de $I_R$ variando escala do amperímetro.</center>\n",
    "\n",
    "Vide 7.1.1 de Anexos."
   ]
  },
  {
   "cell_type": "markdown",
   "id": "09b76aa2",
   "metadata": {
    "slideshow": {
     "slide_type": "fragment"
    }
   },
   "source": [
    "Na tabela 2 :\n",
    "- as medições de $I_R$ são compatíveis com o valor teórico calculado da corrente elétrica $I_R$, no ítem (1) de \"Medidas\" ?\n",
    "- qual a escala com menor incerteza na medição de $I_R$ ?\n",
    "- é a mesma escala apontada no ítem (3) de \"Medidas\" ?\n",
    "\n",
    "..."
   ]
  },
  {
   "cell_type": "markdown",
   "id": "3d62cb36",
   "metadata": {
    "slideshow": {
     "slide_type": "subslide"
    }
   },
   "source": [
    "9) Após consulta do manual do multímetro, a escolha da escala de resistência elétrica mais adequada do multímetro em modo ohmímetro, i. e., a menor escala capaz de ler a resistência elétrica $R$ :\n",
    "\n",
    "Escala $= \\underline{\\ \\ \\ \\ \\ \\ \\ \\ \\ }\\, \\Omega$"
   ]
  },
  {
   "cell_type": "markdown",
   "id": "ca1d3fe9",
   "metadata": {
    "slideshow": {
     "slide_type": "fragment"
    }
   },
   "source": [
    "|   n     |  Leitura da tela  |  Escala ($\\Omega$)  |  Resolução ($\\Omega$) |  Precisão ±(p%+nD)  | $R$ ($k\\Omega$) com incerteza |\n",
    "|---------|-------------------|--------------|----------------|---------------------|-----------------------------|\n",
    "|   1     |                   |              |                |                     |                             |\n",
    "|   2     |                   |              |                |                     |                             |\n",
    "|   3     |                   |              |                |                     |                             |\n",
    "|   4     |                   |              |                |                     |                             |\n",
    "|   5     |                   |              |                |                     |                             |\n",
    "\n",
    "<center>Tabela 3 : Medidas de $R$ variando escala do ohmímetro.</center>\n",
    "\n",
    "Vide 7.1.1 de Anexos."
   ]
  },
  {
   "cell_type": "markdown",
   "id": "aef419a1",
   "metadata": {
    "slideshow": {
     "slide_type": "subslide"
    }
   },
   "source": [
    "Na tabela 3 :\n",
    "- as medições de $R$ são compatíveis com o valor nominal do resistor $R$ obtido via código de cores, no ítem (1) de \"Medidas\" ?\n",
    "- qual a escala com menor incerteza na medição de $R$ ?\n",
    "- é a mesma escala apontada no ítem (9) de \"Medidas\" ou não ?\n",
    "- calcule **uma vez** $R$ a partir de $V_R$ e $I_R$ medidos nas escalas mais adequadas, ítens (2)-(3) de \"Medidas\", usando propagação de incertezas (manualmente e via propagação de incerteza usando [módulo Python Uncertainties](https://pythonhosted.org/uncertainties/), comparando as incertezas resultantes). Compare com a medição de $R$ na melhor escala e com o valor nominal do resistor $R$.\n",
    "\n",
    "...\n",
    "\n",
    "Vide 7.1.2 de Anexos.\n",
    "\n",
    "..."
   ]
  },
  {
   "cell_type": "markdown",
   "id": "8fd0d2c4",
   "metadata": {
    "slideshow": {
     "slide_type": "subslide"
    }
   },
   "source": [
    "## 4.2 - Caracterização de Resistor, Diodo e LED com Multímetro"
   ]
  },
  {
   "cell_type": "markdown",
   "id": "6059102c",
   "metadata": {
    "slideshow": {
     "slide_type": "fragment"
    }
   },
   "source": [
    "As medições são feitas pelo professor, pois a fonte de tensão regulável é equipamento mais complexo e caro e por isso não está presente no kit de material fornecido aos grupos."
   ]
  },
  {
   "cell_type": "markdown",
   "id": "c089fe33",
   "metadata": {
    "slideshow": {
     "slide_type": "fragment"
    }
   },
   "source": [
    "### 4.2.1 - Caracterização $V \\times I$ de Resistor $R_C$"
   ]
  },
  {
   "cell_type": "markdown",
   "id": "945ec3ec",
   "metadata": {
    "slideshow": {
     "slide_type": "fragment"
    }
   },
   "source": [
    "1) Calculando a corrente elétrica $I_{max}$ teórica máxima para os valores dos resistores $R_L$ e $R_C$ escolhidos e a tensão $V_{Smax}$ máxima nominal da fonte (\"source\") de tensão regulável :\n",
    "\n",
    "$R_L = \\underline{\\ \\ \\ \\ \\ \\ \\ \\ \\ }\\,k\\Omega$\n",
    "\n",
    "$R_C = \\underline{\\ \\ \\ \\ \\ \\ \\ \\ \\ }\\,k\\Omega$\n",
    "\n",
    "$V_{Smax} = \\underline{\\ \\ \\ \\ \\ \\ \\ \\ \\ }\\,V$\n",
    "\n",
    "$I_{max} = \\underline{\\ \\ \\ \\ \\ \\ \\ \\ \\ }\\,mA$\n",
    "\n",
    "Vide 7.2.1.1 de Anexos. "
   ]
  },
  {
   "cell_type": "markdown",
   "id": "104cf1c7",
   "metadata": {
    "slideshow": {
     "slide_type": "subslide"
    }
   },
   "source": [
    "2) Após consideração do divisor de tensão com $R_L$ e $R_C$ e consulta do manual do multímetro, a escolha da escala de tensão elétrica contínua (DC) mais adequada do multímetro em modo voltímetro, i. e., a menor escala capaz de ler a tensão $V_{R_Cmax}$ :\n",
    "\n",
    "Escala $= \\underline{\\ \\ \\ \\ \\ \\ \\ \\ \\ }\\,V$\n",
    "\n",
    "Vide 7.2.1.1 de Anexos. "
   ]
  },
  {
   "cell_type": "markdown",
   "id": "95ba037f",
   "metadata": {
    "slideshow": {
     "slide_type": "fragment"
    }
   },
   "source": [
    "3) Após consulta do manual do multímetro, a escolha da escala de corrente elétrica contínua (DC) mais adequada do multímetro em modo amperímetro, i. e., a menor escala capaz de ler a corrente  $I_{max}$ :\n",
    "\n",
    "Escala $= \\underline{\\ \\ \\ \\ \\ \\ \\ \\ \\ }\\, mA$"
   ]
  },
  {
   "cell_type": "markdown",
   "id": "74ae07d3",
   "metadata": {
    "slideshow": {
     "slide_type": "fragment"
    }
   },
   "source": [
    "<center> Figura N - Foto do circuito elétrico com 2 resistores em série. </center>"
   ]
  },
  {
   "cell_type": "markdown",
   "id": "fded8ec6",
   "metadata": {
    "slideshow": {
     "slide_type": "subslide"
    }
   },
   "source": [
    "| n  | $V_S\\,(V)$ |  Leitura da tela  | Escala (V)  | Resolução (V) |  Precisão ±(p%+nD)  | $V_{R_C}$ (V) com incerteza |\n",
    "|----|------------|-------------------|-------------|---------------|---------------------|----------------------------------|\n",
    "|  1 |            |                   |             |               |                     |                                   |\n",
    "|  2 |            |                   |             |               |                     |                                   |\n",
    "|  3 |            |                   |             |               |                     |                                   |\n",
    "|  4 |            |                   |             |               |                     |                                   |\n",
    "|  5 |            |                   |             |               |                     |                                   |\n",
    "|  6 |            |                   |             |               |                     |                                   |\n",
    "|  7 |            |                   |             |               |                     |                                   |\n",
    "|  8 |            |                   |             |               |                     |                                   |\n",
    "|  9 |            |                   |             |               |                     |                                   |\n",
    "| 10 |            |                   |             |               |                     |                                   |\n",
    "| 11 |            |                   |             |               |                     |                                   |\n",
    "| 12 |            |                   |             |               |                     |                                   |\n",
    "| 13 |            |                   |             |               |                     |                                   |\n",
    "| 14 |            |                   |             |               |                     |                                   |\n",
    "| 15 |            |                   |             |               |                     |                                   |\n",
    "| 16 |            |                   |             |               |                     |                                   |\n",
    "| 17 |            |                   |             |               |                     |                                   |\n",
    "| 18 |            |                   |             |               |                     |                                   |\n",
    "| 19 |            |                   |             |               |                     |                                   |\n",
    "| 20 |            |                   |             |               |                     |                                   |\n",
    "| 21 |            |                   |             |               |                     |                                   |\n",
    "\n",
    "<center>Tabela 4 : Medidas de $V_{R_C}$ variando $V_S$, cujos dados são repassados para cada grupo.</center>\n",
    "\n",
    "Vide 7.2.1.1 de Anexos. "
   ]
  },
  {
   "cell_type": "markdown",
   "id": "82c9175a",
   "metadata": {
    "slideshow": {
     "slide_type": "subslide"
    }
   },
   "source": [
    "| n  | $V_S\\,(V)$ |  Leitura da tela  | Escala (A)  | Resolução (A) |  Precisão ±(p%+nD)  | $I_{R_C}$ (V) com incerteza |\n",
    "|----|------------|-------------------|-------------|---------------|---------------------|----------------------------------|\n",
    "|  1 |            |                   |             |               |                     |                                   |\n",
    "|  2 |            |                   |             |               |                     |                                   |\n",
    "|  3 |            |                   |             |               |                     |                                   |\n",
    "|  4 |            |                   |             |               |                     |                                   |\n",
    "|  5 |            |                   |             |               |                     |                                   |\n",
    "|  6 |            |                   |             |               |                     |                                   |\n",
    "|  7 |            |                   |             |               |                     |                                   |\n",
    "|  8 |            |                   |             |               |                     |                                   |\n",
    "|  9 |            |                   |             |               |                     |                                   |\n",
    "| 10 |            |                   |             |               |                     |                                   |\n",
    "| 11 |            |                   |             |               |                     |                                   |\n",
    "| 12 |            |                   |             |               |                     |                                   |\n",
    "| 13 |            |                   |             |               |                     |                                   |\n",
    "| 14 |            |                   |             |               |                     |                                   |\n",
    "| 15 |            |                   |             |               |                     |                                   |\n",
    "| 16 |            |                   |             |               |                     |                                   |\n",
    "| 17 |            |                   |             |               |                     |                                   |\n",
    "| 18 |            |                   |             |               |                     |                                   |\n",
    "| 19 |            |                   |             |               |                     |                                   |\n",
    "| 20 |            |                   |             |               |                     |                                   |\n",
    "| 21 |            |                   |             |               |                     |                                   |\n",
    "\n",
    "<center>Tabela 5 : Medidas de $I_{R_C}$ variando $V_S$, cujos dados são repassados para cada grupo.</center>\n",
    "\n",
    "Vide 7.2.1.1 de Anexos. "
   ]
  },
  {
   "cell_type": "markdown",
   "id": "e245c449",
   "metadata": {
    "slideshow": {
     "slide_type": "subslide"
    }
   },
   "source": [
    "Gráfico de $V_{R_C} \\times I_{R_C}$ (ou seja, $I_{R_C}$ no eixo horizontal), usando SciDAVis (ou AlphaPlot, ou Python), com barras de incerteza e cálculo de ajuste de curva :"
   ]
  },
  {
   "cell_type": "markdown",
   "id": "e554326a",
   "metadata": {
    "slideshow": {
     "slide_type": "fragment"
    }
   },
   "source": [
    "<center> Figura N - gráfico de $V_{R_C} \\times I_{R_C}$. </center>"
   ]
  },
  {
   "cell_type": "markdown",
   "id": "31ec43d4",
   "metadata": {
    "slideshow": {
     "slide_type": "subslide"
    }
   },
   "source": [
    "A curva é linear ou não-linear ?\n",
    "\n",
    "R.: \n",
    "\n",
    "Obtenha o coeficiente angular do ajuste linear e compare com o valor nominal de $R_C$.\n",
    "\n",
    "R.: \n",
    "\n",
    "Vide 7.2.2.1 de Anexos.\n",
    "\n",
    "Ou seja, analisando graficamente, o resistor $R_C$ segue a lei de Ohm ?\n",
    "\n",
    "R.: "
   ]
  },
  {
   "cell_type": "markdown",
   "id": "2d4982a9",
   "metadata": {
    "slideshow": {
     "slide_type": "fragment"
    }
   },
   "source": [
    "Ao inverter a polaridade da fonte de tensão $V_S$, o que ocorre com as medidas elétricas do resistor $R_C$ ?\n",
    "\n",
    "R.:\n",
    "\n",
    "Então resistor tem polaridade, só conduzindo em um sentido ?\n",
    "\n",
    "R.:"
   ]
  },
  {
   "cell_type": "markdown",
   "id": "e3426de3",
   "metadata": {
    "slideshow": {
     "slide_type": "fragment"
    }
   },
   "source": [
    "A partir dos valores de $V_{R_C}$ da tabela 4 e $I_{R_C}$ da tabela 5, é calculada a potência $P_{R_C} = V_{R_C} I_{R_C}$ com propagação de incertezas usando módulo [Python Uncertainties](https://pythonhosted.org/uncertainties/) com [NumPy](https://pythonhosted.org/uncertainties/numpy_guide.html), criando a tabela 10 :"
   ]
  },
  {
   "cell_type": "markdown",
   "id": "20827c5d",
   "metadata": {
    "slideshow": {
     "slide_type": "subslide"
    }
   },
   "source": [
    "| n  | $V_{R_C}\\,(V)$ com incerteza |  $I_{R_C}\\,(V)$ com incerteza | $P_{R_C}\\,(V)$ com incerteza |\n",
    "|:--:|:----------------------------:|:-----------------------------:|:----------------------------:|\n",
    "|  1 |                              |                               |                              |\n",
    "|  2 |                              |                               |                              |\n",
    "|  3 |                              |                               |                              |\n",
    "|  4 |                              |                               |                              |\n",
    "|  5 |                              |                               |                              |\n",
    "|  6 |                              |                               |                              |\n",
    "|  7 |                              |                               |                              |\n",
    "|  8 |                              |                               |                              |\n",
    "|  9 |                              |                               |                              |\n",
    "| 10 |                              |                               |                              |\n",
    "| 11 |                              |                               |                              |\n",
    "| 12 |                              |                               |                              |\n",
    "| 13 |                              |                               |                              |\n",
    "| 14 |                              |                               |                              |\n",
    "| 15 |                              |                               |                              |\n",
    "| 16 |                              |                               |                              |\n",
    "| 17 |                              |                               |                              |\n",
    "| 18 |                              |                               |                              |\n",
    "| 19 |                              |                               |                              |\n",
    "| 20 |                              |                               |                              |\n",
    "| 21 |                              |                               |                              |\n",
    "\n",
    "<center>Tabela 10 : $P_{R_C}$ variando $V_S$.</center>\n",
    "\n",
    "Vide 7.2.2.1 de Anexos."
   ]
  },
  {
   "cell_type": "markdown",
   "id": "72f45923",
   "metadata": {
    "slideshow": {
     "slide_type": "subslide"
    }
   },
   "source": [
    "Gráfico de $P_{R_C} \\times I_{R_C}$ (ou seja, $I_{R_C}$ no eixo horizontal), usando SciDAVis (ou AlphaPlot, ou Python), com barras de incerteza :"
   ]
  },
  {
   "cell_type": "markdown",
   "id": "e74b3777",
   "metadata": {
    "slideshow": {
     "slide_type": "fragment"
    }
   },
   "source": [
    "<center> Figura N - gráfico de $P_{R_C} \\times I_{R_C}$. </center>"
   ]
  },
  {
   "cell_type": "markdown",
   "id": "9003f658",
   "metadata": {
    "slideshow": {
     "slide_type": "subslide"
    }
   },
   "source": [
    "A curva é linear ou não-linear, de que tipo ? \n",
    "\n",
    "R.:\n",
    "\n",
    "Compare com o comportamento previsto teoricamente de $P_{R_C}$ em termos de $R_C$ e $I_{R_C}$.\n",
    "\n",
    "R.:"
   ]
  },
  {
   "cell_type": "markdown",
   "id": "4e8a3d13",
   "metadata": {
    "slideshow": {
     "slide_type": "fragment"
    }
   },
   "source": [
    "... Discussão ..."
   ]
  },
  {
   "cell_type": "markdown",
   "id": "0ddaf93f",
   "metadata": {
    "slideshow": {
     "slide_type": "subslide"
    }
   },
   "source": [
    "### 4.2.2 - Caracterização $V \\times I$ de Diodo $D$"
   ]
  },
  {
   "cell_type": "markdown",
   "id": "a64d4222",
   "metadata": {
    "slideshow": {
     "slide_type": "fragment"
    }
   },
   "source": [
    "1) Calculando a corrente elétrica $I_{max}$ teórica máxima considerando a queda de tensão $V_{Dmax}$, os valores do resistor $R_L$ escolhido e a tensão $V_{Smax}$ máxima nominal da fonte (\"source\") de tensão regulável :\n",
    "\n",
    "$R_L = \\underline{\\ \\ \\ \\ \\ \\ \\ \\ \\ }\\,k\\Omega$\n",
    "\n",
    "$V_{Dmax} = \\underline{\\ \\ \\ \\ \\ \\ \\ \\ \\ }\\,V$\n",
    "\n",
    "$V_{Smax} = \\underline{\\ \\ \\ \\ \\ \\ \\ \\ \\ }\\,V$\n",
    "\n",
    "$I_{max} = \\underline{\\ \\ \\ \\ \\ \\ \\ \\ \\ }\\,mA$\n",
    "\n",
    "Vide 7.2.1.2 de Anexos. "
   ]
  },
  {
   "cell_type": "markdown",
   "id": "e4791970",
   "metadata": {
    "slideshow": {
     "slide_type": "fragment"
    }
   },
   "source": [
    "2) Após consulta do manual do multímetro, a escolha da escala de tensão elétrica contínua (DC) mais adequada do multímetro em modo voltímetro, i. e., a menor escala capaz de ler a tensão $V_{Dmax}$ :\n",
    "\n",
    "Escala $= \\underline{\\ \\ \\ \\ \\ \\ \\ \\ \\ }\\,V$"
   ]
  },
  {
   "cell_type": "markdown",
   "id": "38cbc07c",
   "metadata": {
    "slideshow": {
     "slide_type": "subslide"
    }
   },
   "source": [
    "3) Após consideração da queda de tensão $V_{Dmax}$ e consultando o manual do multímetro, a escolha da escala de corrente elétrica contínua (DC) mais adequada do multímetro em modo amperímetro, i. e., a menor escala capaz de ler a corrente $I_{max}$ :\n",
    "\n",
    "Escala $= \\underline{\\ \\ \\ \\ \\ \\ \\ \\ \\ }\\, mA$"
   ]
  },
  {
   "cell_type": "markdown",
   "id": "5f901746",
   "metadata": {
    "slideshow": {
     "slide_type": "fragment"
    }
   },
   "source": [
    "<center> Figura N - Foto do circuito elétrico com 1 resistor e 1 diodo em série. </center>"
   ]
  },
  {
   "cell_type": "markdown",
   "id": "3cb53c3c",
   "metadata": {
    "slideshow": {
     "slide_type": "subslide"
    }
   },
   "source": [
    "| n  | $V_S\\,(V)$ |  Leitura da tela  | Escala (V)  | Resolução (V) |  Precisão ±(p%+nD)  | $V_{D}$ (V) com incerteza |\n",
    "|----|------------|-------------------|-------------|---------------|---------------------|----------------------------------|\n",
    "|  1 |            |                   |             |               |                     |                                   |\n",
    "|  2 |            |                   |             |               |                     |                                   |\n",
    "|  3 |            |                   |             |               |                     |                                   |\n",
    "|  4 |            |                   |             |               |                     |                                   |\n",
    "|  5 |            |                   |             |               |                     |                                   |\n",
    "|  6 |            |                   |             |               |                     |                                   |\n",
    "|  7 |            |                   |             |               |                     |                                   |\n",
    "|  8 |            |                   |             |               |                     |                                   |\n",
    "|  9 |            |                   |             |               |                     |                                   |\n",
    "| 10 |            |                   |             |               |                     |                                   |\n",
    "| 11 |            |                   |             |               |                     |                                   |\n",
    "| 12 |            |                   |             |               |                     |                                   |\n",
    "| 13 |            |                   |             |               |                     |                                   |\n",
    "\n",
    "<center>Tabela 6 : Medidas de $V_{D}$ variando $V_S$, cujos dados são repassados para cada grupo.</center>\n",
    "\n",
    "Vide 7.2.1.2 de Anexos."
   ]
  },
  {
   "cell_type": "markdown",
   "id": "82dee647",
   "metadata": {
    "slideshow": {
     "slide_type": "subslide"
    }
   },
   "source": [
    "| n  | $V_S\\,(V)$ |  Leitura da tela  | Escala (A)  | Resolução (A) |  Precisão ±(p%+nD)  | $I_{D}$ (V) com incerteza |\n",
    "|----|------------|-------------------|-------------|---------------|---------------------|----------------------------------|\n",
    "|  1 |            |                   |             |               |                     |                                   |\n",
    "|  2 |            |                   |             |               |                     |                                   |\n",
    "|  3 |            |                   |             |               |                     |                                   |\n",
    "|  4 |            |                   |             |               |                     |                                   |\n",
    "|  5 |            |                   |             |               |                     |                                   |\n",
    "|  6 |            |                   |             |               |                     |                                   |\n",
    "|  7 |            |                   |             |               |                     |                                   |\n",
    "|  8 |            |                   |             |               |                     |                                   |\n",
    "|  9 |            |                   |             |               |                     |                                   |\n",
    "| 10 |            |                   |             |               |                     |                                   |\n",
    "| 11 |            |                   |             |               |                     |                                   |\n",
    "| 12 |            |                   |             |               |                     |                                   |\n",
    "| 13 |            |                   |             |               |                     |                                   |\n",
    "\n",
    "<center>Tabela 7 : Medidas de $I_{D}$ variando $V_S$, cujos dados são repassados para cada grupo.</center>\n",
    "\n",
    "Vide 7.2.1.2 de Anexos."
   ]
  },
  {
   "cell_type": "markdown",
   "id": "3116e261",
   "metadata": {
    "slideshow": {
     "slide_type": "subslide"
    }
   },
   "source": [
    "Gráfico de $V_{D} \\times I_{D}$ (ou seja, $I_{D}$ no eixo horizontal) usando só as medições com $V_S$ não-negativas, usando SciDAVis (ou AlphaPlot, ou Python), com barras de incerteza :"
   ]
  },
  {
   "cell_type": "markdown",
   "id": "0605c62f",
   "metadata": {
    "slideshow": {
     "slide_type": "fragment"
    }
   },
   "source": [
    "<center> Figura N - gráfico de $V_{D} \\times I_{D}$. </center>"
   ]
  },
  {
   "cell_type": "markdown",
   "id": "8baf5494",
   "metadata": {
    "slideshow": {
     "slide_type": "subslide"
    }
   },
   "source": [
    "A curva é linear ou não-linear ?\n",
    "\n",
    "R.:\n",
    "\n",
    "Compare a tensão direta $V_{Dmax}$ máxima nominal com o valor de tensão tendendo a linha horizontal no gráfico.\n",
    "\n",
    "R.:"
   ]
  },
  {
   "cell_type": "markdown",
   "id": "4cd7213b",
   "metadata": {
    "slideshow": {
     "slide_type": "fragment"
    }
   },
   "source": [
    "Ao inverter a polaridade da fonte de tensão $V_S$, o que ocorre com as medidas elétricas do diodo ?\n",
    "\n",
    "R.:\n",
    "\n",
    "Então diodo tem polaridade, só conduzindo em um sentido ?\n",
    "\n",
    "R.:"
   ]
  },
  {
   "cell_type": "markdown",
   "id": "e88b10aa",
   "metadata": {
    "slideshow": {
     "slide_type": "subslide"
    }
   },
   "source": [
    "Usando software de simulação de circuitos eletrônicos para o circuito com fonte de tensão regulável $V_S$, resistor limitador $R_L$ e diodo $D$, variando $V_S$ e medindo $V_{D}$ e $I_{D}$ sem incertezas via software.\n",
    "\n",
    "Obtendo assim outro gráfico de $V_{D} \\times I_{D}$ (ou seja, $I_{D}$ no eixo horizontal) análogo, porém sem barras de incerteza. Compare com o gráfico feito a partir de medidas :"
   ]
  },
  {
   "cell_type": "markdown",
   "id": "d0482a70",
   "metadata": {
    "slideshow": {
     "slide_type": "fragment"
    }
   },
   "source": [
    "<center> Figura N - gráfico de $V_{D} \\times I_{D}$ via simulação. </center>"
   ]
  },
  {
   "cell_type": "markdown",
   "id": "86e4c370",
   "metadata": {
    "slideshow": {
     "slide_type": "fragment"
    }
   },
   "source": [
    "... Discussão ..."
   ]
  },
  {
   "cell_type": "markdown",
   "id": "67721f42",
   "metadata": {
    "slideshow": {
     "slide_type": "subslide"
    }
   },
   "source": [
    "### 4.2.3 - Caracterização $V \\times I$ de LED"
   ]
  },
  {
   "cell_type": "markdown",
   "id": "c496d40a",
   "metadata": {
    "slideshow": {
     "slide_type": "fragment"
    }
   },
   "source": [
    "1) Calculando a corrente elétrica $I_{max}$ teórica máxima considerando a queda de tensão $V_{LEDmax}$, os valores do resistor $R_L$ escolhido e a tensão $V_{Smax}$ máxima nominal da fonte (\"source\") de tensão regulável :\n",
    "\n",
    "$R_L = \\underline{\\ \\ \\ \\ \\ \\ \\ \\ \\ }\\,k\\Omega$\n",
    "\n",
    "$V_{LEDmax} = \\underline{\\ \\ \\ \\ \\ \\ \\ \\ \\ }\\,V$\n",
    "\n",
    "$V_{Smax} = \\underline{\\ \\ \\ \\ \\ \\ \\ \\ \\ }\\,V$\n",
    "\n",
    "$I_{max} = \\underline{\\ \\ \\ \\ \\ \\ \\ \\ \\ }\\,mA$\n",
    "\n",
    "Vide 7.2.1.3 de Anexos. "
   ]
  },
  {
   "cell_type": "markdown",
   "id": "24e3b42d",
   "metadata": {
    "slideshow": {
     "slide_type": "fragment"
    }
   },
   "source": [
    "2) Após consulta do manual do multímetro, a escolha da escala de tensão elétrica contínua (DC) mais adequada do multímetro em modo voltímetro, i. e., a menor escala capaz de ler a tensão $V_{LEDmax}$ :\n",
    "\n",
    "Escala $= \\underline{\\ \\ \\ \\ \\ \\ \\ \\ \\ }\\,V$"
   ]
  },
  {
   "cell_type": "markdown",
   "id": "1a0eadf6",
   "metadata": {
    "slideshow": {
     "slide_type": "subslide"
    }
   },
   "source": [
    "3) Após consideração da queda de tensão $V_{LEDmax}$ e consultando o manual do multímetro, a escolha da escala de corrente elétrica contínua (DC) mais adequada do multímetro em modo amperímetro, i. e., a menor escala capaz de ler a corrente $I_{max}$ :\n",
    "\n",
    "Escala $= \\underline{\\ \\ \\ \\ \\ \\ \\ \\ \\ }\\, mA$"
   ]
  },
  {
   "cell_type": "markdown",
   "id": "14977d87",
   "metadata": {
    "slideshow": {
     "slide_type": "fragment"
    }
   },
   "source": [
    "<center> Figura N - Foto do circuito elétrico com 1 resistor e 1 LED em série. </center>"
   ]
  },
  {
   "cell_type": "markdown",
   "id": "8abee06c",
   "metadata": {
    "slideshow": {
     "slide_type": "subslide"
    }
   },
   "source": [
    "| n  | $V_S\\,(V)$ |  Leitura da tela  | Escala (V)  | Resolução (V) |  Precisão ±(p%+nD)  | $V_{LED}$ (V) com incerteza |\n",
    "|----|------------|-------------------|-------------|---------------|---------------------|----------------------------------|\n",
    "|  1 |            |                   |             |               |                     |                                   |\n",
    "|  2 |            |                   |             |               |                     |                                   |\n",
    "|  3 |            |                   |             |               |                     |                                   |\n",
    "|  4 |            |                   |             |               |                     |                                   |\n",
    "|  5 |            |                   |             |               |                     |                                   |\n",
    "|  6 |            |                   |             |               |                     |                                   |\n",
    "|  7 |            |                   |             |               |                     |                                   |\n",
    "|  8 |            |                   |             |               |                     |                                   |\n",
    "|  9 |            |                   |             |               |                     |                                   |\n",
    "| 10 |            |                   |             |               |                     |                                   |\n",
    "| 11 |            |                   |             |               |                     |                                   |\n",
    "| 12 |            |                   |             |               |                     |                                   |\n",
    "| 13 |            |                   |             |               |                     |                                   |\n",
    "\n",
    "<center> Tabela 8 : Medidas de $V_{LED}$ variando $V_S$, cujos dados serão repassados para cada grupo. </center>\n",
    "\n",
    "Vide 7.2.1.3 de Anexos."
   ]
  },
  {
   "cell_type": "markdown",
   "id": "c4b5eae3",
   "metadata": {
    "slideshow": {
     "slide_type": "subslide"
    }
   },
   "source": [
    "| n  | $V_S\\,(V)$ |  Leitura da tela  | Escala (A)  | Resolução (A) |  Precisão ±(p%+nD)  | $I_{LED}$ (V) com incerteza |\n",
    "|----|------------|-------------------|-------------|---------------|---------------------|----------------------------------|\n",
    "|  1 |            |                   |             |               |                     |                                   |\n",
    "|  2 |            |                   |             |               |                     |                                   |\n",
    "|  3 |            |                   |             |               |                     |                                   |\n",
    "|  4 |            |                   |             |               |                     |                                   |\n",
    "|  5 |            |                   |             |               |                     |                                   |\n",
    "|  6 |            |                   |             |               |                     |                                   |\n",
    "|  7 |            |                   |             |               |                     |                                   |\n",
    "|  8 |            |                   |             |               |                     |                                   |\n",
    "|  9 |            |                   |             |               |                     |                                   |\n",
    "| 10 |            |                   |             |               |                     |                                   |\n",
    "| 11 |            |                   |             |               |                     |                                   |\n",
    "| 12 |            |                   |             |               |                     |                                   |\n",
    "| 13 |            |                   |             |               |                     |                                   |\n",
    "\n",
    "<center> Tabela 9 : Medidas de $I_{LED}$ variando $V_S$, cujos dados são repassados para cada grupo. </center>\n",
    "\n",
    "Vide 7.2.1.3 de Anexos."
   ]
  },
  {
   "cell_type": "markdown",
   "id": "c18fc450",
   "metadata": {
    "slideshow": {
     "slide_type": "subslide"
    }
   },
   "source": [
    "Gráfico de $V_{LED} \\times I_{LED}$ (ou seja, $I_{LED}$ no eixo horizontal) usando só as medições com $V_S$ não-negativas, usando SciDAVis (ou AlphaPlot, ou Python), com barras de incerteza."
   ]
  },
  {
   "cell_type": "markdown",
   "id": "b679c580",
   "metadata": {
    "slideshow": {
     "slide_type": "fragment"
    }
   },
   "source": [
    "<center> Figura N - gráfico de $V_{LED} \\times I_{LED}$. </center>"
   ]
  },
  {
   "cell_type": "markdown",
   "id": "2b42cf4a",
   "metadata": {
    "slideshow": {
     "slide_type": "subslide"
    }
   },
   "source": [
    "A curva é linear ou não-linear ?\n",
    "\n",
    "R.:\n",
    "\n",
    "Compare a tensão direta $V_{LEDmax}$ máxima nominal com o valor de tensão tendendo a linha horizontal no gráfico.\n",
    "\n",
    "R.:"
   ]
  },
  {
   "cell_type": "markdown",
   "id": "441e9608",
   "metadata": {
    "slideshow": {
     "slide_type": "fragment"
    }
   },
   "source": [
    "Ao inverter a polaridade da fonte de tensão $V_S$, o que ocorre com as medidas elétricas do LED ?\n",
    "\n",
    "R.:\n",
    "\n",
    "Então LED tem polaridade, só conduzindo em um sentido ?\n",
    "\n",
    "R.:"
   ]
  },
  {
   "cell_type": "markdown",
   "id": "c0508a4e",
   "metadata": {
    "slideshow": {
     "slide_type": "fragment"
    }
   },
   "source": [
    "... Discussão ..."
   ]
  },
  {
   "cell_type": "markdown",
   "id": "429f476c",
   "metadata": {
    "slideshow": {
     "slide_type": "slide"
    }
   },
   "source": [
    "# 5 - Conclusão"
   ]
  },
  {
   "cell_type": "markdown",
   "id": "bc058506",
   "metadata": {
    "slideshow": {
     "slide_type": "fragment"
    }
   },
   "source": [
    "<A conclusão deve abordar brevemente o experimento efetuado, os resultados obtidos e a que conclusões estes resultados levam. Em alguns casos se discute possíveis rumos desta investigação.\n",
    "\n",
    "Apresentar com clareza se o objetivo foi cumprido ou dar uma explicação satisfatória para o não cumprimento do objetivo.\n",
    "\n",
    "Comentários do tipo: “O experimento foi muito proveitoso....” “Foi muito legal ter feito isso...” e outro similares não tem sentido científico e portanto não devem ser utilizados.>"
   ]
  },
  {
   "cell_type": "markdown",
   "id": "04860abd",
   "metadata": {
    "slideshow": {
     "slide_type": "fragment"
    }
   },
   "source": [
    "..."
   ]
  },
  {
   "cell_type": "markdown",
   "id": "8c180dd7",
   "metadata": {
    "slideshow": {
     "slide_type": "slide"
    }
   },
   "source": [
    "# 6 - Referências Bibliográficas"
   ]
  },
  {
   "cell_type": "markdown",
   "id": "ffc6a722",
   "metadata": {
    "slideshow": {
     "slide_type": "fragment"
    }
   },
   "source": [
    "< Devem constar nessa seção todas as referências bibliográfias, seguindo norma da ABNT, utilizadas no relatório, como :\n",
    "- livros impressos;\n",
    "- livros eletrônicos;\n",
    "- sítios com material de referência;\n",
    "- softwares;\n",
    "- etc. >"
   ]
  },
  {
   "cell_type": "markdown",
   "id": "26ec5d92",
   "metadata": {
    "slideshow": {
     "slide_type": "fragment"
    }
   },
   "source": [
    "[HRW] Halliday, D.; Resnick, R.; Walker, J.; Fundamentos de Física: Eletromagnetismo. Vol. 3,\n",
    "10a ed, editora LTC, 2016. ISBN: 8521630379;"
   ]
  },
  {
   "cell_type": "markdown",
   "id": "5444c4bc",
   "metadata": {
    "slideshow": {
     "slide_type": "fragment"
    }
   },
   "source": [
    "..."
   ]
  },
  {
   "cell_type": "markdown",
   "id": "9f297509",
   "metadata": {
    "slideshow": {
     "slide_type": "slide"
    }
   },
   "source": [
    "# 7 - Anexos"
   ]
  },
  {
   "cell_type": "markdown",
   "id": "9241cab6",
   "metadata": {
    "slideshow": {
     "slide_type": "fragment"
    }
   },
   "source": [
    "< Devem constar nessa seção todos os cálculos intermediários feitos no experimento e relatório, como :\n",
    "- cálculo de incerteza das medições;\n",
    "- cálculos de propagação de incertezas;\n",
    "- relatório de ajuste de curvas gerado por certo software (SciDAVis, etc);\n",
    "- cálculos diversos. \n",
    "\n",
    "Os cálculos podem ser organizados em subseções, subsubseçõe, etc. >"
   ]
  },
  {
   "cell_type": "markdown",
   "id": "c27ca186",
   "metadata": {
    "slideshow": {
     "slide_type": "subslide"
    }
   },
   "source": [
    "## 7.1 - Medindo Tensão, Corrente e Resistência Elétricas com Multímetro"
   ]
  },
  {
   "cell_type": "markdown",
   "id": "dc43fcd9",
   "metadata": {
    "slideshow": {
     "slide_type": "fragment"
    }
   },
   "source": [
    "### 7.1.1 - Medidas"
   ]
  },
  {
   "cell_type": "markdown",
   "id": "694d505e",
   "metadata": {
    "slideshow": {
     "slide_type": "fragment"
    }
   },
   "source": [
    "$R$ indicado pelo professor via código de cores : cor1 cor2 cor3 cor4.  \n",
    "Consultando tabela de código de cores [ResCores], o valor é $R = (N k\\,\\Omega \\pm p\\%)$."
   ]
  },
  {
   "cell_type": "markdown",
   "id": "1f8932af",
   "metadata": {
    "slideshow": {
     "slide_type": "fragment"
    }
   },
   "source": [
    "Corrente elétrica teórica, sem incertezas :\n",
    "\n",
    "$$I_R =\\,...$$"
   ]
  },
  {
   "cell_type": "markdown",
   "id": "f69be34d",
   "metadata": {
    "slideshow": {
     "slide_type": "subslide"
    }
   },
   "source": [
    "Cálculos de incertezas das medições da Tabela 1 :\n",
    "\n",
    "..."
   ]
  },
  {
   "cell_type": "markdown",
   "id": "f8984dc6",
   "metadata": {
    "slideshow": {
     "slide_type": "subslide"
    }
   },
   "source": [
    "Cálculos de incertezas das medições da Tabela 2 :\n",
    "\n",
    "..."
   ]
  },
  {
   "cell_type": "markdown",
   "id": "ac7bb781",
   "metadata": {
    "slideshow": {
     "slide_type": "subslide"
    }
   },
   "source": [
    "Cálculos de incertezas das medições da Tabela 3 :\n",
    "\n",
    "..."
   ]
  },
  {
   "cell_type": "markdown",
   "id": "3ca51777",
   "metadata": {
    "slideshow": {
     "slide_type": "subslide"
    }
   },
   "source": [
    "### 7.1.2 - Análises"
   ]
  },
  {
   "cell_type": "markdown",
   "id": "53d53ac5",
   "metadata": {
    "slideshow": {
     "slide_type": "fragment"
    }
   },
   "source": [
    "Análise da Tabela 3 :\n",
    "\n",
    "$R$ a partir de $V_R$ e $I_R$ usando propagação de incertezas manualmente :\n",
    "\n",
    "...\n",
    "\n",
    "$R$ via propagação de incerteza usando [módulo Python Uncertainties](https://pythonhosted.org/uncertainties/) :"
   ]
  },
  {
   "cell_type": "markdown",
   "id": "5e16ef83",
   "metadata": {
    "slideshow": {
     "slide_type": "subslide"
    }
   },
   "source": [
    "## 7.2 - Caracterização de Resistor, Diodo e LED com Multímetro"
   ]
  },
  {
   "cell_type": "markdown",
   "id": "dc66acb0",
   "metadata": {
    "slideshow": {
     "slide_type": "fragment"
    }
   },
   "source": [
    "### 7.2.1 - Medidas"
   ]
  },
  {
   "cell_type": "markdown",
   "id": "647fe802",
   "metadata": {
    "slideshow": {
     "slide_type": "fragment"
    }
   },
   "source": [
    "#### 7.2.1.1 - Caracterização $V \\times I$ de Resistor $R_C$"
   ]
  },
  {
   "cell_type": "markdown",
   "id": "a911b871",
   "metadata": {
    "slideshow": {
     "slide_type": "fragment"
    }
   },
   "source": [
    "$R_L$ indicado pelo professor via código de cores : cor1 cor2 cor3 cor4.  \n",
    "Consultando tabela de código de cores [ResCores], o valor é $R_L = (N k\\,\\Omega \\pm p\\%)$."
   ]
  },
  {
   "cell_type": "markdown",
   "id": "2cf1d6af",
   "metadata": {
    "slideshow": {
     "slide_type": "fragment"
    }
   },
   "source": [
    "$R_C$ indicado pelo professor via código de cores : cor1 cor2 cor3 cor4.  \n",
    "Consultando tabela de código de cores [ResCores], o valor é $R_L = (N k\\,\\Omega \\pm p\\%)$."
   ]
  },
  {
   "cell_type": "markdown",
   "id": "cc104f5e",
   "metadata": {
    "slideshow": {
     "slide_type": "subslide"
    }
   },
   "source": [
    "Cálculo de $I_{max}$ teórica, em termos de $V_{Smax}$, $R_L$ e $R_C$, sem incertezas :\n",
    "\n",
    "$$I_{max} = \\,...$$"
   ]
  },
  {
   "cell_type": "markdown",
   "id": "e16a8092",
   "metadata": {
    "slideshow": {
     "slide_type": "fragment"
    }
   },
   "source": [
    "Cálculo de $V_{R_Cmax}$ teórica, em termos de $V_{Smax}$, $R_L$ e $R_C$, sem incertezas :\n",
    "\n",
    "$$V_{R_Cmax} =\\,...$$"
   ]
  },
  {
   "cell_type": "markdown",
   "id": "fa2f493a",
   "metadata": {
    "slideshow": {
     "slide_type": "subslide"
    }
   },
   "source": [
    "Cálculos de incertezas das medições da Tabela 4 :\n",
    "\n",
    "..."
   ]
  },
  {
   "cell_type": "markdown",
   "id": "4e40cd6b",
   "metadata": {
    "slideshow": {
     "slide_type": "subslide"
    }
   },
   "source": [
    "Cálculos de incertezas das medições da Tabela 5 :\n",
    "\n",
    "..."
   ]
  },
  {
   "cell_type": "markdown",
   "id": "7fc9bad1",
   "metadata": {
    "slideshow": {
     "slide_type": "subslide"
    }
   },
   "source": [
    "#### 7.2.1.2 - Caracterização $V \\times I$ de Diodo $D$"
   ]
  },
  {
   "cell_type": "markdown",
   "id": "9003c508",
   "metadata": {
    "slideshow": {
     "slide_type": "fragment"
    }
   },
   "source": [
    "Cálculo de $I_{max}$ teórica, em termos de $V_{Smax}$, $R_L$ e $V_{Dmax}$, sem incertezas :\n",
    "\n",
    "$$I_{max} = \\,...$$"
   ]
  },
  {
   "cell_type": "markdown",
   "id": "b8ef04ed",
   "metadata": {
    "slideshow": {
     "slide_type": "subslide"
    }
   },
   "source": [
    "Cálculos de incertezas das medições da Tabela 6 :\n",
    "\n",
    "..."
   ]
  },
  {
   "cell_type": "markdown",
   "id": "a1fe080f",
   "metadata": {
    "slideshow": {
     "slide_type": "subslide"
    }
   },
   "source": [
    "Cálculos de incertezas das medições da Tabela 7 :\n",
    "\n",
    "..."
   ]
  },
  {
   "cell_type": "markdown",
   "id": "8dab4c31",
   "metadata": {
    "slideshow": {
     "slide_type": "subslide"
    }
   },
   "source": [
    "#### 7.2.1.3 - Caracterização $V \\times I$ de LED"
   ]
  },
  {
   "cell_type": "markdown",
   "id": "3be2c6b5",
   "metadata": {
    "slideshow": {
     "slide_type": "fragment"
    }
   },
   "source": [
    "Cálculo de $I_{max}$ teórica, em termos de $V_{Smax}$, $R_L$ e $V_{LEDmax}$, sem incertezas :\n",
    "\n",
    "$$I_{max} = \\,...$$"
   ]
  },
  {
   "cell_type": "markdown",
   "id": "15555445",
   "metadata": {
    "slideshow": {
     "slide_type": "subslide"
    }
   },
   "source": [
    "Cálculos de incertezas das medições da Tabela 8 :\n",
    "\n",
    "..."
   ]
  },
  {
   "cell_type": "markdown",
   "id": "270391c8",
   "metadata": {
    "slideshow": {
     "slide_type": "subslide"
    }
   },
   "source": [
    "Cálculos de incertezas das medições da Tabela 9 :\n",
    "\n",
    "..."
   ]
  },
  {
   "cell_type": "markdown",
   "id": "58a16b93",
   "metadata": {
    "slideshow": {
     "slide_type": "subslide"
    }
   },
   "source": [
    "### 7.2.2 - Análises"
   ]
  },
  {
   "cell_type": "markdown",
   "id": "5c719a98",
   "metadata": {
    "slideshow": {
     "slide_type": "fragment"
    }
   },
   "source": [
    "#### 7.2.2.1 - Caracterização $V \\times I$ de Resistor $R_C$"
   ]
  },
  {
   "cell_type": "markdown",
   "id": "9f8f665c",
   "metadata": {
    "slideshow": {
     "slide_type": "fragment"
    }
   },
   "source": [
    "Relatório de ajuste de curvas do gráfico de $V_{R_C} \\times I_{R_C}$, gerado por certo software (SciDAVis, etc) :\n",
    "\n",
    "\n",
    "..."
   ]
  },
  {
   "cell_type": "markdown",
   "id": "8e8766a2",
   "metadata": {
    "slideshow": {
     "slide_type": "subslide"
    }
   },
   "source": [
    "Cálculo de propagação de incertezas da tabela 10, usando módulo [Python Uncertainties](https://pythonhosted.org/uncertainties/) com [NumPy](https://pythonhosted.org/uncertainties/numpy_guide.html) :\n",
    "\n",
    "..."
   ]
  }
 ],
 "metadata": {
  "celltoolbar": "Slideshow",
  "kernelspec": {
   "display_name": "Python 3",
   "language": "python",
   "name": "python3"
  },
  "language_info": {
   "codemirror_mode": {
    "name": "ipython",
    "version": 3
   },
   "file_extension": ".py",
   "mimetype": "text/x-python",
   "name": "python",
   "nbconvert_exporter": "python",
   "pygments_lexer": "ipython3",
   "version": "3.8.10"
  }
 },
 "nbformat": 4,
 "nbformat_minor": 5
}
