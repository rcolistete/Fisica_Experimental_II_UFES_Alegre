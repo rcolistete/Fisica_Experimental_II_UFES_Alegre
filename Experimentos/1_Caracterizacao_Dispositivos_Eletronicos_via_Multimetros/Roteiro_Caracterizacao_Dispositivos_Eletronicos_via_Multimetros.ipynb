{
 "cells": [
  {
   "cell_type": "markdown",
   "id": "b6c301fc",
   "metadata": {
    "slideshow": {
     "slide_type": "slide"
    }
   },
   "source": [
    "# Roteiro do Experimento\n",
    "# \"Caracterização de Dispositivos Eletrônicos via Multímetros\"\n",
    "## Disciplina - DQF10441 Física Experimental II\n",
    "### Semestre 2021/1 EARTE - [DQF - CCENS](http://alegre.ufes.br/ccens/departamento-de-quimica-e-fisica) - [UFES/Alegre](http://alegre.ufes.br/)\n",
    "#### Professor : [Roberto Colistete Jr.](https://github.com/rcolistete)"
   ]
  },
  {
   "cell_type": "markdown",
   "id": "ce6a8650",
   "metadata": {
    "slideshow": {
     "slide_type": "slide"
    }
   },
   "source": [
    "O **experimento \"Caracterização de Dispositivos Eletrônicos via Multímetros\"** é uma mistura dos experimentos originais do [sítio eletrônico do Laboratório 2 de Física da UFES-Alegre, seção de roteiros](https://fisica.alegre.ufes.br/roteiros-de-fisica-experimental-ii-e-fisica-iii) :"
   ]
  },
  {
   "cell_type": "markdown",
   "id": "85ac3d23",
   "metadata": {
    "slideshow": {
     "slide_type": "fragment"
    }
   },
   "source": [
    "- \"Equipamentos de Laboratório Relacionados com a Medição de Grandezas Elétricas\";"
   ]
  },
  {
   "cell_type": "markdown",
   "id": "c3597f8a",
   "metadata": {
    "slideshow": {
     "slide_type": "fragment"
    }
   },
   "source": [
    "- \"Caracterização de Dispositivos Eletrônicos\"."
   ]
  },
  {
   "cell_type": "markdown",
   "id": "37b8590e",
   "metadata": {
    "slideshow": {
     "slide_type": "fragment"
    }
   },
   "source": [
    "As mudanças principais se referem a :"
   ]
  },
  {
   "cell_type": "markdown",
   "id": "c32d7d12",
   "metadata": {
    "slideshow": {
     "slide_type": "fragment"
    }
   },
   "source": [
    "- foco no uso de multímetro;"
   ]
  },
  {
   "cell_type": "markdown",
   "id": "a8f9daaf",
   "metadata": {
    "slideshow": {
     "slide_type": "fragment"
    }
   },
   "source": [
    "- uso de equipamento mais portátil, de menor custo e mais acessível, permitindo uso EARTE em aulas remotas, fora do laboratório;"
   ]
  },
  {
   "cell_type": "markdown",
   "id": "fde4aee0",
   "metadata": {
    "slideshow": {
     "slide_type": "fragment"
    }
   },
   "source": [
    "- uso de medidas fornecidas pelo professor, quando for o caso;"
   ]
  },
  {
   "cell_type": "markdown",
   "id": "7bd16e20",
   "metadata": {
    "slideshow": {
     "slide_type": "fragment"
    }
   },
   "source": [
    "- uso de software de simulação de circuitos eletrônicos, quando for o caso."
   ]
  },
  {
   "cell_type": "markdown",
   "id": "49efd271",
   "metadata": {
    "slideshow": {
     "slide_type": "slide"
    }
   },
   "source": [
    "# 1) Medindo Tensão, Corrente e Resistência Elétricas com Multímetro"
   ]
  },
  {
   "cell_type": "markdown",
   "id": "cd1a0270",
   "metadata": {
    "slideshow": {
     "slide_type": "fragment"
    }
   },
   "source": [
    "Tal primeira parte do experimento emprega :"
   ]
  },
  {
   "cell_type": "markdown",
   "id": "76722e8f",
   "metadata": {
    "slideshow": {
     "slide_type": "fragment"
    }
   },
   "source": [
    "- prioritariamente um kit de material fornecido para cada grupo, permitindo-o fazer as medidas; "
   ]
  },
  {
   "cell_type": "markdown",
   "id": "18febc30",
   "metadata": {
    "slideshow": {
     "slide_type": "fragment"
    }
   },
   "source": [
    "- ou uso de medidas fornecidas pelo professor, caso o kit de material não esteja disponível ou o grupo tenha sérios problemas ao usar o kit de material."
   ]
  },
  {
   "cell_type": "markdown",
   "id": "bed9a1a7",
   "metadata": {
    "slideshow": {
     "slide_type": "subslide"
    }
   },
   "source": [
    "## Objetivos"
   ]
  },
  {
   "cell_type": "markdown",
   "id": "fa7b7eac",
   "metadata": {
    "slideshow": {
     "slide_type": "fragment"
    }
   },
   "source": [
    "Prática de uso de :"
   ]
  },
  {
   "cell_type": "markdown",
   "id": "f9a55923",
   "metadata": {
    "slideshow": {
     "slide_type": "fragment"
    }
   },
   "source": [
    "- fonte de tensão elétrica;"
   ]
  },
  {
   "cell_type": "markdown",
   "id": "d4670489",
   "metadata": {
    "slideshow": {
     "slide_type": "fragment"
    }
   },
   "source": [
    "- protoboard;"
   ]
  },
  {
   "cell_type": "markdown",
   "id": "870e7d18",
   "metadata": {
    "slideshow": {
     "slide_type": "fragment"
    }
   },
   "source": [
    "- circuito elétrico de uma malha com resistor;"
   ]
  },
  {
   "cell_type": "markdown",
   "id": "1e4cd61b",
   "metadata": {
    "slideshow": {
     "slide_type": "fragment"
    }
   },
   "source": [
    "- multímetros nos modos voltímetro, amperímetro e ohmímetro, em diferentes escalas."
   ]
  },
  {
   "cell_type": "markdown",
   "id": "cec7aac6",
   "metadata": {
    "slideshow": {
     "slide_type": "subslide"
    }
   },
   "source": [
    "## Teoria"
   ]
  },
  {
   "cell_type": "markdown",
   "id": "030aa445",
   "metadata": {
    "slideshow": {
     "slide_type": "fragment"
    }
   },
   "source": [
    "- corrente elétrica, resistência elétrica e circuitos elétricos de uma malha, vide bibliografia de \"Física C\" e dessa disciplina;"
   ]
  },
  {
   "cell_type": "markdown",
   "id": "7c0a157d",
   "metadata": {
    "slideshow": {
     "slide_type": "fragment"
    }
   },
   "source": [
    "- como funciona voltímetro, amperímetro e ohmímetro em termos de princípio, vide trabalho em grupo \"Multímetros\";"
   ]
  },
  {
   "cell_type": "markdown",
   "id": "65d97df8",
   "metadata": {
    "slideshow": {
     "slide_type": "fragment"
    }
   },
   "source": [
    "- cálculo de incerteza nas medidas de voltímetro, amperímetro e ohmímetro via consulta da escala, resolução e precisão no manual do multímetro, vide aulas anteriores aos experimentos;"
   ]
  },
  {
   "cell_type": "markdown",
   "id": "b7e48998",
   "metadata": {
    "slideshow": {
     "slide_type": "fragment"
    }
   },
   "source": [
    "- propagação de incertezas calculada manualmente e usando [módulo Python Uncertainties](https://pythonhosted.org/uncertainties/), vide aulas anteriores aos experimentos."
   ]
  },
  {
   "cell_type": "markdown",
   "id": "07ea1968",
   "metadata": {
    "slideshow": {
     "slide_type": "subslide"
    }
   },
   "source": [
    "## Equipamento"
   ]
  },
  {
   "cell_type": "markdown",
   "id": "82033976",
   "metadata": {
    "slideshow": {
     "slide_type": "fragment"
    }
   },
   "source": [
    "- fonte de tensão 3,3/5V, com alimentação via carregador AC ou bateria de 9V;"
   ]
  },
  {
   "cell_type": "markdown",
   "id": "6e97f05a",
   "metadata": {
    "slideshow": {
     "slide_type": "fragment"
    }
   },
   "source": [
    "- protoboard;"
   ]
  },
  {
   "cell_type": "markdown",
   "id": "21a8eb2e",
   "metadata": {
    "slideshow": {
     "slide_type": "fragment"
    }
   },
   "source": [
    "- fios/jumpers para protoboard;"
   ]
  },
  {
   "cell_type": "markdown",
   "id": "bac2b061",
   "metadata": {
    "slideshow": {
     "slide_type": "fragment"
    }
   },
   "source": [
    "- resistor;"
   ]
  },
  {
   "cell_type": "markdown",
   "id": "3a2c4b02",
   "metadata": {
    "slideshow": {
     "slide_type": "fragment"
    }
   },
   "source": [
    "- 2 multímetros com pontas-de-prova e garras jacaré."
   ]
  },
  {
   "cell_type": "markdown",
   "id": "2f69c036",
   "metadata": {
    "slideshow": {
     "slide_type": "slide"
    }
   },
   "source": [
    "## Procedimento Experimental"
   ]
  },
  {
   "cell_type": "markdown",
   "id": "2e79a888",
   "metadata": {
    "slideshow": {
     "slide_type": "fragment"
    }
   },
   "source": [
    "Para o relatório :"
   ]
  },
  {
   "cell_type": "markdown",
   "id": "1327f9ff",
   "metadata": {
    "slideshow": {
     "slide_type": "fragment"
    }
   },
   "source": [
    "- fazer registro fotográfico da montagem e de algumas medidas, para constar no relatório;"
   ]
  },
  {
   "cell_type": "markdown",
   "id": "f117f3b5",
   "metadata": {
    "slideshow": {
     "slide_type": "fragment"
    }
   },
   "source": [
    "- fazer diagrama esquemático do circuito eletrônico, via algum software de desenho/projeto/simulação de circuitos eletrônicos."
   ]
  },
  {
   "cell_type": "markdown",
   "id": "464f9e0d",
   "metadata": {
    "slideshow": {
     "slide_type": "subslide"
    }
   },
   "source": [
    "### Montagem"
   ]
  },
  {
   "cell_type": "markdown",
   "id": "590a4151",
   "metadata": {
    "slideshow": {
     "slide_type": "fragment"
    }
   },
   "source": [
    "Fazer a montagem sob orientação do professor :"
   ]
  },
  {
   "cell_type": "markdown",
   "id": "e17a57b9",
   "metadata": {
    "slideshow": {
     "slide_type": "fragment"
    }
   },
   "source": [
    "1. encaixar a fonte de tensão 3,3/5V no protoboard, **sem alimentação externa e desligada**;"
   ]
  },
  {
   "cell_type": "markdown",
   "id": "6f4851f5",
   "metadata": {
    "slideshow": {
     "slide_type": "fragment"
    }
   },
   "source": [
    "2. **escolher via código de cores** (consulte tabela sobre isso) **o resistor** indicado pelo professor e encaixar seus terminais no protoboard;"
   ]
  },
  {
   "cell_type": "markdown",
   "id": "85ac1965",
   "metadata": {
    "slideshow": {
     "slide_type": "fragment"
    }
   },
   "source": [
    "3. usar um multímetro em modo voltímetro, desligado, conectando-o em paralelo ao resistor;"
   ]
  },
  {
   "cell_type": "markdown",
   "id": "98bb2783",
   "metadata": {
    "slideshow": {
     "slide_type": "fragment"
    }
   },
   "source": [
    "4. usar um multímetro em modo amperímetro, desligado, conectando-o em série ao resistor, entre o terminal positivo da fonte de tensão e um dos terminais do resistor;"
   ]
  },
  {
   "cell_type": "markdown",
   "id": "611b67a3",
   "metadata": {
    "slideshow": {
     "slide_type": "fragment"
    }
   },
   "source": [
    "5. conectar a alimentação externa na fonte de tensão 3,3/5V, mas **mantendo-a desligada**."
   ]
  },
  {
   "cell_type": "markdown",
   "id": "a7f16cfe",
   "metadata": {
    "slideshow": {
     "slide_type": "subslide"
    }
   },
   "source": [
    "### Medidas"
   ]
  },
  {
   "cell_type": "markdown",
   "id": "2baa8f1d",
   "metadata": {
    "slideshow": {
     "slide_type": "fragment"
    }
   },
   "source": [
    "1. dado o valor do resistor $R$ escolhido, calcule a corrente elétrica $I_R$ teórica para a tensão $V_S = 3,3\\,V$ ou $5,0\\,V$ (vide indicaçao do professor) nominal da fonte (\"source\") de tensão. $R = \\underline{\\ \\ \\ \\ \\ \\ \\ \\ \\ }\\,k\\Omega$, $V_S = \\underline{\\ \\ \\ \\ \\ \\ \\ \\ \\ }\\,V$, $I_R = \\underline{\\ \\ \\ \\ \\ \\ \\ \\ \\ }\\,mA$;"
   ]
  },
  {
   "cell_type": "markdown",
   "id": "09d75f42",
   "metadata": {
    "slideshow": {
     "slide_type": "fragment"
    }
   },
   "source": [
    "2. consultando o manual do multímetro, escolher a escala de tensão  elétrica contínua (DC) mais adequada do multímetro em modo voltímetro, i. e., a menor escala capaz de ler a tensão $V_S$. Escala $= \\underline{\\ \\ \\ \\ \\ \\ \\ \\ \\ }\\,V$;"
   ]
  },
  {
   "cell_type": "markdown",
   "id": "0c0c354a",
   "metadata": {
    "slideshow": {
     "slide_type": "fragment"
    }
   },
   "source": [
    "3. consultando o manual do multímetro, escolher a escala de corrente elétrica contínua (DC) mais adequada do multímetro em modo amperímetro, i. e., a menor escala capaz de ler a corrente $I_R$. Escala $= \\underline{\\ \\ \\ \\ \\ \\ \\ \\ \\ }\\, mA$;"
   ]
  },
  {
   "cell_type": "markdown",
   "id": "113bc595",
   "metadata": {
    "slideshow": {
     "slide_type": "fragment"
    }
   },
   "source": [
    "4. selecionar a fonte de tensão para saída indicada de $V_S$, ligando-a;"
   ]
  },
  {
   "cell_type": "markdown",
   "id": "05a69d0e",
   "metadata": {
    "slideshow": {
     "slide_type": "fragment"
    }
   },
   "source": [
    "5. anotar a leitura da tela do multímetro em modo voltímetro, a escala usada, e via consulta do manual do  multímetro, anotar a resolução e precisão de tal escala. Calcular a partir disso a incerteza e expressar o valor da medida com incerteza e o número correto de algarismos significativos. Preencha na tabela 1;"
   ]
  },
  {
   "cell_type": "markdown",
   "id": "138d18b5",
   "metadata": {
    "slideshow": {
     "slide_type": "subslide"
    }
   },
   "source": [
    "6. anotar a leitura da tela do multímetro em modo amperímetro, a escala usada, e via consulta do manual do  multímetro, anotar a resolução e precisão de tal escala. Calcular a partir disso a incerteza e expressar o valor da medida com incerteza e o número correto de algarismos significativos. Preencha na tabela 2;"
   ]
  },
  {
   "cell_type": "markdown",
   "id": "64d01cc4",
   "metadata": {
    "slideshow": {
     "slide_type": "fragment"
    }
   },
   "source": [
    "7. repetir (5) para todas as escalas possíveis de tensão elétrica contínua (DC) do multímetro, usando a escala mais adequada para a corrente elétrica contínua (DC). **Atenção, sempre desconecte um dos cabos do multímetro antes de mudar a escala, conectando depois**. Preencha a tabela 1 :"
   ]
  },
  {
   "cell_type": "markdown",
   "id": "3d106479",
   "metadata": {
    "slideshow": {
     "slide_type": "fragment"
    }
   },
   "source": [
    "|   n     |  Leitura da tela  | Escala (V)  | Resolução (V) |  Precisão ±(p%+nD)  | $V_R$ (V) com incerteza |\n",
    "|---------|-------------------|-------------|---------------|---------------------|--------------------------|\n",
    "|   1     |                   |             |               |                     |                          |\n",
    "|   2     |                   |             |               |                     |                          |\n",
    "|   3     |                   |             |               |                     |                          |\n",
    "|   4     |                   |             |               |                     |                          |\n",
    "|   5     |                   |             |               |                     |                          |\n",
    "\n",
    "<center>Tabela 1 : Medidas de $V_R$ variando escala do voltímetro.</center>"
   ]
  },
  {
   "cell_type": "markdown",
   "id": "6824b1a1",
   "metadata": {
    "slideshow": {
     "slide_type": "subslide"
    }
   },
   "source": [
    "8. repetir (6) para todas as escalas possíveis de corrente elétrica contínua (DC) do multímetro, usando a escala mais adequada para a tensão elétrica contínua (DC). **Atenção, sempre desconecte um dos cabos do multímetro antes de mudar a escala, conectando depois**. Preencha a tabela 2 :"
   ]
  },
  {
   "cell_type": "markdown",
   "id": "a1f77895",
   "metadata": {
    "slideshow": {
     "slide_type": "fragment"
    }
   },
   "source": [
    "|   n     |  Leitura da tela  |  Escala (A)  |  Resolução (A) |  Precisão ±(p%+nD)  | $I_R$ (mA) com incerteza |\n",
    "|---------|-------------------|--------------|----------------|---------------------|-----------------------------|\n",
    "|   1     |                   |              |                |                     |                             |\n",
    "|   2     |                   |              |                |                     |                             |\n",
    "|   3     |                   |              |                |                     |                             |\n",
    "|   4     |                   |              |                |                     |                             |\n",
    "|   5     |                   |              |                |                     |                             |\n",
    "\n",
    "<center>Tabela 2 : Medidas de $I_R$ variando escala do amperímetro.</center>"
   ]
  },
  {
   "cell_type": "markdown",
   "id": "8a628159",
   "metadata": {
    "slideshow": {
     "slide_type": "subslide"
    }
   },
   "source": [
    "9. **deslige a fonte de tensão e desconecte os dois terminais do resistor do protoboard**. Consultando o manual do multímetro, escolher a escala de resistência elétrica mais adequada do multímetro em modo ohmímetro, i. e., a menor escala capaz de ler a resistência elétrica $R$. Escala $= \\underline{\\ \\ \\ \\ \\ \\ \\ \\ \\ }\\, \\Omega$;"
   ]
  },
  {
   "cell_type": "markdown",
   "id": "5399a927",
   "metadata": {
    "slideshow": {
     "slide_type": "fragment"
    }
   },
   "source": [
    "10. Use o multímetro no modo ohmímetro para medir a resistência elétrica do resistor $R$, conectando os 2 cabos do multímetro nos dois terminais do **resistor (desconectado do protoboard)**. Anotar a leitura da tela do multímetro em modo ohmímetro, a escala usada, e via consulta do manual do multímetro, anotar a resolução e precisão de tal escala. Calcular a partir disso a incerteza e expressar o valor da medida com incerteza e o número correto de algarismos significativos. Repetir para todas as escalas possíveis de resistência elétrica do multímetro. Preencha a tabela 3 :"
   ]
  },
  {
   "cell_type": "markdown",
   "id": "ca1d3fe9",
   "metadata": {
    "slideshow": {
     "slide_type": "fragment"
    }
   },
   "source": [
    "|   n     |  Leitura da tela  |  Escala ($\\Omega$)  |  Resolução ($\\Omega$) |  Precisão ±(p%+nD)  | $R$ ($k\\Omega$) com incerteza |\n",
    "|---------|-------------------|--------------|----------------|---------------------|-----------------------------|\n",
    "|   1     |                   |              |                |                     |                             |\n",
    "|   2     |                   |              |                |                     |                             |\n",
    "|   3     |                   |              |                |                     |                             |\n",
    "|   4     |                   |              |                |                     |                             |\n",
    "|   5     |                   |              |                |                     |                             |\n",
    "\n",
    "<center>Tabela 3 : Medidas de $R$ variando escala do ohmímetro.</center>"
   ]
  },
  {
   "cell_type": "markdown",
   "id": "de52f337",
   "metadata": {
    "slideshow": {
     "slide_type": "subslide"
    }
   },
   "source": [
    "## Análises"
   ]
  },
  {
   "cell_type": "markdown",
   "id": "b73b7137",
   "metadata": {
    "slideshow": {
     "slide_type": "fragment"
    }
   },
   "source": [
    "Na tabela 1 :\n",
    "- as medições de $V_R$ são compatíveis com o valor nominal da fonte de tensão $V_S$, no ítem (1) de \"Medidas\" ?\n",
    "- qual a escala com menor incerteza na medição de $V_R$ ?\n",
    "- é a mesma escala apontada no ítem (2) de \"Medidas\" ?"
   ]
  },
  {
   "cell_type": "markdown",
   "id": "09b76aa2",
   "metadata": {
    "slideshow": {
     "slide_type": "fragment"
    }
   },
   "source": [
    "Na tabela 2 :\n",
    "- as medições de $I_R$ são compatíveis com o valor teórico calculado da corrente elétrica $I_R$, no ítem (1) de \"Medidas\" ?\n",
    "- qual a escala com menor incerteza na medição de $I_R$ ?\n",
    "- é a mesma escala apontada no ítem (3) de \"Medidas\" ?"
   ]
  },
  {
   "cell_type": "markdown",
   "id": "aef419a1",
   "metadata": {
    "slideshow": {
     "slide_type": "subslide"
    }
   },
   "source": [
    "Na tabela 3 :\n",
    "- as medições de $R$ são compatíveis com o valor nominal do resistor $R$ obtido via código de cores, no ítem (1) de \"Medidas\" ?\n",
    "- qual a escala com menor incerteza na medição de $R$ ?\n",
    "- é a mesma escala apontada no ítem (9) de \"Medidas\" ou não ?\n",
    "- calcule **uma vez** $R$ a partir de $V_R$ e $I_R$ medidos nas escalas mais adequadas, ítens (2)-(3) de \"Medidas\", usando propagação de incertezas (manualmente e via propagação de incerteza usando [módulo Python Uncertainties](https://pythonhosted.org/uncertainties/), comparando as incertezas resultantes). Compare com a medição de $R$ na melhor escala e com o valor nominal do resistor $R$."
   ]
  },
  {
   "cell_type": "markdown",
   "id": "2bf74552",
   "metadata": {
    "slideshow": {
     "slide_type": "slide"
    }
   },
   "source": [
    "# 2) Caracterização de Resistor, Diodo e LED com Multímetro"
   ]
  },
  {
   "cell_type": "markdown",
   "id": "d2357028",
   "metadata": {
    "slideshow": {
     "slide_type": "fragment"
    }
   },
   "source": [
    "Tal segunda parte do experimento emprega :"
   ]
  },
  {
   "cell_type": "markdown",
   "id": "9b5051cf",
   "metadata": {
    "slideshow": {
     "slide_type": "fragment"
    }
   },
   "source": [
    "- prioritariamente uso de medidas fornecidas pelo professor, pois a fonte de tensão regulável é equipamento mais complexo e caro e por isso não está presente no kit de material; "
   ]
  },
  {
   "cell_type": "markdown",
   "id": "af03df86",
   "metadata": {
    "slideshow": {
     "slide_type": "fragment"
    }
   },
   "source": [
    "- uso de software de simulação de circuitos eletrônicos, quando for o caso."
   ]
  },
  {
   "cell_type": "markdown",
   "id": "a425c939",
   "metadata": {
    "slideshow": {
     "slide_type": "subslide"
    }
   },
   "source": [
    "## Objetivos"
   ]
  },
  {
   "cell_type": "markdown",
   "id": "4cbc436d",
   "metadata": {
    "slideshow": {
     "slide_type": "fragment"
    }
   },
   "source": [
    "Prática de uso de :"
   ]
  },
  {
   "cell_type": "markdown",
   "id": "83137af3",
   "metadata": {
    "slideshow": {
     "slide_type": "fragment"
    }
   },
   "source": [
    "- fonte de tensão elétrica regulável;"
   ]
  },
  {
   "cell_type": "markdown",
   "id": "bffe701d",
   "metadata": {
    "slideshow": {
     "slide_type": "fragment"
    }
   },
   "source": [
    "- protoboard;"
   ]
  },
  {
   "cell_type": "markdown",
   "id": "48559249",
   "metadata": {
    "slideshow": {
     "slide_type": "fragment"
    }
   },
   "source": [
    "- circuito elétrico de uma malha com resistores, diodo e LED;"
   ]
  },
  {
   "cell_type": "markdown",
   "id": "0f1e411b",
   "metadata": {
    "slideshow": {
     "slide_type": "fragment"
    }
   },
   "source": [
    "- multímetros nos modos voltímetro e amperímetro para caracterização de dispositivo eletrônico via curva $V \\times I$."
   ]
  },
  {
   "cell_type": "markdown",
   "id": "be1d74e1",
   "metadata": {
    "slideshow": {
     "slide_type": "subslide"
    }
   },
   "source": [
    "## Teoria"
   ]
  },
  {
   "cell_type": "markdown",
   "id": "b2428dcf",
   "metadata": {
    "slideshow": {
     "slide_type": "fragment"
    }
   },
   "source": [
    "- corrente elétrica, resistência elétrica, diodo, LED (diodo emissor de luz) e circuitos elétricos de uma malha, vide bibliografia de \"Física C\" e dessa disciplina;"
   ]
  },
  {
   "cell_type": "markdown",
   "id": "8b1387f6",
   "metadata": {
    "slideshow": {
     "slide_type": "fragment"
    }
   },
   "source": [
    "- como funciona voltímetro e amperímetro em termos de princípio, vide trabalho em grupo \"Multímetros\";"
   ]
  },
  {
   "cell_type": "markdown",
   "id": "f7aaad70",
   "metadata": {
    "slideshow": {
     "slide_type": "fragment"
    }
   },
   "source": [
    "- cálculo de incerteza nas medidas de voltímetro e amperímetro  via consulta da escala, resolução e precisão no manual do multímetro, vide aulas anteriores aos experimentos;"
   ]
  },
  {
   "cell_type": "markdown",
   "id": "d27651a2",
   "metadata": {
    "slideshow": {
     "slide_type": "fragment"
    }
   },
   "source": [
    "- propagação de incertezas usando módulo [Python Uncertainties](https://pythonhosted.org/uncertainties/) com [NumPy](https://pythonhosted.org/uncertainties/numpy_guide.html), vide aulas anteriores aos experimentos."
   ]
  },
  {
   "cell_type": "markdown",
   "id": "c07e7a66",
   "metadata": {
    "slideshow": {
     "slide_type": "subslide"
    }
   },
   "source": [
    "## Equipamento"
   ]
  },
  {
   "cell_type": "markdown",
   "id": "dac330ef",
   "metadata": {
    "slideshow": {
     "slide_type": "fragment"
    }
   },
   "source": [
    "- fonte de tensão regulável;"
   ]
  },
  {
   "cell_type": "markdown",
   "id": "1e599f22",
   "metadata": {
    "slideshow": {
     "slide_type": "fragment"
    }
   },
   "source": [
    "- protoboard;"
   ]
  },
  {
   "cell_type": "markdown",
   "id": "12fc4778",
   "metadata": {
    "slideshow": {
     "slide_type": "fragment"
    }
   },
   "source": [
    "- fios/jumpers para protoboard;"
   ]
  },
  {
   "cell_type": "markdown",
   "id": "1adf10eb",
   "metadata": {
    "slideshow": {
     "slide_type": "fragment"
    }
   },
   "source": [
    "- 2 resistores;"
   ]
  },
  {
   "cell_type": "markdown",
   "id": "ce718abb",
   "metadata": {
    "slideshow": {
     "slide_type": "fragment"
    }
   },
   "source": [
    "- diodo;"
   ]
  },
  {
   "cell_type": "markdown",
   "id": "b0aaa171",
   "metadata": {
    "slideshow": {
     "slide_type": "fragment"
    }
   },
   "source": [
    "- LED de cor sorteada;"
   ]
  },
  {
   "cell_type": "markdown",
   "id": "4a025237",
   "metadata": {
    "slideshow": {
     "slide_type": "fragment"
    }
   },
   "source": [
    "- 2 multímetros com pontas-de-prova e garras jacaré."
   ]
  },
  {
   "cell_type": "markdown",
   "id": "0932fa3b",
   "metadata": {
    "slideshow": {
     "slide_type": "slide"
    }
   },
   "source": [
    "## Procedimento Experimental"
   ]
  },
  {
   "cell_type": "markdown",
   "id": "343e7b6b",
   "metadata": {
    "slideshow": {
     "slide_type": "fragment"
    }
   },
   "source": [
    "Para o relatório :"
   ]
  },
  {
   "cell_type": "markdown",
   "id": "f12d41d0",
   "metadata": {
    "slideshow": {
     "slide_type": "fragment"
    }
   },
   "source": [
    "- fazer registro fotográfico de cada montagem e de algumas medidas, para constar no relatório;"
   ]
  },
  {
   "cell_type": "markdown",
   "id": "d0bab935",
   "metadata": {
    "slideshow": {
     "slide_type": "fragment"
    }
   },
   "source": [
    "- fazer diagrama esquemático de cada montagem do circuito eletrônico, via algum software de desenho/projeto/simulação de circuitos eletrônicos."
   ]
  },
  {
   "cell_type": "markdown",
   "id": "b509c880",
   "metadata": {
    "slideshow": {
     "slide_type": "subslide"
    }
   },
   "source": [
    "### Montagem"
   ]
  },
  {
   "cell_type": "markdown",
   "id": "60788bf4",
   "metadata": {
    "slideshow": {
     "slide_type": "fragment"
    }
   },
   "source": [
    "**Utilizar as medidas fornecidas pelo professor, ou seja, o grupo não precisa realizar tal montagem e medidas** :"
   ]
  },
  {
   "cell_type": "markdown",
   "id": "7c400508",
   "metadata": {
    "slideshow": {
     "slide_type": "fragment"
    }
   },
   "source": [
    "1. fonte de tensão regulável com saída conectada no protoboard, **desligada**;"
   ]
  },
  {
   "cell_type": "markdown",
   "id": "5e95ad66",
   "metadata": {
    "slideshow": {
     "slide_type": "fragment"
    }
   },
   "source": [
    "2. **escolher via código de cores** (consulte tabela sobre isso) **os resistores** $R_L$ (limitador) e $R_C$ (carga) indicados e conectá-los em série no protoboard, com um terminal de $R_L$ conectado no terminal positivo da fonte de tensão e um terminal de $R_C$ conectado no terminal negativo da fonte de tensão;"
   ]
  },
  {
   "cell_type": "markdown",
   "id": "c8c884e5",
   "metadata": {
    "slideshow": {
     "slide_type": "fragment"
    }
   },
   "source": [
    "3. usar um multímetro em modo voltímetro, desligado, conectando-o em paralelo ao resistor $R_C$;"
   ]
  },
  {
   "cell_type": "markdown",
   "id": "ea363d45",
   "metadata": {
    "slideshow": {
     "slide_type": "fragment"
    }
   },
   "source": [
    "4. usar um multímetro em modo amperímetro, desligado, conectando-o em série entre o resistor $R_L$ e o resistor $R_C$;"
   ]
  },
  {
   "cell_type": "markdown",
   "id": "926e6362",
   "metadata": {
    "slideshow": {
     "slide_type": "fragment"
    }
   },
   "source": [
    "5. resultando em circuito eletrônico com fonte de tensão regulável + $R_L$ + amperímetro + $R_C$ em série, e voltímetro em paralelo a $R_C$."
   ]
  },
  {
   "cell_type": "markdown",
   "id": "0164c55a",
   "metadata": {
    "slideshow": {
     "slide_type": "subslide"
    }
   },
   "source": [
    "### Medidas"
   ]
  },
  {
   "cell_type": "markdown",
   "id": "254e1a6a",
   "metadata": {
    "slideshow": {
     "slide_type": "fragment"
    }
   },
   "source": [
    "#### Caracterização $V \\times I$ de Resistor $R_C$"
   ]
  },
  {
   "cell_type": "markdown",
   "id": "569420d3",
   "metadata": {
    "slideshow": {
     "slide_type": "fragment"
    }
   },
   "source": [
    "1. dados os valores dos resistores $R_L$ e $R_C$ escolhidos, calcule a corrente elétrica $I_{max}$ teórica máxima para a tensão $V_{Smax}$ máxima nominal da fonte (\"source\") de tensão regulável. $R_L = \\underline{\\ \\ \\ \\ \\ \\ \\ \\ \\ }\\,k\\Omega$, $R_C = \\underline{\\ \\ \\ \\ \\ \\ \\ \\ \\ }\\,k\\Omega$, $V_{Smax} = \\underline{\\ \\ \\ \\ \\ \\ \\ \\ \\ }\\,V$, $I_{max} = \\underline{\\ \\ \\ \\ \\ \\ \\ \\ \\ }\\,mA$;"
   ]
  },
  {
   "cell_type": "markdown",
   "id": "503e324d",
   "metadata": {
    "slideshow": {
     "slide_type": "fragment"
    }
   },
   "source": [
    "2. considerando o divisor de tensão com $R_L$ e $R_C$ e consultando o manual do multímetro, escolher a escala de tensão  elétrica contínua (DC) mais adequada do multímetro em modo voltímetro, i. e., a menor escala capaz de ler a tensão $V_{R_Cmax}$. Escala $= \\underline{\\ \\ \\ \\ \\ \\ \\ \\ \\ }\\,V$;"
   ]
  },
  {
   "cell_type": "markdown",
   "id": "5b04728d",
   "metadata": {
    "slideshow": {
     "slide_type": "fragment"
    }
   },
   "source": [
    "3. consultando o manual do multímetro, escolher a escala de corrente elétrica contínua (DC) mais adequada do multímetro em modo amperímetro, i. e., a menor escala capaz de ler a corrente $I_{max}$. Escala $= \\underline{\\ \\ \\ \\ \\ \\ \\ \\ \\ }\\, mA$;"
   ]
  },
  {
   "cell_type": "markdown",
   "id": "067faf0f",
   "metadata": {
    "slideshow": {
     "slide_type": "fragment"
    }
   },
   "source": [
    "4. ligar e selecionar a fonte de tensão regulável variando de $0\\,V$ até $V_{Smax}$ em 10 passos (variando 10%), depois inverta a polaridade e repita o procedimento, com 21 valores ao todo;"
   ]
  },
  {
   "cell_type": "markdown",
   "id": "17c2052e",
   "metadata": {
    "slideshow": {
     "slide_type": "subslide"
    }
   },
   "source": [
    "5. anotar a leitura da tela do multímetro em modo voltímetro, a escala usada, e via consulta do manual do  multímetro, anotar a resolução e precisão de tal escala. Calcular a partir disso a incerteza e expressar o valor da medida com incerteza e o número correto de algarismos significativos. Varie a escala, se necessário, usando a escala mais adequada. **Atenção, sempre desconecte um dos cabos do multímetro antes de mudar a escala, conectando depois**. Preencha a tabela 4 :"
   ]
  },
  {
   "cell_type": "markdown",
   "id": "fded8ec6",
   "metadata": {
    "slideshow": {
     "slide_type": "fragment"
    }
   },
   "source": [
    "| n  | $V_S\\,(V)$ |  Leitura da tela  | Escala (V)  | Resolução (V) |  Precisão ±(p%+nD)  | $V_{R_C}$ (V) com incerteza |\n",
    "|----|------------|-------------------|-------------|---------------|---------------------|----------------------------------|\n",
    "|  1 |            |                   |             |               |                     |                                   |\n",
    "| ... |            |                   |             |               |                     |                                   |\n",
    "| 21 |            |                   |             |               |                     |                                   |\n",
    "\n",
    "<center>Tabela 4 : Medidas de $V_{R_C}$ variando $V_S$, cujos dados serão repassados para cada grupo.</center>"
   ]
  },
  {
   "cell_type": "markdown",
   "id": "129167f8",
   "metadata": {
    "slideshow": {
     "slide_type": "subslide"
    }
   },
   "source": [
    "6. anotar a leitura da tela do multímetro em modo amperímetro, a escala usada, e via consulta do manual do  multímetro, anotar a resolução e precisão de tal escala. Calcular a partir disso a incerteza e expressar o valor da medida com incerteza e o número correto de algarismos significativos. Varie a escala, se necessário, usando a escala mais adequada. **Atenção, sempre desconecte um dos cabos do multímetro antes de mudar a escala, conectando depois**. Preencha a tabela 5 :"
   ]
  },
  {
   "cell_type": "markdown",
   "id": "82c9175a",
   "metadata": {
    "slideshow": {
     "slide_type": "fragment"
    }
   },
   "source": [
    "| n  | $V_S\\,(V)$ |  Leitura da tela  | Escala (A)  | Resolução (A) |  Precisão ±(p%+nD)  | $I_{R_C}$ (V) com incerteza |\n",
    "|----|------------|-------------------|-------------|---------------|---------------------|----------------------------------|\n",
    "|  1 |            |                   |             |               |                     |                                   |\n",
    "| ... |            |                   |             |               |                     |                                   |\n",
    "| 21 |            |                   |             |               |                     |                                   |\n",
    "\n",
    "<center>Tabela 5 : Medidas de $I_{R_C}$ variando $V_S$, cujos dados serão repassados para cada grupo.</center>"
   ]
  },
  {
   "cell_type": "markdown",
   "id": "e735c0f2",
   "metadata": {
    "slideshow": {
     "slide_type": "subslide"
    }
   },
   "source": [
    "#### Caracterização $V \\times I$ de Diodo $D$"
   ]
  },
  {
   "cell_type": "markdown",
   "id": "32bbed76",
   "metadata": {
    "slideshow": {
     "slide_type": "fragment"
    }
   },
   "source": [
    "1. substitua a carga, anteriormente o resistor $R_C$, pelo diodo $D$ indicado (com catodo, indicado pela faixa, conectado no terminal negativo da fonte de tensão regulável), que tem uma tensão direta $V_{Dmax}$ máxima nominal. Calcule a corrente elétrica $I_{max}$ teórica máxima para a tensão $V_S$ máxima nominal da fonte (\"source\") de tensão regulável. $R_L = \\underline{\\ \\ \\ \\ \\ \\ \\ \\ \\ }\\,k\\Omega$, $V_{Dmax} = \\underline{\\ \\ \\ \\ \\ \\ \\ \\ \\ }\\,V$, $V_{Smax} = \\underline{\\ \\ \\ \\ \\ \\ \\ \\ \\ }\\,V$, $I_{max} = \\underline{\\ \\ \\ \\ \\ \\ \\ \\ \\ }\\,mA$;"
   ]
  },
  {
   "cell_type": "markdown",
   "id": "2b3f5a7c",
   "metadata": {
    "slideshow": {
     "slide_type": "fragment"
    }
   },
   "source": [
    "2. consultando o manual do multímetro, escolher a escala de tensão  elétrica contínua (DC) mais adequada do multímetro em modo voltímetro, i. e., a menor escala capaz de ler a tensão $V_{Dmax}$. Escala $= \\underline{\\ \\ \\ \\ \\ \\ \\ \\ \\ }\\,V$;"
   ]
  },
  {
   "cell_type": "markdown",
   "id": "38cbc07c",
   "metadata": {
    "slideshow": {
     "slide_type": "fragment"
    }
   },
   "source": [
    "3. considerando a queda de tensão $V_{Dmax}$ e consultando o manual do multímetro, escolher a escala de corrente elétrica contínua (DC) mais adequada do multímetro em modo amperímetro, i. e., a menor escala capaz de ler a corrente $I_{max}$. Escala $= \\underline{\\ \\ \\ \\ \\ \\ \\ \\ \\ }\\, mA$;"
   ]
  },
  {
   "cell_type": "markdown",
   "id": "1c293a36",
   "metadata": {
    "slideshow": {
     "slide_type": "fragment"
    }
   },
   "source": [
    "4. ligar e selecionar a fonte de tensão regulável variando de $0\\,V$ até $V_{Smax}$ em 10 passos (variando 10%), depois inverta a polaridade e repita o procedimento porém variando 50%, com 13 valores ao todo;"
   ]
  },
  {
   "cell_type": "markdown",
   "id": "7a770676",
   "metadata": {
    "slideshow": {
     "slide_type": "subslide"
    }
   },
   "source": [
    "5. anotar a leitura da tela do multímetro em modo voltímetro, a escala usada, e via consulta do manual do  multímetro, anotar a resolução e precisão de tal escala. Calcular a partir disso a incerteza e expressar o valor da medida com incerteza e o número correto de algarismos significativos. Varie a escala, se necessário, usando a escala mais adequada. **Atenção, sempre desconecte um dos cabos do multímetro antes de mudar a escala, conectando depois**. Preencha a tabela 6 :"
   ]
  },
  {
   "cell_type": "markdown",
   "id": "3cb53c3c",
   "metadata": {
    "slideshow": {
     "slide_type": "fragment"
    }
   },
   "source": [
    "| n  | $V_S\\,(V)$ |  Leitura da tela  | Escala (V)  | Resolução (V) |  Precisão ±(p%+nD)  | $V_{D}$ (V) com incerteza |\n",
    "|----|------------|-------------------|-------------|---------------|---------------------|----------------------------------|\n",
    "|  1 |            |                   |             |               |                     |                                   |\n",
    "| ... |            |                   |             |               |                     |                                   |\n",
    "| 13 |            |                   |             |               |                     |                                   |\n",
    "\n",
    "<center>Tabela 6 : Medidas de $V_{D}$ variando $V_S$, cujos dados serão repassados para cada grupo.</center>"
   ]
  },
  {
   "cell_type": "markdown",
   "id": "ef2668d4",
   "metadata": {
    "slideshow": {
     "slide_type": "subslide"
    }
   },
   "source": [
    "6. anotar a leitura da tela do multímetro em modo amperímetro, a escala usada, e via consulta do manual do  multímetro, anotar a resolução e precisão de tal escala. Calcular a partir disso a incerteza e expressar o valor da medida com incerteza e o número correto de algarismos significativos. Varie a escala, se necessário, usando a escala mais adequada. **Atenção, sempre desconecte um dos cabos do multímetro antes de mudar a escala, conectando depois**. Preencha a tabela 7 :"
   ]
  },
  {
   "cell_type": "markdown",
   "id": "82dee647",
   "metadata": {
    "slideshow": {
     "slide_type": "fragment"
    }
   },
   "source": [
    "| n  | $V_S\\,(V)$ |  Leitura da tela  | Escala (A)  | Resolução (A) |  Precisão ±(p%+nD)  | $I_{D}$ (V) com incerteza |\n",
    "|----|------------|-------------------|-------------|---------------|---------------------|----------------------------------|\n",
    "|  1 |            |                   |             |               |                     |                                   |\n",
    "| ... |            |                   |             |               |                     |                                   |\n",
    "| 13 |            |                   |             |               |                     |                                   |\n",
    "\n",
    "<center>Tabela 7 : Medidas de $I_{D}$ variando $V_S$, cujos dados serão repassados para cada grupo.</center>"
   ]
  },
  {
   "cell_type": "markdown",
   "id": "4bbb6c2a",
   "metadata": {
    "slideshow": {
     "slide_type": "subslide"
    }
   },
   "source": [
    "#### Caracterização $V \\times I$ de LED"
   ]
  },
  {
   "cell_type": "markdown",
   "id": "1d5fba53",
   "metadata": {
    "slideshow": {
     "slide_type": "fragment"
    }
   },
   "source": [
    "1. substitua a carga, anteriormente o resistor $R_C$, pelo LED indicado (com catodo, indicado pelo terminal mais curto, conectado no terminal negativo da fonte de tensão regulável), que tem uma tensão direta $V_{LEDmax}$ máxima nominal. Calcule a corrente elétrica $I_{max}$ teórica máxima para a tensão $V_S$ máxima nominal da fonte (\"source\") de tensão regulável. $R_L = \\underline{\\ \\ \\ \\ \\ \\ \\ \\ \\ }\\,k\\Omega$, $V_{LEDmax} = \\underline{\\ \\ \\ \\ \\ \\ \\ \\ \\ }\\,V$, $V_{Smax} = \\underline{\\ \\ \\ \\ \\ \\ \\ \\ \\ }\\,V$, $I_{max} = \\underline{\\ \\ \\ \\ \\ \\ \\ \\ \\ }\\,mA$;"
   ]
  },
  {
   "cell_type": "markdown",
   "id": "669d7330",
   "metadata": {
    "slideshow": {
     "slide_type": "fragment"
    }
   },
   "source": [
    "2. consultando o manual do multímetro, escolher a escala de tensão  elétrica contínua (DC) mais adequada do multímetro em modo voltímetro, i. e., a menor escala capaz de ler a tensão $V_{LEDmax}$. Escala $= \\underline{\\ \\ \\ \\ \\ \\ \\ \\ \\ }\\,V$;"
   ]
  },
  {
   "cell_type": "markdown",
   "id": "3e6a7fb9",
   "metadata": {
    "slideshow": {
     "slide_type": "fragment"
    }
   },
   "source": [
    "3. considerando a queda de tensão $V_{Dmax}$ e consultando o manual do multímetro, escolher a escala de corrente elétrica contínua (DC) mais adequada do multímetro em modo amperímetro, i. e., a menor escala capaz de ler a corrente $I_{max}$. Escala $= \\underline{\\ \\ \\ \\ \\ \\ \\ \\ \\ }\\, mA$;"
   ]
  },
  {
   "cell_type": "markdown",
   "id": "14694b68",
   "metadata": {
    "slideshow": {
     "slide_type": "fragment"
    }
   },
   "source": [
    "4. ligar e selecionar a fonte de tensão regulável variando de $0\\,V$ até $V_{Smax}$ em 10 passos (variando 10%), depois inverta a polaridade e repita o procedimento porém variando 50%, com 13 valores ao todo;"
   ]
  },
  {
   "cell_type": "markdown",
   "id": "95542cec",
   "metadata": {
    "slideshow": {
     "slide_type": "subslide"
    }
   },
   "source": [
    "5. anotar a leitura da tela do multímetro em modo voltímetro, a escala usada, e via consulta do manual do  multímetro, anotar a resolução e precisão de tal escala. Calcular a partir disso a incerteza e expressar o valor da medida com incerteza e o número correto de algarismos significativos. Varie a escala, se necessário, usando a escala mais adequada. **Atenção, sempre desconecte um dos cabos do multímetro antes de mudar a escala, conectando depois**. Preencha a tabela 8 :"
   ]
  },
  {
   "cell_type": "markdown",
   "id": "66c6bf92",
   "metadata": {
    "slideshow": {
     "slide_type": "fragment"
    }
   },
   "source": [
    "| n  | $V_S\\,(V)$ |  Leitura da tela  | Escala (V)  | Resolução (V) |  Precisão ±(p%+nD)  | $V_{LED}$ (V) com incerteza |\n",
    "|----|------------|-------------------|-------------|---------------|---------------------|----------------------------------|\n",
    "|  1 |            |                   |             |               |                     |                                   |\n",
    "| ... |            |                   |             |               |                     |                                   |\n",
    "| 13 |            |                   |             |               |                     |                                   |\n",
    "\n",
    "<center>Tabela 8 : Medidas de $V_{LED}$ variando $V_S$, cujos dados serão repassados para cada grupo.</center>"
   ]
  },
  {
   "cell_type": "markdown",
   "id": "3b5282f6",
   "metadata": {
    "slideshow": {
     "slide_type": "subslide"
    }
   },
   "source": [
    "6. anotar a leitura da tela do multímetro em modo amperímetro, a escala usada, e via consulta do manual do  multímetro, anotar a resolução e precisão de tal escala. Calcular a partir disso a incerteza e expressar o valor da medida com incerteza e o número correto de algarismos significativos. Varie a escala, se necessário, usando a escala mais adequada. **Atenção, sempre desconecte um dos cabos do multímetro antes de mudar a escala, conectando depois**. Preencha a tabela 9 :"
   ]
  },
  {
   "cell_type": "markdown",
   "id": "e53b0deb",
   "metadata": {
    "slideshow": {
     "slide_type": "fragment"
    }
   },
   "source": [
    "| n  | $V_S\\,(V)$ |  Leitura da tela  | Escala (A)  | Resolução (A) |  Precisão ±(p%+nD)  | $I_{LED}$ (V) com incerteza |\n",
    "|----|------------|-------------------|-------------|---------------|---------------------|----------------------------------|\n",
    "|  1 |            |                   |             |               |                     |                                   |\n",
    "| ... |            |                   |             |               |                     |                                   |\n",
    "| 13 |            |                   |             |               |                     |                                   |\n",
    "\n",
    "<center>Tabela 9 : Medidas de $I_{LED}$ variando $V_S$, cujos dados serão repassados para cada grupo.</center>"
   ]
  },
  {
   "cell_type": "markdown",
   "id": "709a0dbd",
   "metadata": {
    "slideshow": {
     "slide_type": "subslide"
    }
   },
   "source": [
    "## Análises"
   ]
  },
  {
   "cell_type": "markdown",
   "id": "385031e0",
   "metadata": {
    "slideshow": {
     "slide_type": "fragment"
    }
   },
   "source": [
    "#### Caracterização $V \\times I$ de Resistor $R_C$"
   ]
  },
  {
   "cell_type": "markdown",
   "id": "e214890d",
   "metadata": {
    "slideshow": {
     "slide_type": "fragment"
    }
   },
   "source": [
    "1. faça um gráfico de $V_{R_C} \\times I_{R_C}$ (ou seja, $I_{R_C}$ no eixo horizontal), usando SciDAVis (ou AlphaPlot, ou Python), com barras de incerteza e cálculo de ajuste de curva. A curva é linear ou não-linear ? Obtenha o coeficiente angular do ajuste linear e compare com o valor nominal de $R_C$. Ou seja, analisando graficamente, o resistor $R_C$ segue a lei de Ohm ?\n"
   ]
  },
  {
   "cell_type": "markdown",
   "id": "c6ad6b57",
   "metadata": {
    "slideshow": {
     "slide_type": "fragment"
    }
   },
   "source": [
    "2. Ao inverter a polaridade da fonte de tensão $V_S$, o que ocorre com as medidas elétricas do resistor $R_C$ ? Então resistor tem polaridade, só conduzindo em um sentido ?"
   ]
  },
  {
   "cell_type": "markdown",
   "id": "e0bcf697",
   "metadata": {
    "slideshow": {
     "slide_type": "subslide"
    }
   },
   "source": [
    "3. a partir dos valores de $V_{R_C}$ da tabela 4 e $I_{R_C}$ da tabela 5, calcule a potência $P_{R_C} = V_{R_C} I_{R_C}$ com propagação de incertezas usando módulo [Python Uncertainties](https://pythonhosted.org/uncertainties/) com [NumPy](https://pythonhosted.org/uncertainties/numpy_guide.html), criando a tabela 10 :"
   ]
  },
  {
   "cell_type": "markdown",
   "id": "20827c5d",
   "metadata": {
    "slideshow": {
     "slide_type": "fragment"
    }
   },
   "source": [
    "| n  | $V_{R_C}\\,(V)$ com incerteza |  $I_{R_C}\\,(V)$ com incerteza | $P_{R_C}\\,(V)$ com incerteza |\n",
    "|:--:|:----------------------------:|:-----------------------------:|:----------------------------:|\n",
    "|  1 |                              |                               |                              |\n",
    "|... |                              |                               |                              |\n",
    "| 21 |                              |                               |                              |\n",
    "\n",
    "<center>Tabela 10 : $P_{R_C}$ variando $V_S$.</center>"
   ]
  },
  {
   "cell_type": "markdown",
   "id": "72f45923",
   "metadata": {
    "slideshow": {
     "slide_type": "fragment"
    }
   },
   "source": [
    "4. faça um gráfico de $P_{R_C} \\times I_{R_C}$ (ou seja, $I_{R_C}$ no eixo horizontal), usando SciDAVis (ou AlphaPlot, ou Python), com barras de incerteza. A curva é linear ou não-linear, de que tipo ? Compare com o comportamento previsto teoricamente de $P_{R_C}$ em termos de $R_C$ e $I_{R_C}$."
   ]
  },
  {
   "cell_type": "markdown",
   "id": "35609a05",
   "metadata": {
    "slideshow": {
     "slide_type": "subslide"
    }
   },
   "source": [
    "#### Caracterização $V \\times I$ de Diodo $D$"
   ]
  },
  {
   "cell_type": "markdown",
   "id": "3116e261",
   "metadata": {
    "slideshow": {
     "slide_type": "fragment"
    }
   },
   "source": [
    "1. faça um gráfico de $V_{D} \\times I_{D}$ (ou seja, $I_{D}$ no eixo horizontal), usando SciDAVis (ou AlphaPlot, ou Python), com barras de incerteza. A curva é linear ou não-linear ?"
   ]
  },
  {
   "cell_type": "markdown",
   "id": "ced2bd49",
   "metadata": {
    "slideshow": {
     "slide_type": "fragment"
    }
   },
   "source": [
    "2. Compare a tensão direta $V_{Dmax}$ máxima nominal com o valor de tensão tendendo a linha horizontal no gráfico."
   ]
  },
  {
   "cell_type": "markdown",
   "id": "4cd7213b",
   "metadata": {
    "slideshow": {
     "slide_type": "fragment"
    }
   },
   "source": [
    "3. Ao inverter a polaridade da fonte de tensão $V_S$, o que ocorre com as medidas elétricas do diodo ? Então diodo tem polaridade, só conduzindo em um sentido ?"
   ]
  },
  {
   "cell_type": "markdown",
   "id": "e88b10aa",
   "metadata": {
    "slideshow": {
     "slide_type": "fragment"
    }
   },
   "source": [
    "4. use software de simulação de circuitos eletrônicos para o circuito com fonte de tensão regulável $V_S$, resistor limitador $R_L$ e diodo $D$, variando $V_S$ e medindo $V_{D}$ e $I_{D}$ sem incertezas via software. Faça um outro gráfico de $V_{D} \\times I_{D}$ (ou seja, $I_{D}$ no eixo horizontal), usando SciDAVis (ou AlphaPlot, ou Python), sem barras de incerteza. Compare com o gráfico feito a partir de medidas."
   ]
  },
  {
   "cell_type": "markdown",
   "id": "375a902c",
   "metadata": {
    "slideshow": {
     "slide_type": "subslide"
    }
   },
   "source": [
    "#### Caracterização $V \\times I$ de LED"
   ]
  },
  {
   "cell_type": "markdown",
   "id": "2f86f5fd",
   "metadata": {
    "slideshow": {
     "slide_type": "fragment"
    }
   },
   "source": [
    "1. faça um gráfico de $V_{LED} \\times I_{LED}$ (ou seja, $I_{LED}$ no eixo horizontal), usando SciDAVis (ou AlphaPlot, ou Python), com barras de incerteza. A curva é linear ou não-linear ?\n"
   ]
  },
  {
   "cell_type": "markdown",
   "id": "6fd67722",
   "metadata": {
    "slideshow": {
     "slide_type": "fragment"
    }
   },
   "source": [
    "2. Compare a tensão direta $V_{LEDmax}$ máxima nominal com o valor de tensão tendendo a linha horizontal no gráfico."
   ]
  },
  {
   "cell_type": "markdown",
   "id": "1bf4fbb9",
   "metadata": {
    "slideshow": {
     "slide_type": "fragment"
    }
   },
   "source": [
    "3. Ao inverter a polaridade da fonte de tensão $V_S$, o que ocorre com as medidas elétricas do LED ? Então LED tem polaridade, só conduzindo em um sentido ?"
   ]
  }
 ],
 "metadata": {
  "celltoolbar": "Slideshow",
  "kernelspec": {
   "display_name": "Python 3",
   "language": "python",
   "name": "python3"
  },
  "language_info": {
   "codemirror_mode": {
    "name": "ipython",
    "version": 3
   },
   "file_extension": ".py",
   "mimetype": "text/x-python",
   "name": "python",
   "nbconvert_exporter": "python",
   "pygments_lexer": "ipython3",
   "version": "3.8.10"
  }
 },
 "nbformat": 4,
 "nbformat_minor": 5
}
