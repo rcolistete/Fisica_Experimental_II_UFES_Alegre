{
 "cells": [
  {
   "cell_type": "markdown",
   "id": "b6c301fc",
   "metadata": {
    "slideshow": {
     "slide_type": "slide"
    }
   },
   "source": [
    "# Roteiro do Experimento\n",
    "# \"Caracterização de Dispositivos Eletrônicos\"\n",
    "## Disciplina - DQF10441 Física Experimental II\n",
    "### Semestre 2021/2 EARTE - [DQF - CCENS](http://alegre.ufes.br/ccens/departamento-de-quimica-e-fisica) - [UFES/Alegre](http://alegre.ufes.br/)\n",
    "#### Professor : [Roberto Colistete Jr.](https://github.com/rcolistete)"
   ]
  },
  {
   "cell_type": "markdown",
   "id": "ce6a8650",
   "metadata": {
    "slideshow": {
     "slide_type": "slide"
    }
   },
   "source": [
    "O **experimento \"Caracterização de Dispositivos Eletrônico\"** é uma mistura dos experimentos originais do [sítio eletrônico do Laboratório 2 de Física da UFES-Alegre, seção de roteiros](https://fisica.alegre.ufes.br/roteiros-de-fisica-experimental-ii-e-fisica-iii) :"
   ]
  },
  {
   "cell_type": "markdown",
   "id": "85ac3d23",
   "metadata": {
    "slideshow": {
     "slide_type": "fragment"
    }
   },
   "source": [
    "- \"Equipamentos de Laboratório Relacionados com a Medição de Grandezas Elétricas\";"
   ]
  },
  {
   "cell_type": "markdown",
   "id": "c3597f8a",
   "metadata": {
    "slideshow": {
     "slide_type": "fragment"
    }
   },
   "source": [
    "- \"Caracterização de Dispositivos Eletrônicos\"."
   ]
  },
  {
   "cell_type": "markdown",
   "id": "37b8590e",
   "metadata": {
    "slideshow": {
     "slide_type": "fragment"
    }
   },
   "source": [
    "As mudanças principais se referem a :"
   ]
  },
  {
   "cell_type": "markdown",
   "id": "c32d7d12",
   "metadata": {
    "slideshow": {
     "slide_type": "fragment"
    }
   },
   "source": [
    "- foco no uso de multímetro;"
   ]
  },
  {
   "cell_type": "markdown",
   "id": "a8f9daaf",
   "metadata": {
    "slideshow": {
     "slide_type": "fragment"
    }
   },
   "source": [
    "- uso de equipamento mais portátil, de menor custo e mais acessível, permitindo uso EARTE em aulas remotas, fora do laboratório;"
   ]
  },
  {
   "cell_type": "markdown",
   "id": "fde4aee0",
   "metadata": {
    "slideshow": {
     "slide_type": "fragment"
    }
   },
   "source": [
    "- uso de medidas fornecidas pelo professor, quando for o caso;"
   ]
  },
  {
   "cell_type": "markdown",
   "id": "7bd16e20",
   "metadata": {
    "slideshow": {
     "slide_type": "fragment"
    }
   },
   "source": [
    "- uso de software de simulação de circuitos eletrônicos, quando for o caso."
   ]
  },
  {
   "cell_type": "markdown",
   "id": "2bf74552",
   "metadata": {
    "slideshow": {
     "slide_type": "slide"
    }
   },
   "source": [
    "# Caracterização de Resistor, Diodo e LED com Multímetro"
   ]
  },
  {
   "cell_type": "markdown",
   "id": "d2357028",
   "metadata": {
    "slideshow": {
     "slide_type": "fragment"
    }
   },
   "source": [
    "Tal experimento emprega :"
   ]
  },
  {
   "cell_type": "markdown",
   "id": "9b5051cf",
   "metadata": {
    "slideshow": {
     "slide_type": "fragment"
    }
   },
   "source": [
    "- prioritariamente uso de medidas fornecidas pelo professor, pois a fonte de tensão regulável é equipamento mais complexo e caro e por isso não está presente no kit de material; "
   ]
  },
  {
   "cell_type": "markdown",
   "id": "af03df86",
   "metadata": {
    "slideshow": {
     "slide_type": "fragment"
    }
   },
   "source": [
    "- uso de software de simulação de circuitos eletrônicos, quando for o caso."
   ]
  },
  {
   "cell_type": "markdown",
   "id": "a425c939",
   "metadata": {
    "slideshow": {
     "slide_type": "subslide"
    }
   },
   "source": [
    "## Objetivos"
   ]
  },
  {
   "cell_type": "markdown",
   "id": "4cbc436d",
   "metadata": {
    "slideshow": {
     "slide_type": "fragment"
    }
   },
   "source": [
    "Prática de uso de :"
   ]
  },
  {
   "cell_type": "markdown",
   "id": "83137af3",
   "metadata": {
    "slideshow": {
     "slide_type": "fragment"
    }
   },
   "source": [
    "- fonte de tensão elétrica regulável;"
   ]
  },
  {
   "cell_type": "markdown",
   "id": "bffe701d",
   "metadata": {
    "slideshow": {
     "slide_type": "fragment"
    }
   },
   "source": [
    "- protoboard;"
   ]
  },
  {
   "cell_type": "markdown",
   "id": "48559249",
   "metadata": {
    "slideshow": {
     "slide_type": "fragment"
    }
   },
   "source": [
    "- circuito elétrico de uma malha com resistores, diodo e LED;"
   ]
  },
  {
   "cell_type": "markdown",
   "id": "0f1e411b",
   "metadata": {
    "slideshow": {
     "slide_type": "fragment"
    }
   },
   "source": [
    "- multímetros nos modos voltímetro e amperímetro para caracterização de dispositivo eletrônico via curva $V \\times I$."
   ]
  },
  {
   "cell_type": "markdown",
   "id": "be1d74e1",
   "metadata": {
    "slideshow": {
     "slide_type": "subslide"
    }
   },
   "source": [
    "## Teoria"
   ]
  },
  {
   "cell_type": "markdown",
   "id": "b2428dcf",
   "metadata": {
    "slideshow": {
     "slide_type": "fragment"
    }
   },
   "source": [
    "- corrente elétrica, resistência elétrica, diodo, LED (diodo emissor de luz) e circuitos elétricos de uma malha, vide bibliografia de \"Física C\" e dessa disciplina;"
   ]
  },
  {
   "cell_type": "markdown",
   "id": "8b1387f6",
   "metadata": {
    "slideshow": {
     "slide_type": "fragment"
    }
   },
   "source": [
    "- como funciona voltímetro e amperímetro em termos de princípio, vide trabalho em grupo \"Multímetros\";"
   ]
  },
  {
   "cell_type": "markdown",
   "id": "f7aaad70",
   "metadata": {
    "slideshow": {
     "slide_type": "fragment"
    }
   },
   "source": [
    "- cálculo de incerteza nas medidas de voltímetro e amperímetro  via consulta da escala, resolução e precisão no manual do multímetro, vide aulas anteriores aos experimentos;"
   ]
  },
  {
   "cell_type": "markdown",
   "id": "d27651a2",
   "metadata": {
    "slideshow": {
     "slide_type": "fragment"
    }
   },
   "source": [
    "- propagação de incertezas usando módulo [Python Uncertainties](https://pythonhosted.org/uncertainties/) com [NumPy](https://pythonhosted.org/uncertainties/numpy_guide.html), vide aulas anteriores aos experimentos."
   ]
  },
  {
   "cell_type": "markdown",
   "id": "c07e7a66",
   "metadata": {
    "slideshow": {
     "slide_type": "subslide"
    }
   },
   "source": [
    "## Equipamento"
   ]
  },
  {
   "cell_type": "markdown",
   "id": "dac330ef",
   "metadata": {
    "slideshow": {
     "slide_type": "fragment"
    }
   },
   "source": [
    "- fonte de tensão regulável;"
   ]
  },
  {
   "cell_type": "markdown",
   "id": "1e599f22",
   "metadata": {
    "slideshow": {
     "slide_type": "fragment"
    }
   },
   "source": [
    "- protoboard;"
   ]
  },
  {
   "cell_type": "markdown",
   "id": "12fc4778",
   "metadata": {
    "slideshow": {
     "slide_type": "fragment"
    }
   },
   "source": [
    "- fios/jumpers para protoboard;"
   ]
  },
  {
   "cell_type": "markdown",
   "id": "1adf10eb",
   "metadata": {
    "slideshow": {
     "slide_type": "fragment"
    }
   },
   "source": [
    "- 2 resistores;"
   ]
  },
  {
   "cell_type": "markdown",
   "id": "ce718abb",
   "metadata": {
    "slideshow": {
     "slide_type": "fragment"
    }
   },
   "source": [
    "- diodo;"
   ]
  },
  {
   "cell_type": "markdown",
   "id": "b0aaa171",
   "metadata": {
    "slideshow": {
     "slide_type": "fragment"
    }
   },
   "source": [
    "- LED de cor sorteada;"
   ]
  },
  {
   "cell_type": "markdown",
   "id": "4a025237",
   "metadata": {
    "slideshow": {
     "slide_type": "fragment"
    }
   },
   "source": [
    "- 2 multímetros com pontas-de-prova e garras jacaré."
   ]
  },
  {
   "cell_type": "markdown",
   "id": "0932fa3b",
   "metadata": {
    "slideshow": {
     "slide_type": "slide"
    }
   },
   "source": [
    "## Procedimento Experimental"
   ]
  },
  {
   "cell_type": "markdown",
   "id": "343e7b6b",
   "metadata": {
    "slideshow": {
     "slide_type": "fragment"
    }
   },
   "source": [
    "Para o relatório :"
   ]
  },
  {
   "cell_type": "markdown",
   "id": "f12d41d0",
   "metadata": {
    "slideshow": {
     "slide_type": "fragment"
    }
   },
   "source": [
    "- fazer registro fotográfico de cada montagem e de algumas medidas, para constar no relatório;"
   ]
  },
  {
   "cell_type": "markdown",
   "id": "d0bab935",
   "metadata": {
    "slideshow": {
     "slide_type": "fragment"
    }
   },
   "source": [
    "- fazer diagrama esquemático de cada montagem do circuito eletrônico, via algum software de desenho/projeto/simulação de circuitos eletrônicos."
   ]
  },
  {
   "cell_type": "markdown",
   "id": "b509c880",
   "metadata": {
    "slideshow": {
     "slide_type": "subslide"
    }
   },
   "source": [
    "### Montagem"
   ]
  },
  {
   "cell_type": "markdown",
   "id": "60788bf4",
   "metadata": {
    "slideshow": {
     "slide_type": "fragment"
    }
   },
   "source": [
    "**Utilizar as medidas fornecidas pelo professor, ou seja, o grupo não precisa realizar tal montagem e medidas** :"
   ]
  },
  {
   "cell_type": "markdown",
   "id": "7c400508",
   "metadata": {
    "slideshow": {
     "slide_type": "fragment"
    }
   },
   "source": [
    "1) fonte de tensão regulável com saída conectada no protoboard, **desligada**;"
   ]
  },
  {
   "cell_type": "markdown",
   "id": "5e95ad66",
   "metadata": {
    "slideshow": {
     "slide_type": "fragment"
    }
   },
   "source": [
    "2) **escolher via código de cores** (consulte tabela sobre isso) **os resistores** $R_L$ (limitador) e $R_C$ (carga) indicados e conectá-los em série no protoboard, com um terminal de $R_L$ conectado no terminal positivo da fonte de tensão e um terminal de $R_C$ conectado no terminal negativo da fonte de tensão;"
   ]
  },
  {
   "cell_type": "markdown",
   "id": "c8c884e5",
   "metadata": {
    "slideshow": {
     "slide_type": "fragment"
    }
   },
   "source": [
    "3) usar um multímetro em modo voltímetro, desligado, conectando-o em paralelo ao resistor $R_C$;"
   ]
  },
  {
   "cell_type": "markdown",
   "id": "ea363d45",
   "metadata": {
    "slideshow": {
     "slide_type": "fragment"
    }
   },
   "source": [
    "4) usar um multímetro em modo amperímetro, desligado, conectando-o em série entre o resistor $R_L$ e o resistor $R_C$;"
   ]
  },
  {
   "cell_type": "markdown",
   "id": "926e6362",
   "metadata": {
    "slideshow": {
     "slide_type": "fragment"
    }
   },
   "source": [
    "5) resultando em circuito eletrônico com fonte de tensão regulável + $R_L$ + amperímetro + $R_C$ em série, e voltímetro em paralelo a $R_C$."
   ]
  },
  {
   "cell_type": "markdown",
   "id": "0164c55a",
   "metadata": {
    "slideshow": {
     "slide_type": "subslide"
    }
   },
   "source": [
    "### Medidas"
   ]
  },
  {
   "cell_type": "markdown",
   "id": "254e1a6a",
   "metadata": {
    "slideshow": {
     "slide_type": "fragment"
    }
   },
   "source": [
    "#### Caracterização $V \\times I$ de Resistor $R_C$"
   ]
  },
  {
   "cell_type": "markdown",
   "id": "569420d3",
   "metadata": {
    "slideshow": {
     "slide_type": "fragment"
    }
   },
   "source": [
    "1) dados os valores dos resistores $R_L$ e $R_C$ escolhidos, calcule a corrente elétrica $I_{max}$ teórica máxima para a tensão $V_{Smax}$ máxima nominal da fonte (\"source\") de tensão regulável. $R_L = \\underline{\\ \\ \\ \\ \\ \\ \\ \\ \\ }\\,k\\Omega$, $R_C = \\underline{\\ \\ \\ \\ \\ \\ \\ \\ \\ }\\,k\\Omega$, $V_{Smax} = \\underline{\\ \\ \\ \\ \\ \\ \\ \\ \\ }\\,V$, $I_{max} = \\underline{\\ \\ \\ \\ \\ \\ \\ \\ \\ }\\,mA$;"
   ]
  },
  {
   "cell_type": "markdown",
   "id": "503e324d",
   "metadata": {
    "slideshow": {
     "slide_type": "fragment"
    }
   },
   "source": [
    "2) considerando o divisor de tensão com $R_L$ e $R_C$ e consultando o manual do multímetro, escolher a escala de tensão  elétrica contínua (DC) mais adequada do multímetro em modo voltímetro, i. e., a menor escala capaz de ler a tensão $V_{R_Cmax}$. Escala $= \\underline{\\ \\ \\ \\ \\ \\ \\ \\ \\ }\\,V$;"
   ]
  },
  {
   "cell_type": "markdown",
   "id": "5b04728d",
   "metadata": {
    "slideshow": {
     "slide_type": "fragment"
    }
   },
   "source": [
    "3) consultando o manual do multímetro, escolher a escala de corrente elétrica contínua (DC) mais adequada do multímetro em modo amperímetro, i. e., a menor escala capaz de ler a corrente $I_{max}$. Escala $= \\underline{\\ \\ \\ \\ \\ \\ \\ \\ \\ }\\, mA$;"
   ]
  },
  {
   "cell_type": "markdown",
   "id": "067faf0f",
   "metadata": {
    "slideshow": {
     "slide_type": "fragment"
    }
   },
   "source": [
    "4) ligar e selecionar a fonte de tensão regulável variando de $0\\,V$ até $V_{Smax}$ em 10 passos (variando 10%), depois inverta a polaridade e repita o procedimento, com 21 valores ao todo;"
   ]
  },
  {
   "cell_type": "markdown",
   "id": "17c2052e",
   "metadata": {
    "slideshow": {
     "slide_type": "subslide"
    }
   },
   "source": [
    "5) anotar a leitura da tela do multímetro em modo voltímetro, a escala usada, e via consulta do manual do  multímetro, anotar a resolução e precisão de tal escala. Calcular a partir disso a incerteza e expressar o valor da medida com incerteza e o número correto de algarismos significativos. Varie a escala, se necessário, usando a escala mais adequada. **Atenção, sempre desconecte um dos cabos do multímetro antes de mudar a escala, conectando depois**. Preencha a tabela 4 :"
   ]
  },
  {
   "cell_type": "markdown",
   "id": "fded8ec6",
   "metadata": {
    "slideshow": {
     "slide_type": "fragment"
    }
   },
   "source": [
    "| n  | $V_S\\,(V)$ |  Leitura da tela  | Escala (V)  | Resolução (V) |  Precisão ±(p%+nD)  | $V_{R_C}$ (V) com incerteza |\n",
    "|----|------------|-------------------|-------------|---------------|---------------------|----------------------------------|\n",
    "|  1 |            |                   |             |               |                     |                                   |\n",
    "| ... |            |                   |             |               |                     |                                   |\n",
    "| 21 |            |                   |             |               |                     |                                   |\n",
    "\n",
    "<center>Tabela 4 : Medidas de $V_{R_C}$ variando $V_S$, cujos dados serão repassados para cada grupo.</center>"
   ]
  },
  {
   "cell_type": "markdown",
   "id": "129167f8",
   "metadata": {
    "slideshow": {
     "slide_type": "subslide"
    }
   },
   "source": [
    "6) anotar a leitura da tela do multímetro em modo amperímetro, a escala usada, e via consulta do manual do  multímetro, anotar a resolução e precisão de tal escala. Calcular a partir disso a incerteza e expressar o valor da medida com incerteza e o número correto de algarismos significativos. Varie a escala, se necessário, usando a escala mais adequada. **Atenção, sempre desconecte um dos cabos do multímetro antes de mudar a escala, conectando depois**. Preencha a tabela 5 :"
   ]
  },
  {
   "cell_type": "markdown",
   "id": "82c9175a",
   "metadata": {
    "slideshow": {
     "slide_type": "fragment"
    }
   },
   "source": [
    "| n  | $V_S\\,(V)$ |  Leitura da tela  | Escala (A)  | Resolução (A) |  Precisão ±(p%+nD)  | $I_{R_C}$ (V) com incerteza |\n",
    "|----|------------|-------------------|-------------|---------------|---------------------|----------------------------------|\n",
    "|  1 |            |                   |             |               |                     |                                   |\n",
    "| ... |            |                   |             |               |                     |                                   |\n",
    "| 21 |            |                   |             |               |                     |                                   |\n",
    "\n",
    "<center>Tabela 5 : Medidas de $I_{R_C}$ variando $V_S$, cujos dados serão repassados para cada grupo.</center>"
   ]
  },
  {
   "cell_type": "markdown",
   "id": "e735c0f2",
   "metadata": {
    "slideshow": {
     "slide_type": "subslide"
    }
   },
   "source": [
    "#### Caracterização $V \\times I$ de Diodo $D$"
   ]
  },
  {
   "cell_type": "markdown",
   "id": "32bbed76",
   "metadata": {
    "slideshow": {
     "slide_type": "fragment"
    }
   },
   "source": [
    "1) substitua a carga, anteriormente o resistor $R_C$, pelo diodo $D$ indicado (com catodo, indicado pela faixa, conectado no terminal negativo da fonte de tensão regulável), que tem uma tensão direta $V_{Dmax}$ máxima nominal. Calcule a corrente elétrica $I_{max}$ teórica máxima para a tensão $V_S$ máxima nominal da fonte (\"source\") de tensão regulável. $R_L = \\underline{\\ \\ \\ \\ \\ \\ \\ \\ \\ }\\,k\\Omega$, $V_{Dmax} = \\underline{\\ \\ \\ \\ \\ \\ \\ \\ \\ }\\,V$, $V_{Smax} = \\underline{\\ \\ \\ \\ \\ \\ \\ \\ \\ }\\,V$, $I_{max} = \\underline{\\ \\ \\ \\ \\ \\ \\ \\ \\ }\\,mA$;"
   ]
  },
  {
   "cell_type": "markdown",
   "id": "2b3f5a7c",
   "metadata": {
    "slideshow": {
     "slide_type": "fragment"
    }
   },
   "source": [
    "2) consultando o manual do multímetro, escolher a escala de tensão  elétrica contínua (DC) mais adequada do multímetro em modo voltímetro, i. e., a menor escala capaz de ler a tensão $V_{Dmax}$. Escala $= \\underline{\\ \\ \\ \\ \\ \\ \\ \\ \\ }\\,V$;"
   ]
  },
  {
   "cell_type": "markdown",
   "id": "38cbc07c",
   "metadata": {
    "slideshow": {
     "slide_type": "fragment"
    }
   },
   "source": [
    "3) considerando a queda de tensão $V_{Dmax}$ e consultando o manual do multímetro, escolher a escala de corrente elétrica contínua (DC) mais adequada do multímetro em modo amperímetro, i. e., a menor escala capaz de ler a corrente $I_{max}$. Escala $= \\underline{\\ \\ \\ \\ \\ \\ \\ \\ \\ }\\, mA$;"
   ]
  },
  {
   "cell_type": "markdown",
   "id": "1c293a36",
   "metadata": {
    "slideshow": {
     "slide_type": "fragment"
    }
   },
   "source": [
    "4) ligar e selecionar a fonte de tensão regulável variando de $0\\,V$ até $V_{Smax}$ em 10 passos (variando 10%), depois inverta a polaridade e repita o procedimento porém variando 50%, com 13 valores ao todo;"
   ]
  },
  {
   "cell_type": "markdown",
   "id": "7a770676",
   "metadata": {
    "slideshow": {
     "slide_type": "subslide"
    }
   },
   "source": [
    "5) anotar a leitura da tela do multímetro em modo voltímetro, a escala usada, e via consulta do manual do  multímetro, anotar a resolução e precisão de tal escala. Calcular a partir disso a incerteza e expressar o valor da medida com incerteza e o número correto de algarismos significativos. Varie a escala, se necessário, usando a escala mais adequada. **Atenção, sempre desconecte um dos cabos do multímetro antes de mudar a escala, conectando depois**. Preencha a tabela 6 :"
   ]
  },
  {
   "cell_type": "markdown",
   "id": "3cb53c3c",
   "metadata": {
    "slideshow": {
     "slide_type": "fragment"
    }
   },
   "source": [
    "| n  | $V_S\\,(V)$ |  Leitura da tela  | Escala (V)  | Resolução (V) |  Precisão ±(p%+nD)  | $V_{D}$ (V) com incerteza |\n",
    "|----|------------|-------------------|-------------|---------------|---------------------|----------------------------------|\n",
    "|  1 |            |                   |             |               |                     |                                   |\n",
    "| ... |            |                   |             |               |                     |                                   |\n",
    "| 13 |            |                   |             |               |                     |                                   |\n",
    "\n",
    "<center>Tabela 6 : Medidas de $V_{D}$ variando $V_S$, cujos dados serão repassados para cada grupo.</center>"
   ]
  },
  {
   "cell_type": "markdown",
   "id": "ef2668d4",
   "metadata": {
    "slideshow": {
     "slide_type": "subslide"
    }
   },
   "source": [
    "6) anotar a leitura da tela do multímetro em modo amperímetro, a escala usada, e via consulta do manual do  multímetro, anotar a resolução e precisão de tal escala. Calcular a partir disso a incerteza e expressar o valor da medida com incerteza e o número correto de algarismos significativos. Varie a escala, se necessário, usando a escala mais adequada. **Atenção, sempre desconecte um dos cabos do multímetro antes de mudar a escala, conectando depois**. Preencha a tabela 7 :"
   ]
  },
  {
   "cell_type": "markdown",
   "id": "82dee647",
   "metadata": {
    "slideshow": {
     "slide_type": "fragment"
    }
   },
   "source": [
    "| n  | $V_S\\,(V)$ |  Leitura da tela  | Escala (A)  | Resolução (A) |  Precisão ±(p%+nD)  | $I_{D}$ (V) com incerteza |\n",
    "|----|------------|-------------------|-------------|---------------|---------------------|----------------------------------|\n",
    "|  1 |            |                   |             |               |                     |                                   |\n",
    "| ... |            |                   |             |               |                     |                                   |\n",
    "| 13 |            |                   |             |               |                     |                                   |\n",
    "\n",
    "<center>Tabela 7 : Medidas de $I_{D}$ variando $V_S$, cujos dados serão repassados para cada grupo.</center>"
   ]
  },
  {
   "cell_type": "markdown",
   "id": "4bbb6c2a",
   "metadata": {
    "slideshow": {
     "slide_type": "subslide"
    }
   },
   "source": [
    "#### Caracterização $V \\times I$ de LED"
   ]
  },
  {
   "cell_type": "markdown",
   "id": "1d5fba53",
   "metadata": {
    "slideshow": {
     "slide_type": "fragment"
    }
   },
   "source": [
    "1) substitua a carga, anteriormente o resistor $R_C$, pelo LED indicado (com catodo, indicado pelo terminal mais curto, conectado no terminal negativo da fonte de tensão regulável), que tem uma tensão direta $V_{LEDmax}$ máxima nominal. Calcule a corrente elétrica $I_{max}$ teórica máxima para a tensão $V_S$ máxima nominal da fonte (\"source\") de tensão regulável. $R_L = \\underline{\\ \\ \\ \\ \\ \\ \\ \\ \\ }\\,k\\Omega$, $V_{LEDmax} = \\underline{\\ \\ \\ \\ \\ \\ \\ \\ \\ }\\,V$, $V_{Smax} = \\underline{\\ \\ \\ \\ \\ \\ \\ \\ \\ }\\,V$, $I_{max} = \\underline{\\ \\ \\ \\ \\ \\ \\ \\ \\ }\\,mA$;"
   ]
  },
  {
   "cell_type": "markdown",
   "id": "669d7330",
   "metadata": {
    "slideshow": {
     "slide_type": "fragment"
    }
   },
   "source": [
    "2) consultando o manual do multímetro, escolher a escala de tensão  elétrica contínua (DC) mais adequada do multímetro em modo voltímetro, i. e., a menor escala capaz de ler a tensão $V_{LEDmax}$. Escala $= \\underline{\\ \\ \\ \\ \\ \\ \\ \\ \\ }\\,V$;"
   ]
  },
  {
   "cell_type": "markdown",
   "id": "3e6a7fb9",
   "metadata": {
    "slideshow": {
     "slide_type": "fragment"
    }
   },
   "source": [
    "3) considerando a queda de tensão $V_{Dmax}$ e consultando o manual do multímetro, escolher a escala de corrente elétrica contínua (DC) mais adequada do multímetro em modo amperímetro, i. e., a menor escala capaz de ler a corrente $I_{max}$. Escala $= \\underline{\\ \\ \\ \\ \\ \\ \\ \\ \\ }\\, mA$;"
   ]
  },
  {
   "cell_type": "markdown",
   "id": "14694b68",
   "metadata": {
    "slideshow": {
     "slide_type": "fragment"
    }
   },
   "source": [
    "4) ligar e selecionar a fonte de tensão regulável variando de $0\\,V$ até $V_{Smax}$ em 10 passos (variando 10%), depois inverta a polaridade e repita o procedimento porém variando 50%, com 13 valores ao todo;"
   ]
  },
  {
   "cell_type": "markdown",
   "id": "95542cec",
   "metadata": {
    "slideshow": {
     "slide_type": "subslide"
    }
   },
   "source": [
    "5) anotar a leitura da tela do multímetro em modo voltímetro, a escala usada, e via consulta do manual do  multímetro, anotar a resolução e precisão de tal escala. Calcular a partir disso a incerteza e expressar o valor da medida com incerteza e o número correto de algarismos significativos. Varie a escala, se necessário, usando a escala mais adequada. **Atenção, sempre desconecte um dos cabos do multímetro antes de mudar a escala, conectando depois**. Preencha a tabela 8 :"
   ]
  },
  {
   "cell_type": "markdown",
   "id": "66c6bf92",
   "metadata": {
    "slideshow": {
     "slide_type": "fragment"
    }
   },
   "source": [
    "| n  | $V_S\\,(V)$ |  Leitura da tela  | Escala (V)  | Resolução (V) |  Precisão ±(p%+nD)  | $V_{LED}$ (V) com incerteza |\n",
    "|----|------------|-------------------|-------------|---------------|---------------------|----------------------------------|\n",
    "|  1 |            |                   |             |               |                     |                                   |\n",
    "| ... |            |                   |             |               |                     |                                   |\n",
    "| 13 |            |                   |             |               |                     |                                   |\n",
    "\n",
    "<center>Tabela 8 : Medidas de $V_{LED}$ variando $V_S$, cujos dados serão repassados para cada grupo.</center>"
   ]
  },
  {
   "cell_type": "markdown",
   "id": "3b5282f6",
   "metadata": {
    "slideshow": {
     "slide_type": "subslide"
    }
   },
   "source": [
    "6) anotar a leitura da tela do multímetro em modo amperímetro, a escala usada, e via consulta do manual do  multímetro, anotar a resolução e precisão de tal escala. Calcular a partir disso a incerteza e expressar o valor da medida com incerteza e o número correto de algarismos significativos. Varie a escala, se necessário, usando a escala mais adequada. **Atenção, sempre desconecte um dos cabos do multímetro antes de mudar a escala, conectando depois**. Preencha a tabela 9 :"
   ]
  },
  {
   "cell_type": "markdown",
   "id": "e53b0deb",
   "metadata": {
    "slideshow": {
     "slide_type": "fragment"
    }
   },
   "source": [
    "| n  | $V_S\\,(V)$ |  Leitura da tela  | Escala (A)  | Resolução (A) |  Precisão ±(p%+nD)  | $I_{LED}$ (V) com incerteza |\n",
    "|----|------------|-------------------|-------------|---------------|---------------------|----------------------------------|\n",
    "|  1 |            |                   |             |               |                     |                                   |\n",
    "| ... |            |                   |             |               |                     |                                   |\n",
    "| 13 |            |                   |             |               |                     |                                   |\n",
    "\n",
    "<center>Tabela 9 : Medidas de $I_{LED}$ variando $V_S$, cujos dados serão repassados para cada grupo.</center>"
   ]
  },
  {
   "cell_type": "markdown",
   "id": "709a0dbd",
   "metadata": {
    "slideshow": {
     "slide_type": "subslide"
    }
   },
   "source": [
    "## Análises"
   ]
  },
  {
   "cell_type": "markdown",
   "id": "385031e0",
   "metadata": {
    "slideshow": {
     "slide_type": "fragment"
    }
   },
   "source": [
    "#### Caracterização $V \\times I$ de Resistor $R_C$"
   ]
  },
  {
   "cell_type": "markdown",
   "id": "e214890d",
   "metadata": {
    "slideshow": {
     "slide_type": "fragment"
    }
   },
   "source": [
    "1) faça um gráfico de $V_{R_C} \\times I_{R_C}$ (ou seja, $I_{R_C}$ no eixo horizontal), usando SciDAVis (ou AlphaPlot, ou Python), com barras de incerteza e cálculo de ajuste de curva. A curva é linear ou não-linear ? Obtenha o coeficiente angular do ajuste linear e compare com o valor nominal de $R_C$. Ou seja, analisando graficamente, o resistor $R_C$ segue a lei de Ohm ?\n"
   ]
  },
  {
   "cell_type": "markdown",
   "id": "c6ad6b57",
   "metadata": {
    "slideshow": {
     "slide_type": "fragment"
    }
   },
   "source": [
    "2) Ao inverter a polaridade da fonte de tensão $V_S$, o que ocorre com as medidas elétricas do resistor $R_C$ ? Então resistor tem polaridade, só conduzindo em um sentido ?"
   ]
  },
  {
   "cell_type": "markdown",
   "id": "e0bcf697",
   "metadata": {
    "slideshow": {
     "slide_type": "subslide"
    }
   },
   "source": [
    "3) a partir dos valores de $V_{R_C}$ da tabela 4 e $I_{R_C}$ da tabela 5, calcule a potência $P_{R_C} = V_{R_C} I_{R_C}$ com propagação de incertezas usando módulo [Python Uncertainties](https://pythonhosted.org/uncertainties/) com [NumPy](https://pythonhosted.org/uncertainties/numpy_guide.html), criando a tabela 10 :"
   ]
  },
  {
   "cell_type": "markdown",
   "id": "20827c5d",
   "metadata": {
    "slideshow": {
     "slide_type": "fragment"
    }
   },
   "source": [
    "| n  | $V_{R_C}\\,(V)$ com incerteza |  $I_{R_C}\\,(V)$ com incerteza | $P_{R_C}\\,(V)$ com incerteza |\n",
    "|:--:|:----------------------------:|:-----------------------------:|:----------------------------:|\n",
    "|  1 |                              |                               |                              |\n",
    "|... |                              |                               |                              |\n",
    "| 21 |                              |                               |                              |\n",
    "\n",
    "<center>Tabela 10 : $P_{R_C}$ variando $V_S$.</center>"
   ]
  },
  {
   "cell_type": "markdown",
   "id": "72f45923",
   "metadata": {
    "slideshow": {
     "slide_type": "fragment"
    }
   },
   "source": [
    "4) faça um gráfico de $P_{R_C} \\times I_{R_C}$ (ou seja, $I_{R_C}$ no eixo horizontal), usando SciDAVis (ou AlphaPlot, ou Python), com barras de incerteza. A curva é linear ou não-linear, de que tipo ? Compare com o comportamento previsto teoricamente de $P_{R_C}$ em termos de $R_C$ e $I_{R_C}$."
   ]
  },
  {
   "cell_type": "markdown",
   "id": "35609a05",
   "metadata": {
    "slideshow": {
     "slide_type": "subslide"
    }
   },
   "source": [
    "#### Caracterização $V \\times I$ de Diodo $D$"
   ]
  },
  {
   "cell_type": "markdown",
   "id": "3116e261",
   "metadata": {
    "slideshow": {
     "slide_type": "fragment"
    }
   },
   "source": [
    "1) faça um gráfico de $V_{D} \\times I_{D}$ (ou seja, $I_{D}$ no eixo horizontal) usando só as medições com $V_S$ não-negativas, usando SciDAVis (ou AlphaPlot, ou Python), com barras de incerteza. A curva é linear ou não-linear ?"
   ]
  },
  {
   "cell_type": "markdown",
   "id": "ced2bd49",
   "metadata": {
    "slideshow": {
     "slide_type": "fragment"
    }
   },
   "source": [
    "2) Compare a tensão direta $V_{Dmax}$ máxima nominal com o valor de tensão tendendo a linha horizontal no gráfico."
   ]
  },
  {
   "cell_type": "markdown",
   "id": "4cd7213b",
   "metadata": {
    "slideshow": {
     "slide_type": "fragment"
    }
   },
   "source": [
    "3) Ao inverter a polaridade da fonte de tensão $V_S$, o que ocorre com as medidas elétricas do diodo ? Então diodo tem polaridade, só conduzindo em um sentido ?"
   ]
  },
  {
   "cell_type": "markdown",
   "id": "e88b10aa",
   "metadata": {
    "slideshow": {
     "slide_type": "fragment"
    }
   },
   "source": [
    "4) use software de simulação de circuitos eletrônicos para o circuito com fonte de tensão regulável $V_S$, resistor limitador $R_L$ e diodo $D$, variando $V_S$ e medindo $V_{D}$ e $I_{D}$ sem incertezas via software. Faça um outro gráfico de $V_{D} \\times I_{D}$ (ou seja, $I_{D}$ no eixo horizontal) análogo, porém sem barras de incerteza. Compare com o gráfico feito a partir de medidas."
   ]
  },
  {
   "cell_type": "markdown",
   "id": "375a902c",
   "metadata": {
    "slideshow": {
     "slide_type": "subslide"
    }
   },
   "source": [
    "#### Caracterização $V \\times I$ de LED"
   ]
  },
  {
   "cell_type": "markdown",
   "id": "2f86f5fd",
   "metadata": {
    "slideshow": {
     "slide_type": "fragment"
    }
   },
   "source": [
    "1) faça um gráfico de $V_{LED} \\times I_{LED}$ (ou seja, $I_{LED}$ no eixo horizontal) usando só as medições com $V_S$ não-negativas, usando SciDAVis (ou AlphaPlot, ou Python), com barras de incerteza. A curva é linear ou não-linear ?\n"
   ]
  },
  {
   "cell_type": "markdown",
   "id": "6fd67722",
   "metadata": {
    "slideshow": {
     "slide_type": "fragment"
    }
   },
   "source": [
    "2) Compare a tensão direta $V_{LEDmax}$ máxima nominal com o valor de tensão tendendo a linha horizontal no gráfico."
   ]
  },
  {
   "cell_type": "markdown",
   "id": "1bf4fbb9",
   "metadata": {
    "slideshow": {
     "slide_type": "fragment"
    }
   },
   "source": [
    "3) Ao inverter a polaridade da fonte de tensão $V_S$, o que ocorre com as medidas elétricas do LED ? Então LED tem polaridade, só conduzindo em um sentido ?"
   ]
  }
 ],
 "metadata": {
  "celltoolbar": "Slideshow",
  "kernelspec": {
   "display_name": "Python 3 (ipykernel)",
   "language": "python",
   "name": "python3"
  },
  "language_info": {
   "codemirror_mode": {
    "name": "ipython",
    "version": 3
   },
   "file_extension": ".py",
   "mimetype": "text/x-python",
   "name": "python",
   "nbconvert_exporter": "python",
   "pygments_lexer": "ipython3",
   "version": "3.10.2"
  }
 },
 "nbformat": 4,
 "nbformat_minor": 5
}
