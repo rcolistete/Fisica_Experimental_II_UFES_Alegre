{
 "cells": [
  {
   "cell_type": "markdown",
   "id": "b6c301fc",
   "metadata": {
    "slideshow": {
     "slide_type": "slide"
    }
   },
   "source": [
    "# Ligação Série e Paralelo de Resistores\n",
    "## < Fulana da Silva, Beltrano da Costa, Sicrano de Santos >\n",
    "### Disciplina DQF10441 Física Experimental II - Semestre 2021/1 EARTE\n",
    "### [DQF - CCENS](http://alegre.ufes.br/ccens/departamento-de-quimica-e-fisica) - [UFES/Alegre](http://alegre.ufes.br/)\n",
    "#### Experimento realizado em 03/09/2021 - Relatório entregue em < 14/09/2021 >\n",
    "#### Professor : [Roberto Colistete Jr.](https://github.com/rcolistete)"
   ]
  },
  {
   "cell_type": "markdown",
   "id": "87527b77",
   "metadata": {
    "slideshow": {
     "slide_type": "slide"
    }
   },
   "source": [
    "# 1 - Objetivos"
   ]
  },
  {
   "cell_type": "markdown",
   "id": "bddd7d6a",
   "metadata": {
    "slideshow": {
     "slide_type": "fragment"
    }
   },
   "source": [
    "< Identifição da razão de se realizar o experimento.\n",
    "\n",
    "Parcialmente baseado em \"Objetivos\" do roteiro. >"
   ]
  },
  {
   "cell_type": "markdown",
   "id": "93e2a453",
   "metadata": {
    "slideshow": {
     "slide_type": "slide"
    }
   },
   "source": [
    "# 2 - Teoria"
   ]
  },
  {
   "cell_type": "markdown",
   "id": "39fb0bdc",
   "metadata": {
    "slideshow": {
     "slide_type": "fragment"
    }
   },
   "source": [
    "< Resumo teórico, geralmente é advindo de um texto maior encontrado em livros de Física (que vem ser citados).\n",
    "\n",
    "Parcialmente baseada em \"Teoria\" e \"Equipamento\" do roteiro.\n",
    "\n",
    "Teoria resumida, tipicamente com 1 a 2 parágrafos, sobre certos tópicos e ítens. >"
   ]
  },
  {
   "cell_type": "markdown",
   "id": "62f51ed3",
   "metadata": {
    "slideshow": {
     "slide_type": "fragment"
    }
   },
   "source": [
    "< Teoria de grandezas elétricas : tensão elétrica, corrente elétrica e resistência elétrica (e lei de Ohm).\n",
    "\n",
    "Segundo [HRW], ... >"
   ]
  },
  {
   "cell_type": "markdown",
   "id": "bd5f91ff",
   "metadata": {
    "slideshow": {
     "slide_type": "fragment"
    }
   },
   "source": [
    "< Teoria de circuitos elétricos com lei das malhas. Com imagem de exemplo. >"
   ]
  },
  {
   "cell_type": "markdown",
   "id": "9f2541d4",
   "metadata": {
    "slideshow": {
     "slide_type": "fragment"
    }
   },
   "source": [
    "< Teoria de circuitos elétricos com lei dos nós. Com imagem de exemplo. >"
   ]
  },
  {
   "cell_type": "markdown",
   "id": "f0d445ac",
   "metadata": {
    "slideshow": {
     "slide_type": "subslide"
    }
   },
   "source": [
    "< Teoria de resistor (ôhmico) e código de cores. Com imagem/foto de exemplo. Com imagem do símbolo de resistor adotado em diagrama esquemático. >"
   ]
  },
  {
   "cell_type": "markdown",
   "id": "0ed4c435",
   "metadata": {
    "slideshow": {
     "slide_type": "fragment"
    }
   },
   "source": [
    "< Teoria de cálculo de resistência equivalente de resistores em série e/ou paralelo. Com imagem de exemplo. >"
   ]
  },
  {
   "cell_type": "markdown",
   "id": "aec629b2",
   "metadata": {
    "slideshow": {
     "slide_type": "fragment"
    }
   },
   "source": [
    "< Teoria de LED (diodo emissor de luz) e tipos/cores disponíveis. Com imagem/foto de exemplo. Com imagem do símbolo de LED adotado em diagrama esquemático. >"
   ]
  },
  {
   "cell_type": "markdown",
   "id": "b14bc87d",
   "metadata": {
    "slideshow": {
     "slide_type": "fragment"
    }
   },
   "source": [
    "< Teoria de fonte de tensão elétrica. Com imagem/foto de exemplo. Com imagem do símbolo de fonte de tensão elétrica adotado em diagrama esquemático. >"
   ]
  },
  {
   "cell_type": "markdown",
   "id": "8e585265",
   "metadata": {
    "slideshow": {
     "slide_type": "fragment"
    }
   },
   "source": [
    "< Teoria de princípio de funcionamento de voltímetro e amperímetro. Com imagem/foto de exemplo. >"
   ]
  },
  {
   "cell_type": "markdown",
   "id": "9f9c6611",
   "metadata": {
    "slideshow": {
     "slide_type": "slide"
    }
   },
   "source": [
    "# 3 - Procedimento Experimental"
   ]
  },
  {
   "cell_type": "markdown",
   "id": "3c6fb616",
   "metadata": {
    "slideshow": {
     "slide_type": "fragment"
    }
   },
   "source": [
    "< Descrição precisa do que foi usado e como foi usado no experimento.\n",
    "\n",
    "Parcialmente baseado em \"Equipamento\" e \"Procedimento Experimental\" do roteiro.\n",
    "\n",
    "Nesta seção são descritos os procedimentos empregados para efetuar as medidas e são descritas as montagens experimentais utilizadas. Diagramas esquemáticos das experiências são bastante úteis pois facilitam a visualização.  Este procedimento não é uma cópia do roteiro do experimento, podendo o relatório ser mais resumido que o roteiro. >"
   ]
  },
  {
   "cell_type": "markdown",
   "id": "e9b36d05",
   "metadata": {
    "slideshow": {
     "slide_type": "subslide"
    }
   },
   "source": [
    "## 3.1 - Com 3 Resistores em Série"
   ]
  },
  {
   "cell_type": "markdown",
   "id": "194d66c4",
   "metadata": {
    "slideshow": {
     "slide_type": "fragment"
    }
   },
   "source": [
    "< ... >"
   ]
  },
  {
   "cell_type": "markdown",
   "id": "d50e6e14",
   "metadata": {
    "slideshow": {
     "slide_type": "fragment"
    }
   },
   "source": [
    "<center> Figura N - Diagrama esquemático do circuito eletrônico com 3 resistores em série. </center>"
   ]
  },
  {
   "cell_type": "markdown",
   "id": "a55f4000",
   "metadata": {
    "slideshow": {
     "slide_type": "fragment"
    }
   },
   "source": [
    "< ... >"
   ]
  },
  {
   "cell_type": "markdown",
   "id": "8303d077",
   "metadata": {
    "slideshow": {
     "slide_type": "subslide"
    }
   },
   "source": [
    "## 3.2 - Com 1 Resistor em Série e 2 Resistores em Paralelo"
   ]
  },
  {
   "cell_type": "markdown",
   "id": "071bdb42",
   "metadata": {
    "slideshow": {
     "slide_type": "fragment"
    }
   },
   "source": [
    "< ... >"
   ]
  },
  {
   "cell_type": "markdown",
   "id": "15d5e955",
   "metadata": {
    "slideshow": {
     "slide_type": "fragment"
    }
   },
   "source": [
    "<center> Figura N - Diagrama esquemático do circuito eletrônico com 1 resistor em série e 2 resistores em paralelo. </center>"
   ]
  },
  {
   "cell_type": "markdown",
   "id": "aae72fb2",
   "metadata": {
    "slideshow": {
     "slide_type": "fragment"
    }
   },
   "source": [
    "< ... >"
   ]
  },
  {
   "cell_type": "markdown",
   "id": "bfc9cd41",
   "metadata": {
    "slideshow": {
     "slide_type": "subslide"
    }
   },
   "source": [
    "## 3.3 - Com 3 Resistores em Paralelo"
   ]
  },
  {
   "cell_type": "markdown",
   "id": "ca4abdc2",
   "metadata": {
    "slideshow": {
     "slide_type": "fragment"
    }
   },
   "source": [
    "< ... >"
   ]
  },
  {
   "cell_type": "markdown",
   "id": "d06a4fe1",
   "metadata": {
    "slideshow": {
     "slide_type": "fragment"
    }
   },
   "source": [
    "<center> Figura N - Diagrama esquemático do circuito eletrônico com 3 resistores em paralelo. </center>"
   ]
  },
  {
   "cell_type": "markdown",
   "id": "8056fe69",
   "metadata": {
    "slideshow": {
     "slide_type": "fragment"
    }
   },
   "source": [
    "< ... >"
   ]
  },
  {
   "cell_type": "markdown",
   "id": "b42f941d",
   "metadata": {
    "slideshow": {
     "slide_type": "slide"
    }
   },
   "source": [
    "# 4 - Resultados e Discussão"
   ]
  },
  {
   "cell_type": "markdown",
   "id": "34feb66c",
   "metadata": {
    "slideshow": {
     "slide_type": "fragment"
    }
   },
   "source": [
    "< Apresentação dos dados medidos e dos principais resultados do experimento, com incertezas, o número correto de algarismos significativos e em notação científica. É nessa seção que se discute mais amplamente esses resultados apresentados.\n",
    "\n",
    "Parcialmente baseado em \"Procedimento Experimental / Medidas\" e \"Análises\" do roteiro.\n",
    "\n",
    "Esta seção é o coração do relatório. Nela são apresentados os dados obtidos em forma de fotos, tabelas, gráficos e diagramas. Lembre-se que quando o volume de dados é elevado os gráficos devem ter preferência sobre as tabelas.\n",
    "\n",
    "Lembre-se que toda medida experimental apresenta uma incerteza e portanto as contas efetuadas devem levar estas em consideração via propagação de incertezas. >"
   ]
  },
  {
   "cell_type": "markdown",
   "id": "945ec3ec",
   "metadata": {
    "slideshow": {
     "slide_type": "subslide"
    }
   },
   "source": [
    "< ... > :\n",
    "\n",
    "$V_{S} = \\underline{\\ \\ \\ \\ \\ \\ \\ \\ \\ }\\,V$\n",
    "\n",
    "LED de cor _____."
   ]
  },
  {
   "cell_type": "markdown",
   "id": "6a8a7dc2",
   "metadata": {
    "slideshow": {
     "slide_type": "fragment"
    }
   },
   "source": [
    "$$ R_1 = (\\_\\_\\_\\_\\_\\_ k\\,\\Omega \\pm \\_\\_\\%) $$\n",
    "\n",
    "$$ R_2 = (\\_\\_\\_\\_\\_\\_ k\\,\\Omega \\pm \\_\\_\\%) $$\n",
    "\n",
    "$$ R_3 = (\\_\\_\\_\\_\\_\\_ k\\,\\Omega \\pm \\_\\_\\%) $$\n",
    "\n",
    "Vide 7.1 de Anexos."
   ]
  },
  {
   "cell_type": "markdown",
   "id": "8fd0d2c4",
   "metadata": {
    "slideshow": {
     "slide_type": "subslide"
    }
   },
   "source": [
    "## 4.1 - Com 3 Resistores em Série"
   ]
  },
  {
   "cell_type": "markdown",
   "id": "a4c48f42",
   "metadata": {
    "slideshow": {
     "slide_type": "fragment"
    }
   },
   "source": [
    "< ... > :"
   ]
  },
  {
   "cell_type": "markdown",
   "id": "74ae07d3",
   "metadata": {
    "slideshow": {
     "slide_type": "fragment"
    }
   },
   "source": [
    "<center> Figura N - Foto do circuito eletrônico com 3 resistores em série. </center>"
   ]
  },
  {
   "cell_type": "markdown",
   "id": "2339543c",
   "metadata": {
    "slideshow": {
     "slide_type": "fragment"
    }
   },
   "source": [
    "< ... > :"
   ]
  },
  {
   "cell_type": "markdown",
   "id": "fded8ec6",
   "metadata": {
    "slideshow": {
     "slide_type": "subslide"
    }
   },
   "source": [
    "| Grandeza    | Leitura da tela  | Escala (V)  | Resolução (V) |  Precisão ±(p%+nD)  | V com incerteza |\n",
    "|:-----------:|------------------|-------------|---------------|---------------------|-----------------|\n",
    "|    $V_S$    |                  |             |               |                     |                 |\n",
    "|  $V_{LED}$  |                  |             |               |                     |                 |\n",
    "|  $V_{R_1}$  |                  |             |               |                     |                 |\n",
    "|  $V_{R_2}$  |                  |             |               |                     |                 |\n",
    "|  $V_{R_3}$  |                  |             |               |                     |                 |\n",
    "\n",
    "<center> Tabela 1 : Medidas de tensão elétrica $V$ de cada componente do circuito com 3 resistores em série. </center>\n",
    "\n",
    "Vide 7.1.1 de Anexos."
   ]
  },
  {
   "cell_type": "markdown",
   "id": "01ad9365",
   "metadata": {
    "slideshow": {
     "slide_type": "fragment"
    }
   },
   "source": [
    "< ... > :"
   ]
  },
  {
   "cell_type": "markdown",
   "id": "ea5fc206",
   "metadata": {
    "slideshow": {
     "slide_type": "fragment"
    }
   },
   "source": [
    "| Grandeza    | Leitura da tela  | Escala (A)  | Resolução (A) |  Precisão ±(p%+nD)  | I com incerteza |\n",
    "|:-----------:|------------------|-------------|---------------|---------------------|-----------------|\n",
    "|  $I_{LED}$  |                  |             |               |                     |                 |\n",
    "|  $I_{R_1}$  |                  |             |               |                     |                 |\n",
    "|  $I_{R_2}$  |                  |             |               |                     |                 |\n",
    "|  $I_{R_3}$  |                  |             |               |                     |                 |\n",
    "\n",
    "<center> Tabela 2 : Medidas de corrente elétrica $I$ de cada componente do circuito com 3 resistores em série. </center>\n",
    "\n",
    "Vide 7.1.1 de Anexos."
   ]
  },
  {
   "cell_type": "markdown",
   "id": "e214890d",
   "metadata": {
    "slideshow": {
     "slide_type": "subslide"
    }
   },
   "source": [
    "Verificação da lei das malhas :\n",
    "\n",
    "R.: \n",
    "\n",
    "Vide 7.2.1 de Anexos."
   ]
  },
  {
   "cell_type": "markdown",
   "id": "c6ad6b57",
   "metadata": {
    "slideshow": {
     "slide_type": "fragment"
    }
   },
   "source": [
    "Comparação das correntes elétricas :\n",
    "\n",
    "R.:\n",
    "\n",
    "Vide 7.2.1 de Anexos."
   ]
  },
  {
   "cell_type": "markdown",
   "id": "5475fe90",
   "metadata": {
    "slideshow": {
     "slide_type": "subslide"
    }
   },
   "source": [
    "Resistência equivalente teórica $R_{eqt}$ dos 3 resistores em série :\n",
    "\n",
    "R.:\n",
    "\n",
    "Vide 7.2.1 de Anexos. "
   ]
  },
  {
   "cell_type": "markdown",
   "id": "e0bcf697",
   "metadata": {
    "slideshow": {
     "slide_type": "fragment"
    }
   },
   "source": [
    "Resistência equivalente prática $R_{eqp}$, comparação com $R_{eqt}$ :\n",
    "\n",
    "R.:\n",
    "\n",
    "Vide 7.2.1 de Anexos."
   ]
  },
  {
   "cell_type": "markdown",
   "id": "4e8a3d13",
   "metadata": {
    "slideshow": {
     "slide_type": "fragment"
    }
   },
   "source": [
    "< ... Discussão ... >"
   ]
  },
  {
   "cell_type": "markdown",
   "id": "3d57791c",
   "metadata": {
    "slideshow": {
     "slide_type": "subslide"
    }
   },
   "source": [
    "## 4.2 - Com 1 Resistor em Série e 2 Resistores em Paralelo"
   ]
  },
  {
   "cell_type": "markdown",
   "id": "7443de31",
   "metadata": {
    "slideshow": {
     "slide_type": "fragment"
    }
   },
   "source": [
    "< ... > :"
   ]
  },
  {
   "cell_type": "markdown",
   "id": "a3b4e255",
   "metadata": {
    "slideshow": {
     "slide_type": "fragment"
    }
   },
   "source": [
    "<center> Figura N - Foto do circuito eletrônico com 1 resistor em série e 2 resistores em paralelo. </center>"
   ]
  },
  {
   "cell_type": "markdown",
   "id": "2f51a711",
   "metadata": {
    "slideshow": {
     "slide_type": "fragment"
    }
   },
   "source": [
    "< ... > :"
   ]
  },
  {
   "cell_type": "markdown",
   "id": "8a7700f4",
   "metadata": {
    "slideshow": {
     "slide_type": "subslide"
    }
   },
   "source": [
    "| Grandeza    | Leitura da tela  | Escala (V)  | Resolução (V) |  Precisão ±(p%+nD)  | V com incerteza |\n",
    "|:-----------:|------------------|-------------|---------------|---------------------|-----------------|\n",
    "|    $V_S$    |                  |             |               |                     |                 |\n",
    "|  $V_{LED}$  |                  |             |               |                     |                 |\n",
    "|  $V_{R_1}$  |                  |             |               |                     |                 |\n",
    "|  $V_{R_2}$  |                  |             |               |                     |                 |\n",
    "|  $V_{R_3}$  |                  |             |               |                     |                 |\n",
    "\n",
    "<center> Tabela 3 : Medidas de tensão elétrica $V$ de cada componente do circuito com 1 resistor em série e 2 resistores em paralelo. </center>\n",
    "\n",
    "Vide 7.1.2 de Anexos."
   ]
  },
  {
   "cell_type": "markdown",
   "id": "9895b4f2",
   "metadata": {
    "slideshow": {
     "slide_type": "fragment"
    }
   },
   "source": [
    "< ... > :"
   ]
  },
  {
   "cell_type": "markdown",
   "id": "447e5b6b",
   "metadata": {
    "slideshow": {
     "slide_type": "fragment"
    }
   },
   "source": [
    "| Grandeza    | Leitura da tela  | Escala (A)  | Resolução (A) |  Precisão ±(p%+nD)  | I com incerteza |\n",
    "|:-----------:|------------------|-------------|---------------|---------------------|-----------------|\n",
    "|  $I_{LED}$  |                  |             |               |                     |                 |\n",
    "|  $I_{R_1}$  |                  |             |               |                     |                 |\n",
    "|  $I_{R_2}$  |                  |             |               |                     |                 |\n",
    "|  $I_{R_3}$  |                  |             |               |                     |                 |\n",
    "\n",
    "<center> Tabela 4 : Medidas de corrente elétrica $I$ de cada componente do circuito com 1 resistor em série e 2 resistores em paralelo. </center>\n",
    "\n",
    "Vide 7.1.2 de Anexos."
   ]
  },
  {
   "cell_type": "markdown",
   "id": "06568dce",
   "metadata": {
    "slideshow": {
     "slide_type": "subslide"
    }
   },
   "source": [
    "Comparação das tensões elétricas nos resistores $R_2$ e $R_3$ em paralelo :\n",
    "\n",
    "R.:\n",
    "\n",
    "Vide 7.2.2 de Anexos."
   ]
  },
  {
   "cell_type": "markdown",
   "id": "c36b091a",
   "metadata": {
    "slideshow": {
     "slide_type": "fragment"
    }
   },
   "source": [
    "Verificação da lei das malhas :\n",
    "\n",
    "R.: \n",
    "\n",
    "Vide 7.2.2 de Anexos."
   ]
  },
  {
   "cell_type": "markdown",
   "id": "8f17e6ba",
   "metadata": {
    "slideshow": {
     "slide_type": "fragment"
    }
   },
   "source": [
    "Verificação da lei dos nós :\n",
    "\n",
    "R.:\n",
    "\n",
    "Vide 7.2.2 de Anexos."
   ]
  },
  {
   "cell_type": "markdown",
   "id": "74cebf99",
   "metadata": {
    "slideshow": {
     "slide_type": "subslide"
    }
   },
   "source": [
    "Resistência equivalente teórica $R_{eqt}$ de ($R_1$ + ($R_2$ // $R_3$)) :\n",
    "\n",
    "R.:\n",
    "\n",
    "Vide 7.2.2 de Anexos. "
   ]
  },
  {
   "cell_type": "markdown",
   "id": "8b9dd586",
   "metadata": {
    "slideshow": {
     "slide_type": "fragment"
    }
   },
   "source": [
    "Resistência equivalente prática $R_{eqp}$, comparação com $R_{eqt}$ :\n",
    "\n",
    "R.:\n",
    "\n",
    "Vide 7.2.2 de Anexos."
   ]
  },
  {
   "cell_type": "markdown",
   "id": "a94805f8",
   "metadata": {
    "slideshow": {
     "slide_type": "fragment"
    }
   },
   "source": [
    "< ... Discussão ... >"
   ]
  },
  {
   "cell_type": "markdown",
   "id": "120b8fe2",
   "metadata": {
    "slideshow": {
     "slide_type": "subslide"
    }
   },
   "source": [
    "## 4.3 - Com 3 Resistores em Paralelo"
   ]
  },
  {
   "cell_type": "markdown",
   "id": "a8b74f69",
   "metadata": {
    "slideshow": {
     "slide_type": "fragment"
    }
   },
   "source": [
    "< ... > :"
   ]
  },
  {
   "cell_type": "markdown",
   "id": "7e181ff9",
   "metadata": {
    "slideshow": {
     "slide_type": "fragment"
    }
   },
   "source": [
    "<center> Figura N - Foto do circuito eletrônico com 3 resistores em paralelo. </center>"
   ]
  },
  {
   "cell_type": "markdown",
   "id": "6e28291e",
   "metadata": {
    "slideshow": {
     "slide_type": "fragment"
    }
   },
   "source": [
    "< ... > :"
   ]
  },
  {
   "cell_type": "markdown",
   "id": "4608e062",
   "metadata": {
    "slideshow": {
     "slide_type": "subslide"
    }
   },
   "source": [
    "| Grandeza    | Leitura da tela  | Escala (V)  | Resolução (V) |  Precisão ±(p%+nD)  | V com incerteza |\n",
    "|:-----------:|------------------|-------------|---------------|---------------------|-----------------|\n",
    "|    $V_S$    |                  |             |               |                     |                 |\n",
    "|  $V_{LED}$  |                  |             |               |                     |                 |\n",
    "|  $V_{R_1}$  |                  |             |               |                     |                 |\n",
    "|  $V_{R_2}$  |                  |             |               |                     |                 |\n",
    "|  $V_{R_3}$  |                  |             |               |                     |                 |\n",
    "\n",
    "<center> Tabela 5 : Medidas de tensão elétrica $V$ de cada componente do circuito com 3 resistores em paralelo. </center>\n",
    "\n",
    "Vide 7.1.3 de Anexos."
   ]
  },
  {
   "cell_type": "markdown",
   "id": "437d12c0",
   "metadata": {
    "slideshow": {
     "slide_type": "fragment"
    }
   },
   "source": [
    "< ... > :"
   ]
  },
  {
   "cell_type": "markdown",
   "id": "f4cabb28",
   "metadata": {
    "slideshow": {
     "slide_type": "fragment"
    }
   },
   "source": [
    "| Grandeza    | Leitura da tela  | Escala (A)  | Resolução (A) |  Precisão ±(p%+nD)  | I com incerteza |\n",
    "|:-----------:|------------------|-------------|---------------|---------------------|-----------------|\n",
    "|  $I_{LED}$  |                  |             |               |                     |                 |\n",
    "|  $I_{R_1}$  |                  |             |               |                     |                 |\n",
    "|  $I_{R_2}$  |                  |             |               |                     |                 |\n",
    "|  $I_{R_3}$  |                  |             |               |                     |                 |\n",
    "\n",
    "<center> Tabela 6 : Medidas de corrente elétrica $I$ de cada componente do circuito com 3 resistores em paralelo. </center>\n",
    "\n",
    "Vide 7.1.3 de Anexos."
   ]
  },
  {
   "cell_type": "markdown",
   "id": "3d19290f",
   "metadata": {
    "slideshow": {
     "slide_type": "subslide"
    }
   },
   "source": [
    "Comparação das tensões elétricas nos 3 resistores em paralelo :\n",
    "\n",
    "R.:\n",
    "\n",
    "Vide 7.2.3 de Anexos."
   ]
  },
  {
   "cell_type": "markdown",
   "id": "9bcb2984",
   "metadata": {
    "slideshow": {
     "slide_type": "fragment"
    }
   },
   "source": [
    "Verificação da lei das malhas :\n",
    "\n",
    "R.: \n",
    "\n",
    "Vide 7.2.3 de Anexos."
   ]
  },
  {
   "cell_type": "markdown",
   "id": "55811006",
   "metadata": {
    "slideshow": {
     "slide_type": "fragment"
    }
   },
   "source": [
    "Verificação da lei dos nós :\n",
    "\n",
    "R.:\n",
    "\n",
    "Vide 7.2.3 de Anexos."
   ]
  },
  {
   "cell_type": "markdown",
   "id": "9b31f656",
   "metadata": {
    "slideshow": {
     "slide_type": "subslide"
    }
   },
   "source": [
    "Resistência equivalente teórica $R_{eqt}$ dos 3 resistores em paralelo :\n",
    "\n",
    "R.:\n",
    "\n",
    "Vide 7.2.3 de Anexos. "
   ]
  },
  {
   "cell_type": "markdown",
   "id": "3878dc8b",
   "metadata": {
    "slideshow": {
     "slide_type": "fragment"
    }
   },
   "source": [
    "Resistência equivalente prática $R_{eqp}$, comparação com $R_{eqt}$ :\n",
    "\n",
    "R.:\n",
    "\n",
    "Vide 7.2.3 de Anexos."
   ]
  },
  {
   "cell_type": "markdown",
   "id": "33b9735b",
   "metadata": {
    "slideshow": {
     "slide_type": "fragment"
    }
   },
   "source": [
    "< ... Discussão ... >"
   ]
  },
  {
   "cell_type": "markdown",
   "id": "429f476c",
   "metadata": {
    "slideshow": {
     "slide_type": "slide"
    }
   },
   "source": [
    "# 5 - Conclusão"
   ]
  },
  {
   "cell_type": "markdown",
   "id": "bc058506",
   "metadata": {
    "slideshow": {
     "slide_type": "fragment"
    }
   },
   "source": [
    "<A conclusão deve abordar brevemente o experimento efetuado, os resultados obtidos e a que conclusões estes resultados levam. Em alguns casos se discute possíveis rumos desta investigação.\n",
    "\n",
    "Apresentar com clareza se o objetivo foi cumprido ou dar uma explicação satisfatória para o não cumprimento do objetivo.\n",
    "\n",
    "Comentários do tipo: “O experimento foi muito proveitoso....” “Foi muito legal ter feito isso...” e outro similares não tem sentido científico e portanto não devem ser utilizados.>"
   ]
  },
  {
   "cell_type": "markdown",
   "id": "04860abd",
   "metadata": {
    "slideshow": {
     "slide_type": "fragment"
    }
   },
   "source": [
    "..."
   ]
  },
  {
   "cell_type": "markdown",
   "id": "8c180dd7",
   "metadata": {
    "slideshow": {
     "slide_type": "slide"
    }
   },
   "source": [
    "# 6 - Referências Bibliográficas"
   ]
  },
  {
   "cell_type": "markdown",
   "id": "ffc6a722",
   "metadata": {
    "slideshow": {
     "slide_type": "fragment"
    }
   },
   "source": [
    "< Devem constar nessa seção todas as referências bibliográfias, seguindo norma da ABNT, utilizadas no relatório, como :\n",
    "- livros impressos;\n",
    "- livros eletrônicos;\n",
    "- sítios com material de referência;\n",
    "- softwares;\n",
    "- etc. >"
   ]
  },
  {
   "cell_type": "markdown",
   "id": "26ec5d92",
   "metadata": {
    "slideshow": {
     "slide_type": "fragment"
    }
   },
   "source": [
    "[HRW] Halliday, D.; Resnick, R.; Walker, J.; Fundamentos de Física: Eletromagnetismo. Vol. 3,\n",
    "10a ed, editora LTC, 2016. ISBN: 8521630379;"
   ]
  },
  {
   "cell_type": "markdown",
   "id": "5444c4bc",
   "metadata": {
    "slideshow": {
     "slide_type": "fragment"
    }
   },
   "source": [
    "..."
   ]
  },
  {
   "cell_type": "markdown",
   "id": "9f297509",
   "metadata": {
    "slideshow": {
     "slide_type": "slide"
    }
   },
   "source": [
    "# 7 - Anexos"
   ]
  },
  {
   "cell_type": "markdown",
   "id": "9241cab6",
   "metadata": {
    "slideshow": {
     "slide_type": "fragment"
    }
   },
   "source": [
    "< Devem constar nessa seção todos os cálculos intermediários feitos no experimento e relatório, como :\n",
    "- cálculo de incerteza das medições;\n",
    "- cálculos de propagação de incertezas;\n",
    "- relatório de ajuste de curvas gerado por certo software (SciDAVis, etc);\n",
    "- cálculos diversos. \n",
    "\n",
    "Os cálculos podem ser organizados em subseções, subsubseçõe, etc. >"
   ]
  },
  {
   "cell_type": "markdown",
   "id": "5e16ef83",
   "metadata": {
    "slideshow": {
     "slide_type": "subslide"
    }
   },
   "source": [
    "## 7.1 - Medidas"
   ]
  },
  {
   "cell_type": "markdown",
   "id": "8a24007f",
   "metadata": {
    "slideshow": {
     "slide_type": "fragment"
    }
   },
   "source": [
    "$R_1$ indicado pelo professor via código de cores : cor1 cor2 cor3 cor4 cor5.  \n",
    "Consultando tabela de código de cores [ResCores], o valor é $R_1 = (N k\\,\\Omega \\pm p\\%)$."
   ]
  },
  {
   "cell_type": "markdown",
   "id": "c77fda75",
   "metadata": {
    "slideshow": {
     "slide_type": "fragment"
    }
   },
   "source": [
    "$R_2$ indicado pelo professor via código de cores : cor1 cor2 cor3 cor4 cor5.  \n",
    "Consultando tabela de código de cores [ResCores], o valor é $R_2 = (N k\\,\\Omega \\pm p\\%)$."
   ]
  },
  {
   "cell_type": "markdown",
   "id": "fe5b0206",
   "metadata": {
    "slideshow": {
     "slide_type": "fragment"
    }
   },
   "source": [
    "$R_3$ indicado pelo professor via código de cores : cor1 cor2 cor3 cor4 cor5.  \n",
    "Consultando tabela de código de cores [ResCores], o valor é $R_3 = (N k\\,\\Omega \\pm p\\%)$."
   ]
  },
  {
   "cell_type": "markdown",
   "id": "74a5e2c7",
   "metadata": {
    "slideshow": {
     "slide_type": "subslide"
    }
   },
   "source": [
    "### 7.1.1 - Medidas com 3 Resistores em Série"
   ]
  },
  {
   "cell_type": "markdown",
   "id": "fa2f493a",
   "metadata": {
    "slideshow": {
     "slide_type": "fragment"
    }
   },
   "source": [
    "Cálculos de incertezas das medições da Tabela 1 :\n",
    "\n",
    "..."
   ]
  },
  {
   "cell_type": "markdown",
   "id": "4e40cd6b",
   "metadata": {
    "slideshow": {
     "slide_type": "subslide"
    }
   },
   "source": [
    "Cálculos de incertezas das medições da Tabela 2 :\n",
    "\n",
    "..."
   ]
  },
  {
   "cell_type": "markdown",
   "id": "332931f6",
   "metadata": {
    "slideshow": {
     "slide_type": "subslide"
    }
   },
   "source": [
    "### 7.1.2 - Medidas com 1 Resistor em Série com 2 Resistores em Paralelo"
   ]
  },
  {
   "cell_type": "markdown",
   "id": "4f1771b4",
   "metadata": {
    "slideshow": {
     "slide_type": "fragment"
    }
   },
   "source": [
    "Cálculos de incertezas das medições da Tabela 3 :\n",
    "\n",
    "..."
   ]
  },
  {
   "cell_type": "markdown",
   "id": "e02cfdfc",
   "metadata": {
    "slideshow": {
     "slide_type": "subslide"
    }
   },
   "source": [
    "Cálculos de incertezas das medições da Tabela 4 :\n",
    "\n",
    "..."
   ]
  },
  {
   "cell_type": "markdown",
   "id": "1db1f95f",
   "metadata": {
    "slideshow": {
     "slide_type": "subslide"
    }
   },
   "source": [
    "### 7.1.3 - Medidas com 3 Resistores em Paralelo"
   ]
  },
  {
   "cell_type": "markdown",
   "id": "01d7cb61",
   "metadata": {
    "slideshow": {
     "slide_type": "fragment"
    }
   },
   "source": [
    "Cálculos de incertezas das medições da Tabela 5 :\n",
    "\n",
    "..."
   ]
  },
  {
   "cell_type": "markdown",
   "id": "51b630e5",
   "metadata": {
    "slideshow": {
     "slide_type": "subslide"
    }
   },
   "source": [
    "Cálculos de incertezas das medições da Tabela 6 :\n",
    "\n",
    "..."
   ]
  },
  {
   "cell_type": "markdown",
   "id": "58a16b93",
   "metadata": {
    "slideshow": {
     "slide_type": "subslide"
    }
   },
   "source": [
    "## 7.2 - Análises"
   ]
  },
  {
   "cell_type": "markdown",
   "id": "3478581c",
   "metadata": {
    "slideshow": {
     "slide_type": "fragment"
    }
   },
   "source": [
    "### 7.2.1 - Análises com 3 Resistores em Série"
   ]
  },
  {
   "cell_type": "markdown",
   "id": "3e9a7cc8",
   "metadata": {
    "slideshow": {
     "slide_type": "fragment"
    }
   },
   "source": [
    "Verificação da lei das malhas com propagação de incertezas usando módulo [Python Uncertainties](https://pythonhosted.org/uncertainties/) :\n",
    "\n",
    "..."
   ]
  },
  {
   "cell_type": "markdown",
   "id": "3ed0ee67",
   "metadata": {
    "slideshow": {
     "slide_type": "fragment"
    }
   },
   "source": [
    "Comparação das correntes elétricas com propagação de incertezas usando módulo [Python Uncertainties](https://pythonhosted.org/uncertainties/) :\n",
    "\n",
    "..."
   ]
  },
  {
   "cell_type": "markdown",
   "id": "c2ab6064",
   "metadata": {
    "slideshow": {
     "slide_type": "subslide"
    }
   },
   "source": [
    "Cálculo da resistência equivalente teórica $R_{eqt}$ com propagação de incertezas usando módulo [Python Uncertainties](https://pythonhosted.org/uncertainties/) :\n",
    "\n",
    "..."
   ]
  },
  {
   "cell_type": "markdown",
   "id": "0893f567",
   "metadata": {
    "slideshow": {
     "slide_type": "fragment"
    }
   },
   "source": [
    "Cálculo da resistência equivalente prática $R_{eqp}$ com propagação de incertezas usando módulo [Python Uncertainties](https://pythonhosted.org/uncertainties/) :\n",
    "\n",
    "..."
   ]
  },
  {
   "cell_type": "markdown",
   "id": "15ce92aa",
   "metadata": {
    "slideshow": {
     "slide_type": "subslide"
    }
   },
   "source": [
    "### 7.2.2 - Análises com 1 Resistor em Série com 2 Resistores em Paralelo"
   ]
  },
  {
   "cell_type": "markdown",
   "id": "fb197f8b",
   "metadata": {
    "slideshow": {
     "slide_type": "fragment"
    }
   },
   "source": [
    "Comparação das tensões elétricas com propagação de incertezas usando módulo [Python Uncertainties](https://pythonhosted.org/uncertainties/) :\n",
    "\n",
    "..."
   ]
  },
  {
   "cell_type": "markdown",
   "id": "d65365d3",
   "metadata": {
    "slideshow": {
     "slide_type": "fragment"
    }
   },
   "source": [
    "Verificação da lei das malhas com propagação de incertezas usando módulo [Python Uncertainties](https://pythonhosted.org/uncertainties/) :\n",
    "\n",
    "..."
   ]
  },
  {
   "cell_type": "markdown",
   "id": "2b2196ec",
   "metadata": {
    "slideshow": {
     "slide_type": "subslide"
    }
   },
   "source": [
    "Verificação da lei dos nós com propagação de incertezas usando módulo [Python Uncertainties](https://pythonhosted.org/uncertainties/) :\n",
    "\n",
    "..."
   ]
  },
  {
   "cell_type": "markdown",
   "id": "6e0e3edc",
   "metadata": {
    "slideshow": {
     "slide_type": "fragment"
    }
   },
   "source": [
    "Cálculo da resistência equivalente teórica $R_{eqt}$ com propagação de incertezas usando módulo [Python Uncertainties](https://pythonhosted.org/uncertainties/) :\n",
    "\n",
    "..."
   ]
  },
  {
   "cell_type": "markdown",
   "id": "f004fce9",
   "metadata": {
    "slideshow": {
     "slide_type": "fragment"
    }
   },
   "source": [
    "Cálculo da resistência equivalente prática $R_{eqp}$ com propagação de incertezas usando módulo [Python Uncertainties](https://pythonhosted.org/uncertainties/) :\n",
    "\n",
    "..."
   ]
  },
  {
   "cell_type": "markdown",
   "id": "1760ccf3",
   "metadata": {
    "slideshow": {
     "slide_type": "subslide"
    }
   },
   "source": [
    "### 7.2.3 - Análises com 3 Resistores em Paralelo"
   ]
  },
  {
   "cell_type": "markdown",
   "id": "fe857f95",
   "metadata": {
    "slideshow": {
     "slide_type": "fragment"
    }
   },
   "source": [
    "Comparação das tensões elétricas com propagação de incertezas usando módulo [Python Uncertainties](https://pythonhosted.org/uncertainties/) :\n",
    "\n",
    "..."
   ]
  },
  {
   "cell_type": "markdown",
   "id": "31543f68",
   "metadata": {
    "slideshow": {
     "slide_type": "fragment"
    }
   },
   "source": [
    "Verificação da lei das malhas com propagação de incertezas usando módulo [Python Uncertainties](https://pythonhosted.org/uncertainties/) :\n",
    "\n",
    "..."
   ]
  },
  {
   "cell_type": "markdown",
   "id": "02683777",
   "metadata": {
    "slideshow": {
     "slide_type": "subslide"
    }
   },
   "source": [
    "Verificação da lei dos nós com propagação de incertezas usando módulo [Python Uncertainties](https://pythonhosted.org/uncertainties/) :\n",
    "\n",
    "..."
   ]
  },
  {
   "cell_type": "markdown",
   "id": "ff8636be",
   "metadata": {
    "slideshow": {
     "slide_type": "fragment"
    }
   },
   "source": [
    "Cálculo da resistência equivalente teórica $R_{eqt}$ com propagação de incertezas usando módulo [Python Uncertainties](https://pythonhosted.org/uncertainties/) :\n",
    "\n",
    "..."
   ]
  },
  {
   "cell_type": "markdown",
   "id": "b290e519",
   "metadata": {
    "slideshow": {
     "slide_type": "fragment"
    }
   },
   "source": [
    "Cálculo da resistência equivalente prática $R_{eqp}$ com propagação de incertezas usando módulo [Python Uncertainties](https://pythonhosted.org/uncertainties/) :\n",
    "\n",
    "... "
   ]
  }
 ],
 "metadata": {
  "celltoolbar": "Slideshow",
  "kernelspec": {
   "display_name": "Python 3",
   "language": "python",
   "name": "python3"
  },
  "language_info": {
   "codemirror_mode": {
    "name": "ipython",
    "version": 3
   },
   "file_extension": ".py",
   "mimetype": "text/x-python",
   "name": "python",
   "nbconvert_exporter": "python",
   "pygments_lexer": "ipython3",
   "version": "3.8.10"
  }
 },
 "nbformat": 4,
 "nbformat_minor": 5
}
