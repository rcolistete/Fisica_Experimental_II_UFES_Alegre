{
 "cells": [
  {
   "cell_type": "markdown",
   "id": "b6c301fc",
   "metadata": {
    "slideshow": {
     "slide_type": "slide"
    }
   },
   "source": [
    "# Roteiro do Experimento\n",
    "# \"Ligação Série e Paralelo de Resistores\"\n",
    "## Disciplina - DQF10441 Física Experimental II\n",
    "### Semestre 2021/1 EARTE - [DQF - CCENS](http://alegre.ufes.br/ccens/departamento-de-quimica-e-fisica) - [UFES/Alegre](http://alegre.ufes.br/)\n",
    "#### Professor : [Roberto Colistete Jr.](https://github.com/rcolistete)"
   ]
  },
  {
   "cell_type": "markdown",
   "id": "ce6a8650",
   "metadata": {
    "slideshow": {
     "slide_type": "slide"
    }
   },
   "source": [
    "O **experimento \"Ligação Série e Paralelo de Resistores\"** é uma adaptação do experimento original do [sítio eletrônico do Laboratório 2 de Física da UFES-Alegre, seção de roteiros](https://fisica.alegre.ufes.br/roteiros-de-fisica-experimental-ii-e-fisica-iii) :"
   ]
  },
  {
   "cell_type": "markdown",
   "id": "85ac3d23",
   "metadata": {
    "slideshow": {
     "slide_type": "fragment"
    }
   },
   "source": [
    "- \"Ligação Série e Paralelo, Lei de Ohm e Leis de Kirchhoff\"."
   ]
  },
  {
   "cell_type": "markdown",
   "id": "37b8590e",
   "metadata": {
    "slideshow": {
     "slide_type": "fragment"
    }
   },
   "source": [
    "As mudanças principais se referem a :"
   ]
  },
  {
   "cell_type": "markdown",
   "id": "a8f9daaf",
   "metadata": {
    "slideshow": {
     "slide_type": "fragment"
    }
   },
   "source": [
    "- uso de equipamento mais portátil, de menor custo e mais acessível, permitindo uso EARTE em aulas remotas, fora do laboratório;"
   ]
  },
  {
   "cell_type": "markdown",
   "id": "ac99f0ce",
   "metadata": {
    "slideshow": {
     "slide_type": "fragment"
    }
   },
   "source": [
    "- menor detalhamento em certos passos para dar maior liberdade de interpretação e execução por parte do grupo;"
   ]
  },
  {
   "cell_type": "markdown",
   "id": "7bd16e20",
   "metadata": {
    "slideshow": {
     "slide_type": "fragment"
    }
   },
   "source": [
    "- mais medidas para os alunos praticarem melhor uso de multímetro e combinações de resistores."
   ]
  },
  {
   "cell_type": "markdown",
   "id": "cd1a0270",
   "metadata": {
    "slideshow": {
     "slide_type": "subslide"
    }
   },
   "source": [
    "Tal experimento emprega :"
   ]
  },
  {
   "cell_type": "markdown",
   "id": "76722e8f",
   "metadata": {
    "slideshow": {
     "slide_type": "fragment"
    }
   },
   "source": [
    "- prioritariamente um kit de material fornecido para cada grupo, permitindo-o fazer as medidas; "
   ]
  },
  {
   "cell_type": "markdown",
   "id": "18febc30",
   "metadata": {
    "slideshow": {
     "slide_type": "fragment"
    }
   },
   "source": [
    "- ou uso de medidas fornecidas pelo professor, caso o kit de material não esteja disponível ou o grupo tenha sérios problemas ao usar o kit de material."
   ]
  },
  {
   "cell_type": "markdown",
   "id": "bed9a1a7",
   "metadata": {
    "slideshow": {
     "slide_type": "subslide"
    }
   },
   "source": [
    "## Objetivos"
   ]
  },
  {
   "cell_type": "markdown",
   "id": "fa7b7eac",
   "metadata": {
    "slideshow": {
     "slide_type": "fragment"
    }
   },
   "source": [
    "Prática de uso de :"
   ]
  },
  {
   "cell_type": "markdown",
   "id": "f9a55923",
   "metadata": {
    "slideshow": {
     "slide_type": "fragment"
    }
   },
   "source": [
    "- fonte de tensão elétrica;"
   ]
  },
  {
   "cell_type": "markdown",
   "id": "d4670489",
   "metadata": {
    "slideshow": {
     "slide_type": "fragment"
    }
   },
   "source": [
    "- protoboard;"
   ]
  },
  {
   "cell_type": "markdown",
   "id": "4c47e395",
   "metadata": {
    "slideshow": {
     "slide_type": "fragment"
    }
   },
   "source": [
    "- LED como indicador visual aproximado de corrente elétrica;"
   ]
  },
  {
   "cell_type": "markdown",
   "id": "870e7d18",
   "metadata": {
    "slideshow": {
     "slide_type": "fragment"
    }
   },
   "source": [
    "- circuitos eletrônicos de malhas e nós;"
   ]
  },
  {
   "cell_type": "markdown",
   "id": "77540f5b",
   "metadata": {
    "slideshow": {
     "slide_type": "fragment"
    }
   },
   "source": [
    "-  resistores em série e/ou paralelo;"
   ]
  },
  {
   "cell_type": "markdown",
   "id": "1e4cd61b",
   "metadata": {
    "slideshow": {
     "slide_type": "fragment"
    }
   },
   "source": [
    "- multímetros nos modos voltímetro e amperímetro."
   ]
  },
  {
   "cell_type": "markdown",
   "id": "cec7aac6",
   "metadata": {
    "slideshow": {
     "slide_type": "subslide"
    }
   },
   "source": [
    "## Teoria"
   ]
  },
  {
   "cell_type": "markdown",
   "id": "7be0ca63",
   "metadata": {
    "slideshow": {
     "slide_type": "fragment"
    }
   },
   "source": [
    "- corrente elétrica, resistência elétrica, resistência equivalente de resistores em série e em paralelo, vide bibliografia de \"Física C\" e dessa disciplina;"
   ]
  },
  {
   "cell_type": "markdown",
   "id": "030aa445",
   "metadata": {
    "slideshow": {
     "slide_type": "fragment"
    }
   },
   "source": [
    "- circuitos elétricos de uma ou mais malhas (lei das malhas) e de um ou mais nós (lei dos nós), vide bibliografia de \"Física C\" e dessa disciplina;"
   ]
  },
  {
   "cell_type": "markdown",
   "id": "7c0a157d",
   "metadata": {
    "slideshow": {
     "slide_type": "fragment"
    }
   },
   "source": [
    "- como funciona voltímetro e amperímetro em termos de princípio, vide trabalho em grupo \"Multímetros\";"
   ]
  },
  {
   "cell_type": "markdown",
   "id": "65d97df8",
   "metadata": {
    "slideshow": {
     "slide_type": "fragment"
    }
   },
   "source": [
    "- cálculo de incerteza nas medidas de voltímetro, amperímetro e ohmímetro via consulta da escala, resolução e precisão no manual do multímetro, vide aulas anteriores aos experimentos;"
   ]
  },
  {
   "cell_type": "markdown",
   "id": "b7e48998",
   "metadata": {
    "slideshow": {
     "slide_type": "fragment"
    }
   },
   "source": [
    "- propagação de incertezas calculada manualmente e usando [módulo Python Uncertainties](https://pythonhosted.org/uncertainties/), vide aulas anteriores aos experimentos."
   ]
  },
  {
   "cell_type": "markdown",
   "id": "07ea1968",
   "metadata": {
    "slideshow": {
     "slide_type": "subslide"
    }
   },
   "source": [
    "## Equipamento"
   ]
  },
  {
   "cell_type": "markdown",
   "id": "82033976",
   "metadata": {
    "slideshow": {
     "slide_type": "fragment"
    }
   },
   "source": [
    "- fonte de tensão contínua 3,3/5V, com alimentação via carregador AC ou bateria de 9V;"
   ]
  },
  {
   "cell_type": "markdown",
   "id": "6e97f05a",
   "metadata": {
    "slideshow": {
     "slide_type": "fragment"
    }
   },
   "source": [
    "- protoboard;"
   ]
  },
  {
   "cell_type": "markdown",
   "id": "21a8eb2e",
   "metadata": {
    "slideshow": {
     "slide_type": "fragment"
    }
   },
   "source": [
    "- fios/jumpers para protoboard;"
   ]
  },
  {
   "cell_type": "markdown",
   "id": "6c70bfb0",
   "metadata": {
    "slideshow": {
     "slide_type": "fragment"
    }
   },
   "source": [
    "- LED de cor sorteada;"
   ]
  },
  {
   "cell_type": "markdown",
   "id": "bac2b061",
   "metadata": {
    "slideshow": {
     "slide_type": "fragment"
    }
   },
   "source": [
    "- 3 resistores;"
   ]
  },
  {
   "cell_type": "markdown",
   "id": "3a2c4b02",
   "metadata": {
    "slideshow": {
     "slide_type": "fragment"
    }
   },
   "source": [
    "- 2 multímetros com pontas-de-prova e garras jacaré."
   ]
  },
  {
   "cell_type": "markdown",
   "id": "2f69c036",
   "metadata": {
    "slideshow": {
     "slide_type": "slide"
    }
   },
   "source": [
    "## Procedimento Experimental"
   ]
  },
  {
   "cell_type": "markdown",
   "id": "2e79a888",
   "metadata": {
    "slideshow": {
     "slide_type": "fragment"
    }
   },
   "source": [
    "Para o relatório :"
   ]
  },
  {
   "cell_type": "markdown",
   "id": "1327f9ff",
   "metadata": {
    "slideshow": {
     "slide_type": "fragment"
    }
   },
   "source": [
    "- fazer registro fotográfico da montagem e de algumas medidas, para constar no relatório;"
   ]
  },
  {
   "cell_type": "markdown",
   "id": "f117f3b5",
   "metadata": {
    "slideshow": {
     "slide_type": "fragment"
    }
   },
   "source": [
    "- fazer diagrama esquemático de cada circuito eletrônico, via algum software de desenho/projeto/simulação de circuitos eletrônicos."
   ]
  },
  {
   "cell_type": "markdown",
   "id": "464f9e0d",
   "metadata": {
    "slideshow": {
     "slide_type": "subslide"
    }
   },
   "source": [
    "### Montagem"
   ]
  },
  {
   "cell_type": "markdown",
   "id": "590a4151",
   "metadata": {
    "slideshow": {
     "slide_type": "fragment"
    }
   },
   "source": [
    "Fazer a montagem sob orientação do professor :"
   ]
  },
  {
   "cell_type": "markdown",
   "id": "e17a57b9",
   "metadata": {
    "slideshow": {
     "slide_type": "fragment"
    }
   },
   "source": [
    "1) encaixar a fonte de tensão 3,3/5V no protoboard, **sem alimentação externa e desligada**, com tensão $V_S$  nominal indicado pelo professor. $V_{S} = \\underline{\\ \\ \\ \\ \\ \\ \\ \\ \\ }\\,V$;"
   ]
  },
  {
   "cell_type": "markdown",
   "id": "49238e41",
   "metadata": {
    "slideshow": {
     "slide_type": "fragment"
    }
   },
   "source": [
    "2) usando o protoboard, **conecte o LED da cor indicada com anodo (terminal mais longo) no terminal positivo da fonte de tensão**, e catodo a ser conectado no restante do circuito;"
   ]
  },
  {
   "cell_type": "markdown",
   "id": "6f4851f5",
   "metadata": {
    "slideshow": {
     "slide_type": "fragment"
    }
   },
   "source": [
    "3) **escolher via código de cores** (consulte tabela sobre isso) **os 3 resistores** $R_1$, $R_2$ e $R_3$ indicados pelo professor e encaixar seus terminais no protoboard seguindo a configuração respectiva a seguir. $R_1 = \\underline{\\ \\ \\ \\ \\ \\ \\ \\ \\ }\\,k\\Omega$, $R_2 = \\underline{\\ \\ \\ \\ \\ \\ \\ \\ \\ }\\,k\\Omega$, $R_3 = \\underline{\\ \\ \\ \\ \\ \\ \\ \\ \\ }\\,k\\Omega$;"
   ]
  },
  {
   "cell_type": "markdown",
   "id": "85ac1965",
   "metadata": {
    "slideshow": {
     "slide_type": "subslide"
    }
   },
   "source": [
    "4) usar um multímetro em modo voltímetro, desligado, conectando-o em paralelo aos componentes a serem medidos. Recomenda-se medir a queda de tensão nos componentes que não são fonte, sendo essa queda de tensão com sinal oposto à corrente elétrica do circuito;"
   ]
  },
  {
   "cell_type": "markdown",
   "id": "98bb2783",
   "metadata": {
    "slideshow": {
     "slide_type": "fragment"
    }
   },
   "source": [
    "5) usar um multímetro em modo amperímetro, desligado, conectando-o em série aos componentes a serem medidos;"
   ]
  },
  {
   "cell_type": "markdown",
   "id": "611b67a3",
   "metadata": {
    "slideshow": {
     "slide_type": "fragment"
    }
   },
   "source": [
    "6) conectar a alimentação externa na fonte de tensão 3,3/5V, mas **mantendo-a desligada**."
   ]
  },
  {
   "cell_type": "markdown",
   "id": "0164c55a",
   "metadata": {
    "slideshow": {
     "slide_type": "subslide"
    }
   },
   "source": [
    "### Medidas com 3 Resistores em Série"
   ]
  },
  {
   "cell_type": "markdown",
   "id": "926e6362",
   "metadata": {
    "slideshow": {
     "slide_type": "fragment"
    }
   },
   "source": [
    "1) conecte os 3 resistores em série depois do LED, resultando em circuito eletrônico com (fonte de tensão + LED + $R_1$ + $R_2$ + $R_3$), todos em série.\n",
    "\n",
    "Faça diagrama esquemático de tal circuito."
   ]
  },
  {
   "cell_type": "markdown",
   "id": "17c2052e",
   "metadata": {
    "slideshow": {
     "slide_type": "fragment"
    }
   },
   "source": [
    "2) consultando o manual do multímetro, escolher a escala de tensão  elétrica contínua (DC) mais adequada do multímetro em modo voltímetro em cada medida. Anotar a leitura da tela do multímetro em modo voltímetro, a escala usada, e via consulta do manual do  multímetro, anotar a resolução e precisão de tal escala. Calcular a partir disso a incerteza e expressar o valor da medida com incerteza e o número correto de algarismos significativos. **Atenção, sempre desconecte um dos cabos do multímetro antes de mudar a escala, conectando depois**. Preencha a tabela 1 :"
   ]
  },
  {
   "cell_type": "markdown",
   "id": "fded8ec6",
   "metadata": {
    "slideshow": {
     "slide_type": "fragment"
    }
   },
   "source": [
    "| Grandeza    | Leitura da tela  | Escala (V)  | Resolução (V) |  Precisão ±(p%+nD)  | V com incerteza |\n",
    "|:-----------:|------------------|-------------|---------------|---------------------|-----------------|\n",
    "|    $V_S$    |                  |             |               |                     |                 |\n",
    "|  $V_{LED}$  |                  |             |               |                     |                 |\n",
    "|  $V_{R_1}$  |                  |             |               |                     |                 |\n",
    "|  $V_{R_2}$  |                  |             |               |                     |                 |\n",
    "|  $V_{R_3}$  |                  |             |               |                     |                 |\n",
    "\n",
    "<center> Tabela 1 : Medidas de tensão elétrica $V$ de cada componente do circuito com 3 resistores em série. </center>"
   ]
  },
  {
   "cell_type": "markdown",
   "id": "129167f8",
   "metadata": {
    "slideshow": {
     "slide_type": "subslide"
    }
   },
   "source": [
    "3) consultando o manual do multímetro, escolher a escala de corrente elétrica contínua (DC) mais adequada do multímetro em modo amperímetro. Anotar a leitura da tela do multímetro em modo amperímetro, a escala usada, e via consulta do manual do  multímetro, anotar a resolução e precisão de tal escala. Calcular a partir disso a incerteza e expressar o valor da medida com incerteza e o número correto de algarismos significativos. **Atenção, sempre desconecte um dos cabos do multímetro antes de mudar a escala, conectando depois**. Preencha a tabela 2 :"
   ]
  },
  {
   "cell_type": "markdown",
   "id": "ea5fc206",
   "metadata": {
    "slideshow": {
     "slide_type": "fragment"
    }
   },
   "source": [
    "| Grandeza    | Leitura da tela  | Escala (A)  | Resolução (A) |  Precisão ±(p%+nD)  | I com incerteza |\n",
    "|:-----------:|------------------|-------------|---------------|---------------------|-----------------|\n",
    "|  $I_{LED}$  |                  |             |               |                     |                 |\n",
    "|  $I_{R_1}$  |                  |             |               |                     |                 |\n",
    "|  $I_{R_2}$  |                  |             |               |                     |                 |\n",
    "|  $I_{R_3}$  |                  |             |               |                     |                 |\n",
    "\n",
    "<center> Tabela 2 : Medidas de corrente elétrica $I$ de cada componente do circuito com 3 resistores em série. </center>"
   ]
  },
  {
   "cell_type": "markdown",
   "id": "8548ee90",
   "metadata": {
    "slideshow": {
     "slide_type": "fragment"
    }
   },
   "source": [
    "4) registre (via foto, etc) a intensidade do LED aceso. Desconecte um dos 3 resistores em série, então o que acontece com o LED ? Continua aceso ou não, muda a intensidade ?"
   ]
  },
  {
   "cell_type": "markdown",
   "id": "a7738299",
   "metadata": {
    "slideshow": {
     "slide_type": "subslide"
    }
   },
   "source": [
    "### Medidas com 1 Resistor em Série e 2 Resistores em Paralelo"
   ]
  },
  {
   "cell_type": "markdown",
   "id": "00cfe8b4",
   "metadata": {
    "slideshow": {
     "slide_type": "fragment"
    }
   },
   "source": [
    "1) conecte o resistor $R_1$ em série depois do LED, com $R_2$ e $R_3$ em paralelo depois de $R_1$,  resultando em circuito eletrônico com (fonte de tensão + LED + $R_1$ + ($R_2$ // $R_3$)).\n",
    "\n",
    "Faça diagrama esquemático de tal circuito;"
   ]
  },
  {
   "cell_type": "markdown",
   "id": "78dd6b7e",
   "metadata": {
    "slideshow": {
     "slide_type": "fragment"
    }
   },
   "source": [
    "2) analogamente à configuração anterior, preencha a tabela 3 :"
   ]
  },
  {
   "cell_type": "markdown",
   "id": "b2eb4d84",
   "metadata": {
    "slideshow": {
     "slide_type": "fragment"
    }
   },
   "source": [
    "| Grandeza    | Leitura da tela  | Escala (V)  | Resolução (V) |  Precisão ±(p%+nD)  | V com incerteza |\n",
    "|:-----------:|------------------|-------------|---------------|---------------------|-----------------|\n",
    "|    $V_S$    |                  |             |               |                     |                 |\n",
    "|  $V_{LED}$  |                  |             |               |                     |                 |\n",
    "|  $V_{R_1}$  |                  |             |               |                     |                 |\n",
    "|  $V_{R_2}$  |                  |             |               |                     |                 |\n",
    "|  $V_{R_3}$  |                  |             |               |                     |                 |\n",
    "\n",
    "<center> Tabela 3 : Medidas de tensão elétrica $V$ de cada componente do circuito com 1 resistor em série e 2 resistores em paralelo. </center>"
   ]
  },
  {
   "cell_type": "markdown",
   "id": "e3d63a49",
   "metadata": {
    "slideshow": {
     "slide_type": "subslide"
    }
   },
   "source": [
    "3) analogamente à configuração anterior, preencha a tabela 4 :"
   ]
  },
  {
   "cell_type": "markdown",
   "id": "c436f874",
   "metadata": {
    "slideshow": {
     "slide_type": "fragment"
    }
   },
   "source": [
    "| Grandeza    | Leitura da tela  | Escala (A)  | Resolução (A) |  Precisão ±(p%+nD)  | I com incerteza |\n",
    "|:-----------:|------------------|-------------|---------------|---------------------|-----------------|\n",
    "|  $I_{LED}$  |                  |             |               |                     |                 |\n",
    "|  $I_{R_1}$  |                  |             |               |                     |                 |\n",
    "|  $I_{R_2}$  |                  |             |               |                     |                 |\n",
    "|  $I_{R_3}$  |                  |             |               |                     |                 |\n",
    "\n",
    "<center> Tabela 4 : Medidas de corrente elétrica $I$ de cada componente do circuito com 1 resistor em série e 2 resistores em paralelo. </center>"
   ]
  },
  {
   "cell_type": "markdown",
   "id": "9560bc9b",
   "metadata": {
    "slideshow": {
     "slide_type": "fragment"
    }
   },
   "source": [
    "4) registre (via foto, etc) a intensidade do LED aceso. Desconecte o resistor $R_3$, então o que acontece com o LED ? Continua aceso ou não, muda a intensidade ?"
   ]
  },
  {
   "cell_type": "markdown",
   "id": "41cd0395",
   "metadata": {
    "slideshow": {
     "slide_type": "subslide"
    }
   },
   "source": [
    "### Medidas com 3 Resistores em Paralelo"
   ]
  },
  {
   "cell_type": "markdown",
   "id": "9f3b79e8",
   "metadata": {
    "slideshow": {
     "slide_type": "fragment"
    }
   },
   "source": [
    "1) conecte os 3 resistores em paralelo depois do LED, resultando em circuito eletrônico com (fonte de tensão + LED + ($R_1$ // $R_2$ // $R_3$)).\n",
    "\n",
    "Faça diagrama esquemático de tal circuito;"
   ]
  },
  {
   "cell_type": "markdown",
   "id": "6fc34ef9",
   "metadata": {
    "slideshow": {
     "slide_type": "fragment"
    }
   },
   "source": [
    "2) analogamente à configuração anterior, preencha a tabela 5 :"
   ]
  },
  {
   "cell_type": "markdown",
   "id": "2fecdc03",
   "metadata": {
    "slideshow": {
     "slide_type": "fragment"
    }
   },
   "source": [
    "| Grandeza    | Leitura da tela  | Escala (V)  | Resolução (V) |  Precisão ±(p%+nD)  | V com incerteza |\n",
    "|:-----------:|------------------|-------------|---------------|---------------------|-----------------|\n",
    "|    $V_S$    |                  |             |               |                     |                 |\n",
    "|  $V_{LED}$  |                  |             |               |                     |                 |\n",
    "|  $V_{R_1}$  |                  |             |               |                     |                 |\n",
    "|  $V_{R_2}$  |                  |             |               |                     |                 |\n",
    "|  $V_{R_3}$  |                  |             |               |                     |                 |\n",
    "\n",
    "<center> Tabela 5 : Medidas de tensão elétrica $V$ de cada componente do circuito com 3 resistores em paralelo. </center>"
   ]
  },
  {
   "cell_type": "markdown",
   "id": "00dc78ee",
   "metadata": {
    "slideshow": {
     "slide_type": "subslide"
    }
   },
   "source": [
    "3) analogamente à configuração anterior, preencha a tabela 6 :"
   ]
  },
  {
   "cell_type": "markdown",
   "id": "3f139212",
   "metadata": {
    "slideshow": {
     "slide_type": "fragment"
    }
   },
   "source": [
    "| Grandeza    | Leitura da tela  | Escala (A)  | Resolução (A) |  Precisão ±(p%+nD)  | I com incerteza |\n",
    "|:-----------:|------------------|-------------|---------------|---------------------|-----------------|\n",
    "|  $I_{LED}$  |                  |             |               |                     |                 |\n",
    "|  $I_{R_1}$  |                  |             |               |                     |                 |\n",
    "|  $I_{R_2}$  |                  |             |               |                     |                 |\n",
    "|  $I_{R_3}$  |                  |             |               |                     |                 |\n",
    "\n",
    "<center> Tabela 6 : Medidas de corrente elétrica $I$ de cada componente do circuito com 3 resistores em paralelo. </center>"
   ]
  },
  {
   "cell_type": "markdown",
   "id": "9843f6f1",
   "metadata": {
    "slideshow": {
     "slide_type": "fragment"
    }
   },
   "source": [
    "4) registre (via foto, etc) a intensidade do LED aceso. Desconecte o resistor $R_3$, então o que acontece com o LED ? Continua aceso ou não, muda a intensidade ?"
   ]
  },
  {
   "cell_type": "markdown",
   "id": "709a0dbd",
   "metadata": {
    "slideshow": {
     "slide_type": "subslide"
    }
   },
   "source": [
    "## Análises"
   ]
  },
  {
   "cell_type": "markdown",
   "id": "d35cd2b0",
   "metadata": {
    "slideshow": {
     "slide_type": "fragment"
    }
   },
   "source": [
    "Use propagação de incertezas usando [módulo Python Uncertainties](https://pythonhosted.org/uncertainties/)."
   ]
  },
  {
   "cell_type": "markdown",
   "id": "b4ca81eb",
   "metadata": {
    "slideshow": {
     "slide_type": "fragment"
    }
   },
   "source": [
    "### Análises com 3 Resistores em Série"
   ]
  },
  {
   "cell_type": "markdown",
   "id": "e214890d",
   "metadata": {
    "slideshow": {
     "slide_type": "fragment"
    }
   },
   "source": [
    "1) verifique a lei das malhas, i. e., a tensão elétrica da fonte $V_S$ é igual à soma das quedas de tensão $V_{LED}$, $V_{R_1}$, $V_{R_2}$ e $V_{R_3}$ ?"
   ]
  },
  {
   "cell_type": "markdown",
   "id": "c6ad6b57",
   "metadata": {
    "slideshow": {
     "slide_type": "fragment"
    }
   },
   "source": [
    "2) compare as correntes elétricas : são diferentes ou iguais (compatíveis ao se considerar as incertezas) ?"
   ]
  },
  {
   "cell_type": "markdown",
   "id": "5475fe90",
   "metadata": {
    "slideshow": {
     "slide_type": "fragment"
    }
   },
   "source": [
    "3) calcule a resistência equivalente teórica $R_{eqt}$ dos 3 resistores em série, considerando as tolerâncias dos mesmos como incertezas;"
   ]
  },
  {
   "cell_type": "markdown",
   "id": "e0bcf697",
   "metadata": {
    "slideshow": {
     "slide_type": "fragment"
    }
   },
   "source": [
    "4) a partir dos valores de $(V_{R_1} + V_{R_2} + V_{R_3})$ e de $I_{R_1}$, calcule a resistência equivalente prática $R_{eqp}$. Compare $R_{eqt}$ com $R_{eqp}$."
   ]
  },
  {
   "cell_type": "markdown",
   "id": "da312764",
   "metadata": {
    "slideshow": {
     "slide_type": "subslide"
    }
   },
   "source": [
    "### Análises com 1 Resistor em Série e 2 Resistores em Paralelo"
   ]
  },
  {
   "cell_type": "markdown",
   "id": "06568dce",
   "metadata": {
    "slideshow": {
     "slide_type": "fragment"
    }
   },
   "source": [
    "1) compare as tensões elétricas nos resistores $R_2$ e $R_3$ em paralelo, são iguais ou diferentes ?"
   ]
  },
  {
   "cell_type": "markdown",
   "id": "ffe99dac",
   "metadata": {
    "slideshow": {
     "slide_type": "fragment"
    }
   },
   "source": [
    "2) verifique a lei das malhas na malha mais externa. Quantas malhas existem nesse circuito ?"
   ]
  },
  {
   "cell_type": "markdown",
   "id": "971a52aa",
   "metadata": {
    "slideshow": {
     "slide_type": "fragment"
    }
   },
   "source": [
    "3) verifique a lei dos nós. Quantos nós existem nesse circuito ? E quantos ramos existem conectados a cada nó ?"
   ]
  },
  {
   "cell_type": "markdown",
   "id": "5453a3e7",
   "metadata": {
    "slideshow": {
     "slide_type": "fragment"
    }
   },
   "source": [
    "4) calcule a resistência equivalente teórica $R_{eqt}$ de ($R_1$ + ($R_2$ // $R_3$)), considerando as tolerâncias dos mesmos como incertezas;"
   ]
  },
  {
   "cell_type": "markdown",
   "id": "de35fba4",
   "metadata": {
    "slideshow": {
     "slide_type": "fragment"
    }
   },
   "source": [
    "5) a partir dos valores de $(V_{R_1} + V_{R_2})$ e de $I_{R_1}$ (corrente elétrica antes de ramificar no nó), calcule a resistência equivalente prática $R_{eqp}$. Compare $R_{eqt}$ com $R_{eqp}$."
   ]
  },
  {
   "cell_type": "markdown",
   "id": "aba6ed49",
   "metadata": {
    "slideshow": {
     "slide_type": "subslide"
    }
   },
   "source": [
    "### Análises com 3 Resistores em Paralelo"
   ]
  },
  {
   "cell_type": "markdown",
   "id": "3e62b675",
   "metadata": {
    "slideshow": {
     "slide_type": "fragment"
    }
   },
   "source": [
    "1) compare as tensões elétricas nos 3 resistores, são iguais ou diferentes ?"
   ]
  },
  {
   "cell_type": "markdown",
   "id": "eb466e48",
   "metadata": {
    "slideshow": {
     "slide_type": "fragment"
    }
   },
   "source": [
    "2) verifique a lei das malhas na malha mais externa. Quantas malhas existem nesse circuito ?"
   ]
  },
  {
   "cell_type": "markdown",
   "id": "a5020727",
   "metadata": {
    "slideshow": {
     "slide_type": "fragment"
    }
   },
   "source": [
    "3) verifique a lei dos nós. Quantos nós existem nesse circuito ? E quantos ramos existem conectados a cada nó ?"
   ]
  },
  {
   "cell_type": "markdown",
   "id": "9856b7f1",
   "metadata": {
    "slideshow": {
     "slide_type": "fragment"
    }
   },
   "source": [
    "4) calcule a resistência equivalente teórica $R_{eqt}$ dos 3 resistores em paralelo, considerando as tolerâncias dos mesmos como incertezas;"
   ]
  },
  {
   "cell_type": "markdown",
   "id": "42d82016",
   "metadata": {
    "slideshow": {
     "slide_type": "fragment"
    }
   },
   "source": [
    "5) a partir dos valores de $V_{R_1}$ e de $I_{LED}$ (corrente elétrica antes de ramificar no nó), calcule a resistência equivalente prática $R_{eqp}$. Compare $R_{eqt}$ com $R_{eqp}$."
   ]
  }
 ],
 "metadata": {
  "celltoolbar": "Slideshow",
  "kernelspec": {
   "display_name": "Python 3",
   "language": "python",
   "name": "python3"
  },
  "language_info": {
   "codemirror_mode": {
    "name": "ipython",
    "version": 3
   },
   "file_extension": ".py",
   "mimetype": "text/x-python",
   "name": "python",
   "nbconvert_exporter": "python",
   "pygments_lexer": "ipython3",
   "version": "3.8.10"
  }
 },
 "nbformat": 4,
 "nbformat_minor": 5
}
