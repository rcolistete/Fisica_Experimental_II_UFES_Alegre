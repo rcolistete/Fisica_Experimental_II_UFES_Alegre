{
 "cells": [
  {
   "cell_type": "markdown",
   "id": "b6c301fc",
   "metadata": {
    "editable": true,
    "slideshow": {
     "slide_type": "slide"
    },
    "tags": []
   },
   "source": [
    "# Relatório \"Instrumentação e Grandezas Elétricas\"\n",
    "## < Fulana da Silva, Beltrano da Costa, Sicrano de Santos >\n",
    "### Disciplina DQF10441 Física Experimental II - Semestre 20??/?\n",
    "### [DQF - CCENS](http://alegre.ufes.br/ccens/departamento-de-quimica-e-fisica) - [UFES/Alegre](http://alegre.ufes.br/)\n",
    "#### Experimento realizado em ??/??/20?? - Relatório entregue em < ??/??/20?? >\n",
    "#### Professor : [Roberto Colistete Jr.](https://github.com/rcolistete)"
   ]
  },
  {
   "cell_type": "markdown",
   "id": "87527b77",
   "metadata": {
    "editable": true,
    "slideshow": {
     "slide_type": "slide"
    },
    "tags": []
   },
   "source": [
    "## 1 - Objetivos"
   ]
  },
  {
   "cell_type": "markdown",
   "id": "bddd7d6a",
   "metadata": {
    "editable": true,
    "slideshow": {
     "slide_type": "fragment"
    },
    "tags": []
   },
   "source": [
    "< Identifição da razão de se realizar o experimento.\n",
    "\n",
    "Parcialmente baseado em \"Objetivos\" do roteiro.\n",
    "\n",
    "Por exemplo, nesse experimento (fiquem à vontade em alterar) : >"
   ]
  },
  {
   "cell_type": "markdown",
   "id": "c7d91c4c",
   "metadata": {
    "editable": true,
    "slideshow": {
     "slide_type": "fragment"
    },
    "tags": []
   },
   "source": [
    "Esse experimento visa inicialmente praticar montagem e medições de circuito elétrico de uma malha com resistor, com fonte de tensão elétrica contínua, protoboard e resistor. Para tanto é necessário o domínio da teoria envolvida de circuitos elétricos, seus componentes e suas grandezas. Bem como domínio da prática de medições das grandezas elétricas utilizando multímetros nos modos voltímetro, amperímetro e ohmímetro, sendo calculadas as incertezas de cada medida e propagadas via software."
   ]
  },
  {
   "cell_type": "markdown",
   "id": "93e2a453",
   "metadata": {
    "editable": true,
    "slideshow": {
     "slide_type": "slide"
    },
    "tags": []
   },
   "source": [
    "## 2 - Teoria"
   ]
  },
  {
   "cell_type": "markdown",
   "id": "39fb0bdc",
   "metadata": {
    "editable": true,
    "slideshow": {
     "slide_type": "fragment"
    },
    "tags": []
   },
   "source": [
    "< Resumo teórico, geralmente é advindo de um texto maior encontrado em livros de Física (que vem ser citados).\n",
    "\n",
    "Parcialmente baseada em \"Teoria\" e \"Equipamento\" do roteiro.\n",
    "\n",
    "Teoria resumida, tipicamente com poucos parágrafos, sobre certos tópicos e ítens. >"
   ]
  },
  {
   "cell_type": "markdown",
   "id": "62f51ed3",
   "metadata": {
    "editable": true,
    "slideshow": {
     "slide_type": "fragment"
    },
    "tags": []
   },
   "source": [
    "< Teoria de grandezas elétricas : tensão elétrica, corrente elétrica e resistência elétrica (e lei de Ohm).\n",
    "\n",
    "Segundo [HRW], ... >"
   ]
  },
  {
   "cell_type": "markdown",
   "id": "bd5f91ff",
   "metadata": {
    "editable": true,
    "slideshow": {
     "slide_type": "subslide"
    },
    "tags": []
   },
   "source": [
    "< Teoria de circuitos elétricos de uma malha. Com imagem de um exemplo. >"
   ]
  },
  {
   "cell_type": "markdown",
   "id": "f0d445ac",
   "metadata": {
    "editable": true,
    "slideshow": {
     "slide_type": "fragment"
    },
    "tags": []
   },
   "source": [
    "< Teoria de resistor (ôhmico) e código de cores. Com imagem/foto de exemplo e também tabela de código de cores de resistos. Com imagem do símbolo de resistor adotado em diagrama esquemático. >"
   ]
  },
  {
   "cell_type": "markdown",
   "id": "b14bc87d",
   "metadata": {
    "editable": true,
    "slideshow": {
     "slide_type": "fragment"
    },
    "tags": []
   },
   "source": [
    "< Teoria de fonte de tensão elétrica contínua. Com imagem/foto de exemplo. Com imagem do símbolo de fonte de tensão elétrica contínua adotado em diagrama esquemático. >"
   ]
  },
  {
   "cell_type": "markdown",
   "id": "8e585265",
   "metadata": {
    "editable": true,
    "slideshow": {
     "slide_type": "fragment"
    },
    "tags": []
   },
   "source": [
    "< Teoria de princípio de funcionamento de voltímetro, amperímetro e ohmímetro. Com imagem/foto de exemplo. >"
   ]
  },
  {
   "cell_type": "markdown",
   "id": "9f9c6611",
   "metadata": {
    "editable": true,
    "slideshow": {
     "slide_type": "slide"
    },
    "tags": []
   },
   "source": [
    "## 3 - Procedimento Experimental"
   ]
  },
  {
   "cell_type": "markdown",
   "id": "3c6fb616",
   "metadata": {
    "editable": true,
    "slideshow": {
     "slide_type": "fragment"
    },
    "tags": []
   },
   "source": [
    "< Descrição precisa do que foi usado e como foi usado no experimento.\n",
    "\n",
    "Parcialmente baseado em \"Equipamento\" e \"Procedimento Experimental\" do roteiro.\n",
    "\n",
    "Nesta seção são descritos os procedimentos empregados para efetuar as medidas e são descritas as montagens experimentais utilizadas. Diagramas esquemáticos das experiências são bastante úteis pois facilitam a visualização.  Este procedimento não é uma cópia do roteiro do experimento, podendo o relatório ser mais resumido que o roteiro. \n",
    "\n",
    "Por exemplo, nesse experimento (fiquem à vontade em alterar) : >"
   ]
  },
  {
   "cell_type": "markdown",
   "id": "49efd271",
   "metadata": {
    "editable": true,
    "jp-MarkdownHeadingCollapsed": true,
    "slideshow": {
     "slide_type": "subslide"
    },
    "tags": []
   },
   "source": [
    "## Medindo Tensão, Corrente e Resistência Elétricas com Multímetro"
   ]
  },
  {
   "cell_type": "markdown",
   "id": "38686094",
   "metadata": {
    "editable": true,
    "slideshow": {
     "slide_type": "fragment"
    },
    "tags": []
   },
   "source": [
    "O experimento consiste de um circuito elétrico de uma malha com resistor, com fonte de tensão elétrica contínua de $<?>$ V, protoboard, fios/cabos e resistor.\n",
    "\n",
    "Bem como 2 multímetros com pontas-de-prova e garras jacaré, sendo usados nos modos voltímetro, amperímetro e ohmímetro."
   ]
  },
  {
   "cell_type": "markdown",
   "id": "590a4151",
   "metadata": {
    "editable": true,
    "slideshow": {
     "slide_type": "fragment"
    },
    "tags": []
   },
   "source": [
    "A montagem é feita sob orientação do professor, conectando a fonte de tensão elétrica contínua no protoboard, o resistor indicado pelo professor no protoboard, um multímetro em modo voltímetro conectado em paralelo ao resistor, outro multímetro em modo amperímetro em série ao resistor (entre o terminal positivo da fonte de tensão e um dos terminais do resistor).\n",
    "\n",
    "Todas as conexões devem ser feitas com a fonte de tensão elétrica desligada e os multímetros desligados. Sempre deve ser desconectado um dos cabos do multímetro antes de ligar ou mudar a escala, conectando depois."
   ]
  },
  {
   "cell_type": "markdown",
   "id": "55072427",
   "metadata": {
    "editable": true,
    "slideshow": {
     "slide_type": "subslide"
    },
    "tags": []
   },
   "source": [
    "<center> Figura N - Diagrama esquemático do circuito elétrico com fonte de tensão elétrica contínua, resistor, voltímetro e amperímetro. </center>"
   ]
  },
  {
   "cell_type": "markdown",
   "id": "249c3710",
   "metadata": {
    "slideshow": {
     "slide_type": "fragment"
    }
   },
   "source": [
    "São feitas medições em todas as escalas possíveis de tensão elétrica contínua (DC) do multímetro, bem como medições em todas as escalas possíveis de corrente elétrica contínua (DC) do multímetro."
   ]
  },
  {
   "cell_type": "markdown",
   "id": "b66061f2",
   "metadata": {
    "slideshow": {
     "slide_type": "fragment"
    }
   },
   "source": [
    "Ao final a resistência elétrica do resistor é medida via multímetro no modo ohmímetro, com o resistor desconectado do protoboard, novamente usando todas as escalas possíveis do multímetro."
   ]
  },
  {
   "cell_type": "markdown",
   "id": "b42f941d",
   "metadata": {
    "editable": true,
    "slideshow": {
     "slide_type": "slide"
    },
    "tags": []
   },
   "source": [
    "## 4 - Resultados e Discussão"
   ]
  },
  {
   "cell_type": "markdown",
   "id": "34feb66c",
   "metadata": {
    "editable": true,
    "slideshow": {
     "slide_type": "fragment"
    },
    "tags": []
   },
   "source": [
    "< Apresentação dos dados medidos e dos principais resultados do experimento, com incertezas, o número correto de algarismos significativos e em notação científica. É nessa seção que se discute mais amplamente esses resultados apresentados.\n",
    "\n",
    "Parcialmente baseado em \"Procedimento Experimental / Medidas\" e \"Análises\" do roteiro.\n",
    "\n",
    "Esta seção é o coração do relatório. Nela são apresentados os dados obtidos em forma de fotos, tabelas, gráficos e diagramas. Lembre-se que quando o volume de dados é elevado os gráficos devem ter preferência sobre as tabelas.\n",
    "\n",
    "Lembre-se que toda medida experimental apresenta uma incerteza e portanto as contas efetuadas devem levar estas em consideração via propagação de incertezas.\n",
    "\n",
    "Por exemplo, nesse experimento (fiquem à vontade em alterar) : >"
   ]
  },
  {
   "cell_type": "markdown",
   "id": "5b09a799",
   "metadata": {
    "editable": true,
    "slideshow": {
     "slide_type": "fragment"
    },
    "tags": []
   },
   "source": [
    "1) Calculando a corrente elétrica $I_R$ teórica para o valor nominal do resistor $R$ escolhido e a tensão elétrica $V_S = ?\\,V$ (vide indicaçao do professor) nominal da fonte (\"source\") de tensão elétrica contínua :\n",
    "\n",
    "$R = \\underline{\\ \\ \\ \\ \\ \\ \\ \\ \\ }\\,k\\Omega$\n",
    "\n",
    "$V_S = \\underline{\\ \\ \\ \\ \\ \\ \\ \\ \\ }\\,V$\n",
    "\n",
    "$I_R = \\underline{\\ \\ \\ \\ \\ \\ \\ \\ \\ }\\,mA$\n",
    "\n",
    "Vide 7.1 de Anexos. "
   ]
  },
  {
   "cell_type": "markdown",
   "id": "8e1044ed",
   "metadata": {
    "editable": true,
    "slideshow": {
     "slide_type": "fragment"
    },
    "tags": []
   },
   "source": [
    "2) Após consulta do manual do multímetro, a escolha da escala de tensão elétrica contínua (DC) mais adequada do multímetro em modo voltímetro, i. e., a menor escala capaz de ler a tensão $V_S$ :\n",
    "\n",
    "Escala $= \\underline{\\ \\ \\ \\ \\ \\ \\ \\ \\ }\\,V$\n",
    "\n",
    "Modelo do multímetro usado como voltímetro : $\\underline{\\hspace{5cm}}$"
   ]
  },
  {
   "cell_type": "markdown",
   "id": "144936a6",
   "metadata": {
    "editable": true,
    "slideshow": {
     "slide_type": "subslide"
    },
    "tags": []
   },
   "source": [
    "3) Após consulta do manual do multímetro, a escolha da escala de corrente elétrica contínua (DC) mais adequada do multímetro em modo amperímetro, i. e., a menor escala capaz de ler a corrente $I_R$ :\n",
    "\n",
    "Escala $= \\underline{\\hspace{1cm}}\\, mA$\n",
    "\n",
    "Modelo do multímetro usado como amperímetro : $\\underline{\\hspace{5cm}}$"
   ]
  },
  {
   "cell_type": "markdown",
   "id": "0306bce6",
   "metadata": {
    "editable": true,
    "slideshow": {
     "slide_type": "fragment"
    },
    "tags": []
   },
   "source": [
    "<center> Figura N - Foto do circuito elétrico com resistor. </center>"
   ]
  },
  {
   "cell_type": "markdown",
   "id": "eff75bf0-94ea-4018-9ef8-38a5f605bcb1",
   "metadata": {
    "editable": true,
    "slideshow": {
     "slide_type": "subslide"
    },
    "tags": []
   },
   "source": [
    "|   n     |  Leitura da tela  | Escala (V)  | Resolução (V) |  Precisão ±(p%+nD)  | $V_R$ (V) com incerteza |\n",
    "|---------|:-----------------:|:-----------:|:-------------:|:-------------------:|:------------------------:|\n",
    "|   1     |       6.1         |    100      |     0.1       |  $\\pm(8\\% + 3D)$    |     $6,1 \\pm 0,3$        |\n",
    "|   2     |                   |             |               |                     |                          |\n",
    "|   3     |                   |             |               |                     |                          |\n",
    "|   4     |                   |             |               |                     |                          |\n",
    "|   5     |                   |             |               |                     |                          |\n",
    "\n",
    "<center>Tabela 1 : Medidas de $V_R$ variando escala do voltímetro.</center>"
   ]
  },
  {
   "cell_type": "markdown",
   "id": "20b5596a-6f14-4fd8-9dbc-0ccc7db4281a",
   "metadata": {
    "editable": true,
    "slideshow": {
     "slide_type": "fragment"
    },
    "tags": []
   },
   "source": [
    "Primeira linha da tabela 1 com dados fictícios."
   ]
  },
  {
   "cell_type": "markdown",
   "id": "2091adc4-5416-4886-914d-16b628f49a6e",
   "metadata": {
    "editable": true,
    "slideshow": {
     "slide_type": "fragment"
    },
    "tags": []
   },
   "source": [
    "Vide 7.1 de Anexos."
   ]
  },
  {
   "cell_type": "markdown",
   "id": "b73b7137",
   "metadata": {
    "editable": true,
    "slideshow": {
     "slide_type": "subslide"
    },
    "tags": []
   },
   "source": [
    "4) Na tabela 1 :\n",
    "- as medições de $V_R$ são compatíveis com o valor nominal da fonte de tensão elétrica contínua $V_S$, no ítem (4.1) acima ?\n",
    "- qual a escala com menor incerteza na medição de $V_R$ ?\n",
    "- é a mesma escala apontada no ítem (4.2) acima ?\n",
    "\n",
    "..."
   ]
  },
  {
   "cell_type": "markdown",
   "id": "5c8430fe-bc72-4d6d-8c92-10e62ee0d786",
   "metadata": {
    "editable": true,
    "slideshow": {
     "slide_type": "subslide"
    },
    "tags": []
   },
   "source": [
    "|   n     |  Leitura da tela  |  Escala (A)  |  Resolução (A) |  Precisão ±(p%+nD)  |  $I_R$ (mA) com incerteza   |\n",
    "|---------|-------------------|--------------|----------------|---------------------|-----------------------------|\n",
    "|   1     |                   |              |                |                     |                             |\n",
    "|   2     |                   |              |                |                     |                             |\n",
    "|   3     |                   |              |                |                     |                             |\n",
    "|   4     |                   |              |                |                     |                             |\n",
    "|   5     |                   |              |                |                     |                             |\n",
    "\n",
    "<center>Tabela 2 : Medidas de $I_R$ variando escala do amperímetro.</center>"
   ]
  },
  {
   "cell_type": "markdown",
   "id": "a0599c7d-e00c-4c05-96b8-e3c2626c8c70",
   "metadata": {
    "editable": true,
    "slideshow": {
     "slide_type": "fragment"
    },
    "tags": []
   },
   "source": [
    "Vide 7.1 de Anexos."
   ]
  },
  {
   "cell_type": "markdown",
   "id": "09b76aa2",
   "metadata": {
    "editable": true,
    "slideshow": {
     "slide_type": "subslide"
    },
    "tags": []
   },
   "source": [
    "5) Na tabela 2 :\n",
    "- as medições de $I_R$ são compatíveis com o valor teórico calculado da corrente elétrica $I_R$, no ítem (4.1) acima ?\n",
    "- qual a escala com menor incerteza na medição de $I_R$ ?\n",
    "- é a mesma escala apontada no ítem (4.3) acima ?\n",
    "\n",
    "..."
   ]
  },
  {
   "cell_type": "markdown",
   "id": "3d62cb36",
   "metadata": {
    "editable": true,
    "slideshow": {
     "slide_type": "subslide"
    },
    "tags": []
   },
   "source": [
    "6) Após consulta do manual do multímetro, a escolha da escala de resistência elétrica mais adequada do multímetro em modo ohmímetro, i. e., a menor escala capaz de ler a resistência elétrica $R$ :\n",
    "\n",
    "Escala $= \\underline{\\ \\ \\ \\ \\ \\ \\ \\ \\ }\\, \\Omega$\n",
    "\n",
    "Modelo do multímetro usado como ohmímetro : $\\underline{\\hspace{5cm}}$"
   ]
  },
  {
   "cell_type": "markdown",
   "id": "8781f14d-1a84-499d-b337-0bda700766bc",
   "metadata": {
    "editable": true,
    "slideshow": {
     "slide_type": "subslide"
    },
    "tags": []
   },
   "source": [
    "|   n     |  Leitura da tela  |  Escala ($\\Omega$)  |  Resolução ($\\Omega$) |  Precisão ±(p%+nD)  | $R$ ($k\\Omega$) com incerteza |\n",
    "|---------|-------------------|--------------|----------------|---------------------|-----------------------------|\n",
    "|   1     |                   |              |                |                     |                             |\n",
    "|   2     |                   |              |                |                     |                             |\n",
    "|   3     |                   |              |                |                     |                             |\n",
    "|   4     |                   |              |                |                     |                             |\n",
    "|   5     |                   |              |                |                     |                             |\n",
    "\n",
    "<center>Tabela 3 : Medidas de $R$ variando escala do ohmímetro.</center>"
   ]
  },
  {
   "cell_type": "markdown",
   "id": "2ed31c29-f21b-43fc-ae1a-1bb422b8c237",
   "metadata": {
    "editable": true,
    "slideshow": {
     "slide_type": "fragment"
    },
    "tags": []
   },
   "source": [
    "Vide 7.1 de Anexos."
   ]
  },
  {
   "cell_type": "markdown",
   "id": "2a48448e-1068-44d0-83f1-afe20a028e4d",
   "metadata": {
    "editable": true,
    "slideshow": {
     "slide_type": "subslide"
    },
    "tags": []
   },
   "source": [
    "Na tabela 3 :\n",
    "- as medições de $R$ são compatíveis com o valor nominal do resistor $R$ obtido via código de cores, no ítem (4.1) ?\n",
    "- qual a escala com menor incerteza na medição de $R$ ?\n",
    "- é a mesma escala apontada em (4.6) acima ?\n",
    "- calcule **uma vez** $R$ a partir de $V_R$ e $I_R$ medidos nas escalas mais adequadas, ítens (4.2)-(4.3), usando propagação de incertezas (manualmente e via propagação de incerteza usando [módulo Python Uncertainties](https://pythonhosted.org/uncertainties/), comparando as incertezas resultantes). Compare com a medição de $R$ na melhor escala (com menor incerteza) e com o valor nominal do resistor $R$."
   ]
  },
  {
   "cell_type": "markdown",
   "id": "473f253e-fb00-4f9b-bb53-f94651e2f561",
   "metadata": {
    "editable": true,
    "slideshow": {
     "slide_type": "fragment"
    },
    "tags": []
   },
   "source": [
    "..."
   ]
  },
  {
   "cell_type": "markdown",
   "id": "9d33390e-410e-4168-9b46-28026aedb907",
   "metadata": {
    "editable": true,
    "slideshow": {
     "slide_type": "fragment"
    },
    "tags": []
   },
   "source": [
    "Vide 7.2 de Anexos."
   ]
  },
  {
   "cell_type": "markdown",
   "id": "429f476c",
   "metadata": {
    "editable": true,
    "slideshow": {
     "slide_type": "slide"
    },
    "tags": []
   },
   "source": [
    "## 5 - Conclusão"
   ]
  },
  {
   "cell_type": "markdown",
   "id": "bc058506",
   "metadata": {
    "editable": true,
    "slideshow": {
     "slide_type": "fragment"
    },
    "tags": []
   },
   "source": [
    "<A conclusão deve abordar brevemente o experimento efetuado, os resultados obtidos e a que conclusões estes resultados levam. Em alguns casos se discute possíveis rumos desta investigação.\n",
    "\n",
    "Apresentar com clareza se o objetivo foi cumprido ou dar uma explicação satisfatória para o não cumprimento do objetivo.\n",
    "\n",
    "Comentários do tipo: “O experimento foi muito proveitoso....” “Foi muito legal ter feito isso...” e outro similares não tem sentido científico e portanto não devem ser utilizados.>"
   ]
  },
  {
   "cell_type": "markdown",
   "id": "04860abd",
   "metadata": {
    "editable": true,
    "slideshow": {
     "slide_type": "fragment"
    },
    "tags": []
   },
   "source": [
    "..."
   ]
  },
  {
   "cell_type": "markdown",
   "id": "8c180dd7",
   "metadata": {
    "editable": true,
    "slideshow": {
     "slide_type": "slide"
    },
    "tags": []
   },
   "source": [
    "## 6 - Referências Bibliográficas"
   ]
  },
  {
   "cell_type": "markdown",
   "id": "ffc6a722",
   "metadata": {
    "editable": true,
    "slideshow": {
     "slide_type": "fragment"
    },
    "tags": []
   },
   "source": [
    "< Devem constar nessa seção todas as referências bibliográfias, seguindo norma da ABNT, utilizadas no relatório, como :\n",
    "- livros impressos;\n",
    "- livros eletrônicos;\n",
    "- sítios com material de referência;\n",
    "- softwares;\n",
    "- etc. >"
   ]
  },
  {
   "cell_type": "markdown",
   "id": "26ec5d92",
   "metadata": {
    "editable": true,
    "slideshow": {
     "slide_type": "fragment"
    },
    "tags": []
   },
   "source": [
    "[HRW] Halliday, D.; Resnick, R.; Walker, J.; Fundamentos de Física: Eletromagnetismo. Vol. 3,\n",
    "10a ed, editora LTC, 2016. ISBN: 8521630379;"
   ]
  },
  {
   "cell_type": "markdown",
   "id": "5444c4bc",
   "metadata": {
    "editable": true,
    "slideshow": {
     "slide_type": "fragment"
    },
    "tags": []
   },
   "source": [
    "..."
   ]
  },
  {
   "cell_type": "markdown",
   "id": "9f297509",
   "metadata": {
    "editable": true,
    "slideshow": {
     "slide_type": "slide"
    },
    "tags": []
   },
   "source": [
    "## 7 - Anexos"
   ]
  },
  {
   "cell_type": "markdown",
   "id": "9241cab6",
   "metadata": {
    "editable": true,
    "slideshow": {
     "slide_type": "fragment"
    },
    "tags": []
   },
   "source": [
    "< Devem constar nessa seção todos os cálculos intermediários feitos no experimento e relatório, como :\n",
    "- cálculos de incertezas das medições;\n",
    "- cálculos de propagação de incertezas;\n",
    "- relatório de ajuste de curvas gerado por certo software;\n",
    "- cálculos diversos. \n",
    "\n",
    "Os cálculos podem ser organizados em subseções, subsubseçõe, etc. >"
   ]
  },
  {
   "cell_type": "markdown",
   "id": "dc43fcd9",
   "metadata": {
    "editable": true,
    "slideshow": {
     "slide_type": "subslide"
    },
    "tags": []
   },
   "source": [
    "### 7.1 - Medidas"
   ]
  },
  {
   "cell_type": "markdown",
   "id": "694d505e",
   "metadata": {
    "editable": true,
    "slideshow": {
     "slide_type": "fragment"
    },
    "tags": []
   },
   "source": [
    "$R$ indicado pelo professor via código de cores : cor1 cor2 cor3 cor4.  \n",
    "Consultando tabela de código de cores [ResCores], o valor nominal é $R = (N\\,k\\,\\Omega \\pm p\\%)$."
   ]
  },
  {
   "cell_type": "markdown",
   "id": "1f8932af",
   "metadata": {
    "editable": true,
    "slideshow": {
     "slide_type": "fragment"
    },
    "tags": []
   },
   "source": [
    "#### 7.1.1 - Corrente elétrica teórica, sem incertezas :\n",
    "\n",
    "$$I_R =\\,\\frac{V_S}{R}$$"
   ]
  },
  {
   "cell_type": "markdown",
   "id": "c5fbd13f-f7bd-471d-835d-fc3008e99462",
   "metadata": {
    "editable": true,
    "slideshow": {
     "slide_type": "fragment"
    },
    "tags": []
   },
   "source": [
    "##### Código Python"
   ]
  },
  {
   "cell_type": "markdown",
   "id": "869dc936-2b9b-4f8d-b9a5-7555db06f4cb",
   "metadata": {
    "editable": true,
    "slideshow": {
     "slide_type": "fragment"
    },
    "tags": []
   },
   "source": [
    "Com dados fictícios de $V_S = 6,0\\,V$ e $R = 2,2\\,k\\Omega$, corrente em ampère (A) :"
   ]
  },
  {
   "cell_type": "code",
   "execution_count": null,
   "id": "1b45c9a8-9e06-4dba-a7c3-7caaa19351b7",
   "metadata": {
    "editable": true,
    "slideshow": {
     "slide_type": "fragment"
    },
    "tags": []
   },
   "outputs": [],
   "source": [
    "6.0/2200"
   ]
  },
  {
   "cell_type": "markdown",
   "id": "671b92b1-2618-4c8b-9129-826467bc6863",
   "metadata": {
    "editable": true,
    "slideshow": {
     "slide_type": "fragment"
    },
    "tags": []
   },
   "source": [
    "logo $I_R \\approx 2,727\\,mA$."
   ]
  },
  {
   "cell_type": "markdown",
   "id": "f69be34d",
   "metadata": {
    "editable": true,
    "slideshow": {
     "slide_type": "subslide"
    },
    "tags": []
   },
   "source": [
    "#### 7.1.2 - Cálculos de incertezas das medições da Tabela 1 :"
   ]
  },
  {
   "cell_type": "markdown",
   "id": "45b52fce-c010-4c57-ba86-f8a459a8a774",
   "metadata": {
    "editable": true,
    "slideshow": {
     "slide_type": "fragment"
    },
    "tags": []
   },
   "source": [
    "##### Código Python"
   ]
  },
  {
   "cell_type": "markdown",
   "id": "f1323b40-3786-446d-b837-8e80fa8f2092",
   "metadata": {
    "editable": true,
    "slideshow": {
     "slide_type": "fragment"
    },
    "tags": []
   },
   "source": [
    "Com dados fictícios da primeira linha da Tabela 1, a incerteza absoluta da primeira medida é :"
   ]
  },
  {
   "cell_type": "code",
   "execution_count": null,
   "id": "445b18e6-ef3c-4ea4-9e43-56a71b354ad7",
   "metadata": {
    "editable": true,
    "slideshow": {
     "slide_type": "fragment"
    },
    "tags": []
   },
   "outputs": [],
   "source": [
    "6.1*0.008 + 3*0.1"
   ]
  },
  {
   "cell_type": "markdown",
   "id": "f204d58a-f56c-450a-aba3-a16cdcdffd85",
   "metadata": {
    "editable": true,
    "slideshow": {
     "slide_type": "fragment"
    },
    "tags": []
   },
   "source": [
    "..."
   ]
  },
  {
   "cell_type": "markdown",
   "id": "6485c6ab-4559-4c75-8909-550f3d3d2af4",
   "metadata": {
    "editable": true,
    "slideshow": {
     "slide_type": "subslide"
    },
    "tags": []
   },
   "source": [
    "#### 7.1.3 - Cálculos de incertezas das medições da Tabela 2 :"
   ]
  },
  {
   "cell_type": "markdown",
   "id": "ef37acba-0f35-44ea-a0d1-15561f84bd55",
   "metadata": {
    "editable": true,
    "slideshow": {
     "slide_type": "fragment"
    },
    "tags": []
   },
   "source": [
    "##### Código Python"
   ]
  },
  {
   "cell_type": "code",
   "execution_count": null,
   "id": "2e40beb9-f6b6-4212-ba95-2dff5a913ac1",
   "metadata": {
    "editable": true,
    "slideshow": {
     "slide_type": "fragment"
    },
    "tags": []
   },
   "outputs": [],
   "source": []
  },
  {
   "cell_type": "markdown",
   "id": "cfc4a9a2-aad6-4206-91bb-a53e9aaa8e92",
   "metadata": {
    "editable": true,
    "slideshow": {
     "slide_type": "fragment"
    },
    "tags": []
   },
   "source": [
    "..."
   ]
  },
  {
   "cell_type": "markdown",
   "id": "dc01195f-eb25-40df-bbb3-138f85398d0f",
   "metadata": {
    "editable": true,
    "slideshow": {
     "slide_type": "subslide"
    },
    "tags": []
   },
   "source": [
    "#### 7.1.4 - Cálculos de incertezas das medições da Tabela 3 :"
   ]
  },
  {
   "cell_type": "markdown",
   "id": "18b467ff-c79c-47bc-8e7a-5f93ac617a03",
   "metadata": {
    "editable": true,
    "slideshow": {
     "slide_type": "fragment"
    },
    "tags": []
   },
   "source": [
    "##### Código Python"
   ]
  },
  {
   "cell_type": "code",
   "execution_count": null,
   "id": "f62f9d6d-8ab3-46f3-b5f3-122e8e6748c7",
   "metadata": {
    "editable": true,
    "slideshow": {
     "slide_type": "fragment"
    },
    "tags": []
   },
   "outputs": [],
   "source": []
  },
  {
   "cell_type": "markdown",
   "id": "a7494c6d-f3a6-4387-9536-c79f56b2367f",
   "metadata": {
    "editable": true,
    "slideshow": {
     "slide_type": "fragment"
    },
    "tags": []
   },
   "source": [
    "..."
   ]
  },
  {
   "cell_type": "markdown",
   "id": "3ca51777",
   "metadata": {
    "editable": true,
    "slideshow": {
     "slide_type": "subslide"
    },
    "tags": []
   },
   "source": [
    "### 7.2 - Análises"
   ]
  },
  {
   "cell_type": "markdown",
   "id": "f7e0cfc7-6dc5-417d-a576-eefd8084d993",
   "metadata": {
    "editable": true,
    "slideshow": {
     "slide_type": "fragment"
    },
    "tags": []
   },
   "source": [
    "Análise da Tabela 3 :\n",
    "\n",
    "$R$ a partir de $V_R$ e $I_R$ usando propagação de incertezas manualmente :"
   ]
  },
  {
   "cell_type": "markdown",
   "id": "4647f258-c98c-440e-8213-d0a975b3f00a",
   "metadata": {
    "editable": true,
    "slideshow": {
     "slide_type": "fragment"
    },
    "tags": []
   },
   "source": [
    "..."
   ]
  },
  {
   "cell_type": "markdown",
   "id": "9b927239-6de1-485d-9629-a52937ed5931",
   "metadata": {
    "editable": true,
    "slideshow": {
     "slide_type": "subslide"
    },
    "tags": []
   },
   "source": [
    "$R$ via propagação de incerteza usando [módulo Python Uncertainties](https://pythonhosted.org/uncertainties/) :"
   ]
  },
  {
   "cell_type": "markdown",
   "id": "8a6ae431-6204-41f7-916c-e7dca05db8ff",
   "metadata": {
    "editable": true,
    "slideshow": {
     "slide_type": "fragment"
    },
    "tags": []
   },
   "source": [
    "##### Código Python"
   ]
  },
  {
   "cell_type": "markdown",
   "id": "f8206362-b183-4ff3-9d99-ee344b0752a5",
   "metadata": {
    "editable": true,
    "slideshow": {
     "slide_type": "fragment"
    },
    "tags": []
   },
   "source": [
    "Usando módulo Python [Uncertainties](https://pythonhosted.org/uncertainties/) para propagação de incertezas."
   ]
  },
  {
   "cell_type": "markdown",
   "id": "13cec6c2-e09f-4d58-89b8-842b9f7aa741",
   "metadata": {
    "editable": true,
    "slideshow": {
     "slide_type": "fragment"
    },
    "tags": []
   },
   "source": [
    "Tire o \"#\" de comentário da linha abaixo com `pip` para instalar o módulo Uncertainties caso ainda não esteja instalado."
   ]
  },
  {
   "cell_type": "code",
   "execution_count": 1,
   "id": "1c423191-e142-44d3-bb66-d962c21e6ab6",
   "metadata": {
    "editable": true,
    "slideshow": {
     "slide_type": "fragment"
    },
    "tags": []
   },
   "outputs": [],
   "source": [
    "#!pip install uncertainties"
   ]
  },
  {
   "cell_type": "markdown",
   "id": "dc94be35-fde5-4ca3-8218-eb7350c9fffd",
   "metadata": {
    "editable": true,
    "slideshow": {
     "slide_type": "fragment"
    },
    "tags": []
   },
   "source": [
    "Importanto o módulo :"
   ]
  },
  {
   "cell_type": "code",
   "execution_count": null,
   "id": "7a0ba5ec-b182-42b6-ac0e-f4b437785cee",
   "metadata": {
    "editable": true,
    "slideshow": {
     "slide_type": "fragment"
    },
    "tags": []
   },
   "outputs": [],
   "source": [
    "from uncertainties import ufloat"
   ]
  },
  {
   "cell_type": "markdown",
   "id": "a2d45be2-1f4f-4474-ab00-d2ea79753484",
   "metadata": {
    "editable": true,
    "slideshow": {
     "slide_type": "fragment"
    },
    "tags": []
   },
   "source": [
    "Com dados fictícios de $V_R$ e $I_R$ com incertezas, basta definir com `ufloat()` :"
   ]
  },
  {
   "cell_type": "code",
   "execution_count": null,
   "id": "17ed1f05-1351-4102-a239-51ee3757d101",
   "metadata": {
    "editable": true,
    "slideshow": {
     "slide_type": "fragment"
    },
    "tags": []
   },
   "outputs": [],
   "source": [
    "VR = ufloat(6.1, 0.3); VR"
   ]
  },
  {
   "cell_type": "code",
   "execution_count": null,
   "id": "c2aef815-bfb3-43e4-bbea-6dca625c2278",
   "metadata": {
    "editable": true,
    "slideshow": {
     "slide_type": "fragment"
    },
    "tags": []
   },
   "outputs": [],
   "source": [
    "IR = ufloat(0.0059, 0.0004); IR"
   ]
  },
  {
   "cell_type": "markdown",
   "id": "d36c6e8c-cf24-4dd0-8c85-6ea21e5348b1",
   "metadata": {
    "editable": true,
    "slideshow": {
     "slide_type": "fragment"
    },
    "tags": []
   },
   "source": [
    "Cálculo de $R$ com propagação de incertezas, os cálculos parciais passo-a-passo não são mostrados, só o resultado final :"
   ]
  },
  {
   "cell_type": "code",
   "execution_count": null,
   "id": "d0e153e5-3774-4be0-b66e-3f18a70e3f40",
   "metadata": {
    "editable": true,
    "slideshow": {
     "slide_type": "fragment"
    },
    "tags": []
   },
   "outputs": [],
   "source": [
    "R = VR/IR"
   ]
  },
  {
   "cell_type": "markdown",
   "id": "82f03af8-9522-4292-9131-41349614c908",
   "metadata": {
    "editable": true,
    "slideshow": {
     "slide_type": "fragment"
    },
    "tags": []
   },
   "source": [
    "`print()` de um número com incerteza exibe o valor central e incerteza absoluta com número correto de algarismos significativos :"
   ]
  },
  {
   "cell_type": "code",
   "execution_count": null,
   "id": "e30dea11-4db0-4917-a7a2-62d81a8e3cd2",
   "metadata": {
    "editable": true,
    "slideshow": {
     "slide_type": "fragment"
    },
    "tags": []
   },
   "outputs": [],
   "source": [
    "print(R)"
   ]
  },
  {
   "cell_type": "markdown",
   "id": "a11c1d11-3278-40bb-8aad-93268495d2a7",
   "metadata": {
    "editable": true,
    "slideshow": {
     "slide_type": "fragment"
    },
    "tags": []
   },
   "source": [
    "Incertezas relativas de $V_R$ e $I_R$ e $R$ :"
   ]
  },
  {
   "cell_type": "code",
   "execution_count": null,
   "id": "2553828d-2eab-487f-9d86-8d5f4a01d5a6",
   "metadata": {
    "editable": true,
    "slideshow": {
     "slide_type": "fragment"
    },
    "tags": []
   },
   "outputs": [],
   "source": [
    "VR.s/VR.n"
   ]
  },
  {
   "cell_type": "code",
   "execution_count": null,
   "id": "fe6b1f78-28eb-49e3-b071-ae6fd0dab39a",
   "metadata": {
    "editable": true,
    "slideshow": {
     "slide_type": "fragment"
    },
    "tags": []
   },
   "outputs": [],
   "source": [
    "IR.s/IR.n"
   ]
  },
  {
   "cell_type": "code",
   "execution_count": null,
   "id": "d99c85ad-1d75-4289-9295-1c36f2360183",
   "metadata": {
    "editable": true,
    "slideshow": {
     "slide_type": "fragment"
    },
    "tags": []
   },
   "outputs": [],
   "source": [
    "R.s/R.n"
   ]
  }
 ],
 "metadata": {
  "celltoolbar": "Slideshow",
  "kernelspec": {
   "display_name": "Python 3 (ipykernel)",
   "language": "python",
   "name": "python3"
  },
  "language_info": {
   "codemirror_mode": {
    "name": "ipython",
    "version": 3
   },
   "file_extension": ".py",
   "mimetype": "text/x-python",
   "name": "python",
   "nbconvert_exporter": "python",
   "pygments_lexer": "ipython3",
   "version": "3.13.5"
  }
 },
 "nbformat": 4,
 "nbformat_minor": 5
}
