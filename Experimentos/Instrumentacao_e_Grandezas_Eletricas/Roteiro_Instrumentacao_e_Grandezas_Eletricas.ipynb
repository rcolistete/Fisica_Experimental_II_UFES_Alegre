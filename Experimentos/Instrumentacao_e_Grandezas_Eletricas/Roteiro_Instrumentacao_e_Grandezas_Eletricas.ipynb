{
 "cells": [
  {
   "cell_type": "markdown",
   "id": "b6c301fc",
   "metadata": {
    "editable": true,
    "slideshow": {
     "slide_type": "slide"
    },
    "tags": []
   },
   "source": [
    "# Roteiro do Experimento\n",
    "# \"Instrumentação e Grandezas Elétricas\"\n",
    "## Disciplina - DQF10441 Física Experimental II\n",
    "### [DQF - CCENS](http://alegre.ufes.br/ccens/departamento-de-quimica-e-fisica) - [UFES/Alegre](http://alegre.ufes.br/)\n",
    "#### Professor : [Roberto Colistete Jr.](https://github.com/rcolistete)"
   ]
  },
  {
   "cell_type": "markdown",
   "id": "49efd271",
   "metadata": {
    "editable": true,
    "slideshow": {
     "slide_type": "slide"
    },
    "tags": []
   },
   "source": [
    "# Medindo Tensão, Corrente e Resistência Elétricas com Multímetro"
   ]
  },
  {
   "cell_type": "markdown",
   "id": "bed9a1a7",
   "metadata": {
    "editable": true,
    "slideshow": {
     "slide_type": "slide"
    },
    "tags": []
   },
   "source": [
    "## Objetivos"
   ]
  },
  {
   "cell_type": "markdown",
   "id": "fa7b7eac",
   "metadata": {
    "editable": true,
    "slideshow": {
     "slide_type": "fragment"
    },
    "tags": []
   },
   "source": [
    "Prática de uso de :"
   ]
  },
  {
   "cell_type": "markdown",
   "id": "f9a55923",
   "metadata": {
    "editable": true,
    "slideshow": {
     "slide_type": "fragment"
    },
    "tags": []
   },
   "source": [
    "- fonte de tensão elétrica contínua;"
   ]
  },
  {
   "cell_type": "markdown",
   "id": "d4670489",
   "metadata": {
    "editable": true,
    "slideshow": {
     "slide_type": "fragment"
    },
    "tags": []
   },
   "source": [
    "- protoboard;"
   ]
  },
  {
   "cell_type": "markdown",
   "id": "870e7d18",
   "metadata": {
    "editable": true,
    "slideshow": {
     "slide_type": "fragment"
    },
    "tags": []
   },
   "source": [
    "- circuito elétrico de uma malha com resistor;"
   ]
  },
  {
   "cell_type": "markdown",
   "id": "1e4cd61b",
   "metadata": {
    "editable": true,
    "slideshow": {
     "slide_type": "fragment"
    },
    "tags": []
   },
   "source": [
    "- multímetros nos modos voltímetro, amperímetro e ohmímetro, em diferentes escalas."
   ]
  },
  {
   "cell_type": "markdown",
   "id": "cec7aac6",
   "metadata": {
    "editable": true,
    "slideshow": {
     "slide_type": "slide"
    },
    "tags": []
   },
   "source": [
    "## Teoria"
   ]
  },
  {
   "cell_type": "markdown",
   "id": "030aa445",
   "metadata": {
    "slideshow": {
     "slide_type": "fragment"
    }
   },
   "source": [
    "- tensão elétrica contínua, corrente elétrica contínua, resistência elétrica e circuitos elétricos de uma malha;"
   ]
  },
  {
   "cell_type": "markdown",
   "id": "7c0a157d",
   "metadata": {
    "slideshow": {
     "slide_type": "fragment"
    }
   },
   "source": [
    "- como funciona voltímetro, amperímetro e ohmímetro em termos de princípio;"
   ]
  },
  {
   "cell_type": "markdown",
   "id": "65d97df8",
   "metadata": {
    "editable": true,
    "slideshow": {
     "slide_type": "fragment"
    },
    "tags": []
   },
   "source": [
    "- cálculo de incerteza nas medidas de voltímetro, amperímetro e ohmímetro via consulta da escala, resolução e precisão no manual do multímetro;"
   ]
  },
  {
   "cell_type": "markdown",
   "id": "b7e48998",
   "metadata": {
    "editable": true,
    "slideshow": {
     "slide_type": "fragment"
    },
    "tags": []
   },
   "source": [
    "- propagação de incertezas calculada manualmente e usando [módulo Python Uncertainties](https://pythonhosted.org/uncertainties/)."
   ]
  },
  {
   "cell_type": "markdown",
   "id": "07ea1968",
   "metadata": {
    "editable": true,
    "slideshow": {
     "slide_type": "slide"
    },
    "tags": []
   },
   "source": [
    "## Equipamento"
   ]
  },
  {
   "cell_type": "markdown",
   "id": "82033976",
   "metadata": {
    "editable": true,
    "slideshow": {
     "slide_type": "fragment"
    },
    "tags": []
   },
   "source": [
    "- fonte de tensão elétrica contínua;"
   ]
  },
  {
   "cell_type": "markdown",
   "id": "6e97f05a",
   "metadata": {
    "editable": true,
    "slideshow": {
     "slide_type": "fragment"
    },
    "tags": []
   },
   "source": [
    "- protoboard;"
   ]
  },
  {
   "cell_type": "markdown",
   "id": "21a8eb2e",
   "metadata": {
    "editable": true,
    "slideshow": {
     "slide_type": "fragment"
    },
    "tags": []
   },
   "source": [
    "- cabos, fios e jumpers para protoboard;"
   ]
  },
  {
   "cell_type": "markdown",
   "id": "bac2b061",
   "metadata": {
    "editable": true,
    "slideshow": {
     "slide_type": "fragment"
    },
    "tags": []
   },
   "source": [
    "- resistores;"
   ]
  },
  {
   "cell_type": "markdown",
   "id": "3a2c4b02",
   "metadata": {
    "editable": true,
    "slideshow": {
     "slide_type": "fragment"
    },
    "tags": []
   },
   "source": [
    "- 2 multímetros com pontas-de-prova e garras jacaré."
   ]
  },
  {
   "cell_type": "markdown",
   "id": "2f69c036",
   "metadata": {
    "editable": true,
    "slideshow": {
     "slide_type": "slide"
    },
    "tags": []
   },
   "source": [
    "## Procedimento Experimental"
   ]
  },
  {
   "cell_type": "markdown",
   "id": "2e79a888",
   "metadata": {
    "editable": true,
    "slideshow": {
     "slide_type": "fragment"
    },
    "tags": []
   },
   "source": [
    "Para o relatório :"
   ]
  },
  {
   "cell_type": "markdown",
   "id": "1327f9ff",
   "metadata": {
    "editable": true,
    "slideshow": {
     "slide_type": "fragment"
    },
    "tags": []
   },
   "source": [
    "- fazer registro fotográfico das montagens e das medidas, para algumas constaren no relatório;"
   ]
  },
  {
   "cell_type": "markdown",
   "id": "e3542f2f-b7f7-4898-abf9-1fafd9b56964",
   "metadata": {
    "editable": true,
    "slideshow": {
     "slide_type": "fragment"
    },
    "tags": []
   },
   "source": [
    "- fazer registro por escrito (em documento eletrônico) de todas as medidas, modelos e escalas dos multímetros;"
   ]
  },
  {
   "cell_type": "markdown",
   "id": "f117f3b5",
   "metadata": {
    "editable": true,
    "slideshow": {
     "slide_type": "fragment"
    },
    "tags": []
   },
   "source": [
    "- fazer diagrama esquemático do circuito eletrônico, via algum software de EDA (desenho/projeto) de circuitos eletrônicos."
   ]
  },
  {
   "cell_type": "markdown",
   "id": "464f9e0d",
   "metadata": {
    "editable": true,
    "slideshow": {
     "slide_type": "subslide"
    },
    "tags": []
   },
   "source": [
    "### Montagem"
   ]
  },
  {
   "cell_type": "markdown",
   "id": "590a4151",
   "metadata": {
    "editable": true,
    "slideshow": {
     "slide_type": "fragment"
    },
    "tags": []
   },
   "source": [
    "Fazer a montagem sob orientação do professor :"
   ]
  },
  {
   "cell_type": "markdown",
   "id": "e17a57b9",
   "metadata": {
    "editable": true,
    "slideshow": {
     "slide_type": "fragment"
    },
    "tags": []
   },
   "source": [
    "1) conectar a fonte de tensão elétrica contínua no protoboard, **sem alimentação externa e desligada**;"
   ]
  },
  {
   "cell_type": "markdown",
   "id": "6f4851f5",
   "metadata": {
    "editable": true,
    "slideshow": {
     "slide_type": "fragment"
    },
    "tags": []
   },
   "source": [
    "2) **escolher via código de cores** (consulte tabela sobre isso) **o resistor** indicado pelo professor e encaixar seus terminais no protoboard;"
   ]
  },
  {
   "cell_type": "markdown",
   "id": "85ac1965",
   "metadata": {
    "editable": true,
    "slideshow": {
     "slide_type": "fragment"
    },
    "tags": []
   },
   "source": [
    "3) usar um multímetro em modo voltímetro, desligado, conectando-o em paralelo ao resistor;"
   ]
  },
  {
   "cell_type": "markdown",
   "id": "98bb2783",
   "metadata": {
    "editable": true,
    "slideshow": {
     "slide_type": "fragment"
    },
    "tags": []
   },
   "source": [
    "4) usar um multímetro em modo amperímetro, desligado, conectando-o em série ao resistor, entre o terminal positivo da fonte de tensão e um dos terminais do resistor;"
   ]
  },
  {
   "cell_type": "markdown",
   "id": "611b67a3",
   "metadata": {
    "editable": true,
    "slideshow": {
     "slide_type": "fragment"
    },
    "tags": []
   },
   "source": [
    "5) conectar a alimentação externa na fonte de tensão elétrica contínua, mas **mantendo-a desligada**."
   ]
  },
  {
   "cell_type": "markdown",
   "id": "a7f16cfe",
   "metadata": {
    "editable": true,
    "slideshow": {
     "slide_type": "subslide"
    },
    "tags": []
   },
   "source": [
    "### Medidas"
   ]
  },
  {
   "cell_type": "markdown",
   "id": "2baa8f1d",
   "metadata": {
    "editable": true,
    "slideshow": {
     "slide_type": "fragment"
    },
    "tags": []
   },
   "source": [
    "1) dado o valor nominal do resistor $R$ escolhido, calcule a corrente elétrica $I_R$ teórica para a tensão $V_S = ?\\,V$ (vide indicaçao do professor) nominal da fonte (\"source\") de tensão elétrica contínua. $R = \\underline{\\ \\ \\ \\ \\ \\ \\ \\ \\ }\\,k\\Omega$, $V_S = \\underline{\\ \\ \\ \\ \\ \\ \\ \\ \\ }\\,V$, $I_R = \\underline{\\ \\ \\ \\ \\ \\ \\ \\ \\ }\\,mA$;"
   ]
  },
  {
   "cell_type": "markdown",
   "id": "09d75f42",
   "metadata": {
    "editable": true,
    "slideshow": {
     "slide_type": "fragment"
    },
    "tags": []
   },
   "source": [
    "2) consultando o manual do multímetro, escolher a escala de tensão  elétrica contínua (DC) mais adequada do multímetro em modo voltímetro, i. e., a menor escala capaz de ler a tensão $V_S$. Escala $= \\underline{\\ \\ \\ \\ \\ \\ \\ \\ \\ }\\,V$;"
   ]
  },
  {
   "cell_type": "markdown",
   "id": "0c0c354a",
   "metadata": {
    "editable": true,
    "slideshow": {
     "slide_type": "fragment"
    },
    "tags": []
   },
   "source": [
    "3) consultando o manual do multímetro, escolher a escala de corrente elétrica contínua (DC) mais adequada do multímetro em modo amperímetro, i. e., a menor escala capaz de ler a corrente $I_R$. Escala $= \\underline{\\ \\ \\ \\ \\ \\ \\ \\ \\ }\\, mA$;"
   ]
  },
  {
   "cell_type": "markdown",
   "id": "2298eaaf-b6b6-457c-8232-5ceb968a299d",
   "metadata": {
    "editable": true,
    "slideshow": {
     "slide_type": "fragment"
    },
    "tags": []
   },
   "source": [
    "4) selecionar a fonte de tensão elétrica contínua para saída indicada de $V_S$, ligando-a;"
   ]
  },
  {
   "cell_type": "markdown",
   "id": "05a69d0e",
   "metadata": {
    "editable": true,
    "slideshow": {
     "slide_type": "subslide"
    },
    "tags": []
   },
   "source": [
    "5) anotar a leitura da tela do multímetro em modo voltímetro, a escala usada, e via consulta do manual do  multímetro, anotar a resolução e precisão de tal escala. Calcular a partir disso a incerteza e expressar o valor da medida com incerteza e o número correto de algarismos significativos. Repetir para todas as escalas possíveis de tensão elétrica contínua (DC) do multímetro, usando a escala mais adequada para a corrente elétrica contínua (DC). **Atenção, sempre desconecte um dos cabos do multímetro antes de mudar a escala, conectando depois**. Preencha a tabela 1 :"
   ]
  },
  {
   "cell_type": "markdown",
   "id": "3d106479",
   "metadata": {
    "editable": true,
    "slideshow": {
     "slide_type": "fragment"
    },
    "tags": []
   },
   "source": [
    "|   n     |  Leitura da tela  | Escala (V)  | Resolução (V) |  Precisão ±(p%+nD)  | $V_R$ (V) com incerteza |\n",
    "|---------|-------------------|-------------|---------------|---------------------|--------------------------|\n",
    "|   1     |                   |             |               |                     |                          |\n",
    "|   2     |                   |             |               |                     |                          |\n",
    "|   3     |                   |             |               |                     |                          |\n",
    "|   4     |                   |             |               |                     |                          |\n",
    "|   5     |                   |             |               |                     |                          |\n",
    "\n",
    "<center>Tabela 1 : Medidas de $V_R$ variando escala do voltímetro.</center>"
   ]
  },
  {
   "cell_type": "markdown",
   "id": "138d18b5",
   "metadata": {
    "editable": true,
    "slideshow": {
     "slide_type": "subslide"
    },
    "tags": []
   },
   "source": [
    "6) anotar a leitura da tela do multímetro em modo amperímetro, a escala usada, e via consulta do manual do  multímetro, anotar a resolução e precisão de tal escala. Calcular a partir disso a incerteza e expressar o valor da medida com incerteza e o número correto de algarismos significativos. Repetir para todas as escalas possíveis de corrente elétrica contínua (DC) do multímetro, usando a escala mais adequada para a tensão elétrica contínua (DC). **Atenção, sempre desconecte um dos cabos do multímetro antes de mudar a escala, conectando depois**. Preencha a tabela 2 :"
   ]
  },
  {
   "cell_type": "markdown",
   "id": "a1f77895",
   "metadata": {
    "editable": true,
    "slideshow": {
     "slide_type": "fragment"
    },
    "tags": []
   },
   "source": [
    "|   n     |  Leitura da tela  |  Escala (A)  |  Resolução (A) |  Precisão ±(p%+nD)  | $I_R$ (mA) com incerteza |\n",
    "|---------|-------------------|--------------|----------------|---------------------|-----------------------------|\n",
    "|   1     |                   |              |                |                     |                             |\n",
    "|   2     |                   |              |                |                     |                             |\n",
    "|   3     |                   |              |                |                     |                             |\n",
    "|   4     |                   |              |                |                     |                             |\n",
    "|   5     |                   |              |                |                     |                             |\n",
    "\n",
    "<center>Tabela 2 : Medidas de $I_R$ variando escala do amperímetro.</center>"
   ]
  },
  {
   "cell_type": "markdown",
   "id": "8a628159",
   "metadata": {
    "editable": true,
    "slideshow": {
     "slide_type": "subslide"
    },
    "tags": []
   },
   "source": [
    "7) **deslige a fonte de tensão elétrica contínua e desconecte os dois terminais do resistor do protoboard**. Consultando o manual do multímetro, escolher a escala de resistência elétrica mais adequada do multímetro em modo ohmímetro, i. e., a menor escala capaz de ler a resistência elétrica $R$. Escala $= \\underline{\\ \\ \\ \\ \\ \\ \\ \\ \\ }\\, \\Omega$;"
   ]
  },
  {
   "cell_type": "markdown",
   "id": "5399a927",
   "metadata": {
    "editable": true,
    "slideshow": {
     "slide_type": "fragment"
    },
    "tags": []
   },
   "source": [
    "8) Use o multímetro no modo ohmímetro para medir a resistência elétrica do resistor $R$, conectando os 2 cabos do multímetro nos dois terminais do **resistor (desconectado do protoboard)**. Anotar a leitura da tela do multímetro em modo ohmímetro, a escala usada, e via consulta do manual do multímetro, anotar a resolução e precisão de tal escala. Calcular a partir disso a incerteza e expressar o valor da medida com incerteza e o número correto de algarismos significativos. Repetir para todas as escalas possíveis de resistência elétrica do multímetro. Preencha a tabela 3 :"
   ]
  },
  {
   "cell_type": "markdown",
   "id": "ca1d3fe9",
   "metadata": {
    "editable": true,
    "slideshow": {
     "slide_type": "subslide"
    },
    "tags": []
   },
   "source": [
    "|   n     |  Leitura da tela  |  Escala ($\\Omega$)  |  Resolução ($\\Omega$) |  Precisão ±(p%+nD)  | $R$ ($k\\Omega$) com incerteza |\n",
    "|---------|-------------------|--------------|----------------|---------------------|-----------------------------|\n",
    "|   1     |                   |              |                |                     |                             |\n",
    "|   2     |                   |              |                |                     |                             |\n",
    "|   3     |                   |              |                |                     |                             |\n",
    "|   4     |                   |              |                |                     |                             |\n",
    "|   5     |                   |              |                |                     |                             |\n",
    "\n",
    "<center>Tabela 3 : Medidas de $R$ variando escala do ohmímetro.</center>"
   ]
  },
  {
   "cell_type": "markdown",
   "id": "de52f337",
   "metadata": {
    "editable": true,
    "slideshow": {
     "slide_type": "slide"
    },
    "tags": []
   },
   "source": [
    "## Análise"
   ]
  },
  {
   "cell_type": "markdown",
   "id": "c2b37933-c869-4327-a06e-f04fa2060049",
   "metadata": {
    "editable": true,
    "slideshow": {
     "slide_type": "fragment"
    },
    "tags": []
   },
   "source": [
    "### Na tabela 1 :"
   ]
  },
  {
   "cell_type": "markdown",
   "id": "8464dd40-1eb8-4927-bc00-4b290476623b",
   "metadata": {
    "editable": true,
    "jp-MarkdownHeadingCollapsed": true,
    "slideshow": {
     "slide_type": "fragment"
    },
    "tags": []
   },
   "source": [
    "- as medições de $V_R$ são compatíveis com o valor nominal $V_S$ da fonte de tensão elétrica contínua, no ítem (1) de \"Medidas\" ?"
   ]
  },
  {
   "cell_type": "markdown",
   "id": "d5368f92-4fbc-459d-bf92-babf59fdeaa0",
   "metadata": {
    "editable": true,
    "jp-MarkdownHeadingCollapsed": true,
    "slideshow": {
     "slide_type": "fragment"
    },
    "tags": []
   },
   "source": [
    "- qual a escala com menor incerteza na medição de $V_R$ ?"
   ]
  },
  {
   "cell_type": "markdown",
   "id": "84aba442-7bfd-4355-8288-abcd51b4d92e",
   "metadata": {
    "editable": true,
    "jp-MarkdownHeadingCollapsed": true,
    "slideshow": {
     "slide_type": "fragment"
    },
    "tags": []
   },
   "source": [
    "- é a mesma escala apontada no ítem (2) de \"Medidas\" ?"
   ]
  },
  {
   "cell_type": "markdown",
   "id": "5a33b136-68c5-4b6a-af81-af07d43e6bd4",
   "metadata": {
    "editable": true,
    "slideshow": {
     "slide_type": "subslide"
    },
    "tags": []
   },
   "source": [
    "### Na tabela 2 :"
   ]
  },
  {
   "cell_type": "markdown",
   "id": "a98b7e43-fd09-4e9f-8b6c-d1a4b37355e5",
   "metadata": {
    "editable": true,
    "slideshow": {
     "slide_type": "fragment"
    },
    "tags": []
   },
   "source": [
    "- as medições de $I_R$ são compatíveis com o valor teórico calculado da corrente elétrica $I_R$, no ítem (1) de \"Medidas\" ?"
   ]
  },
  {
   "cell_type": "markdown",
   "id": "8da902c2-308a-4032-a8f9-0097d3a1079f",
   "metadata": {
    "editable": true,
    "slideshow": {
     "slide_type": "fragment"
    },
    "tags": []
   },
   "source": [
    "- qual a escala com menor incerteza na medição de $I_R$ ?"
   ]
  },
  {
   "cell_type": "markdown",
   "id": "b5fa2e4b-ca18-483a-9727-d3d1a4833d11",
   "metadata": {
    "editable": true,
    "slideshow": {
     "slide_type": "fragment"
    },
    "tags": []
   },
   "source": [
    "- é a mesma escala apontada no ítem (3) de \"Medidas\" ?"
   ]
  },
  {
   "cell_type": "markdown",
   "id": "06677c43-7b97-4f3c-8495-ba0eac9044be",
   "metadata": {
    "editable": true,
    "slideshow": {
     "slide_type": "subslide"
    },
    "tags": []
   },
   "source": [
    "### Na tabela 3 :"
   ]
  },
  {
   "cell_type": "markdown",
   "id": "590e5ed8-f04e-4c69-ae71-4fced1b8a9d2",
   "metadata": {
    "editable": true,
    "slideshow": {
     "slide_type": "fragment"
    },
    "tags": []
   },
   "source": [
    "- as medições de $R$ são compatíveis com o valor nominal do resistor $R$ obtido via código de cores, no ítem (1) de \"Medidas\" ?"
   ]
  },
  {
   "cell_type": "markdown",
   "id": "b44f1c55-7424-4b09-ae90-88ee36af9002",
   "metadata": {
    "editable": true,
    "slideshow": {
     "slide_type": "fragment"
    },
    "tags": []
   },
   "source": [
    "- qual a escala com menor incerteza na medição de $R$ ?"
   ]
  },
  {
   "cell_type": "markdown",
   "id": "e34084c7-c213-4770-97d5-6a710312d33c",
   "metadata": {
    "editable": true,
    "slideshow": {
     "slide_type": "fragment"
    },
    "tags": []
   },
   "source": [
    "- é a mesma escala apontada no ítem (7) de \"Medidas\" ou não ?"
   ]
  },
  {
   "cell_type": "markdown",
   "id": "16b9031d-f97e-49ba-86a0-967ebfaf2c16",
   "metadata": {
    "editable": true,
    "slideshow": {
     "slide_type": "fragment"
    },
    "tags": []
   },
   "source": [
    "- calcule **uma vez** $R$ a partir de $V_R$ e $I_R$ medidos nas escalas mais adequadas, ítens (2)-(3) de \"Medidas\", usando propagação de incertezas (manualmente e via propagação de incerteza usando [módulo Python Uncertainties](https://pythonhosted.org/uncertainties/), comparando as incertezas resultantes). Compare com a medição de $R$ na melhor escala (com menor incerteza) e com o valor nominal do resistor $R$."
   ]
  }
 ],
 "metadata": {
  "celltoolbar": "Slideshow",
  "kernelspec": {
   "display_name": "Python 3 (ipykernel)",
   "language": "python",
   "name": "python3"
  },
  "language_info": {
   "codemirror_mode": {
    "name": "ipython",
    "version": 3
   },
   "file_extension": ".py",
   "mimetype": "text/x-python",
   "name": "python",
   "nbconvert_exporter": "python",
   "pygments_lexer": "ipython3",
   "version": "3.13.5"
  }
 },
 "nbformat": 4,
 "nbformat_minor": 5
}
