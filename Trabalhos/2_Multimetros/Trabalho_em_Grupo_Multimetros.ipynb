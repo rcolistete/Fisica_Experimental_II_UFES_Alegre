{
 "cells": [
  {
   "cell_type": "markdown",
   "metadata": {
    "slideshow": {
     "slide_type": "slide"
    }
   },
   "source": [
    "# Trabalho em Grupo : Multímetros\n",
    "\n",
    "## Semestre 2021/1 EARTE\n",
    "\n",
    "### DQF10441 Física Experimental II - [UFES/Alegre](http://alegre.ufes.br/)\n",
    "\n",
    "#### Professor : Roberto Colistete Jr."
   ]
  },
  {
   "cell_type": "markdown",
   "metadata": {
    "slideshow": {
     "slide_type": "slide"
    }
   },
   "source": [
    "**Trabalho em grupo, de 3-4 alunos/as**, usando o grupo a ser usado nos experimentos sobre \"Multímetros\".\n",
    "\n",
    "**Prazo de envio : até 3a-feira, 20/07/2021, 23h59.**\n",
    "\n",
    "(Divulgado em 10/07/2021)"
   ]
  },
  {
   "cell_type": "markdown",
   "metadata": {
    "slideshow": {
     "slide_type": "fragment"
    }
   },
   "source": [
    "No topo da 1a página do trabalho coloque o nome do trabalho, nome da disciplina, semestre letivo (2021/1 EARTE), nomes dos integrantes do grupo, data de entrega, etc, como título, subtítulo, etc."
   ]
  },
  {
   "cell_type": "markdown",
   "metadata": {
    "slideshow": {
     "slide_type": "fragment"
    }
   },
   "source": [
    "Fazer em arquivo eletrônico, 3 formatos a escolher :\n",
    "1. Jupyter Notebook com as imagens/figuras, enviando arquivos .ipynb e .html. Esse formato é recomendado pois é trivial colar figuras embutidas nas células Markdown, bem como pode-se aproveitar o enunciado desse trabalho feito em formato Jupyter Notebook;\n",
    "2. LaTeX com as imagens/figuras, enviando arquivos .tex e .pdf;\n",
    "3. LibreOffice/Microsoft Office/semelhantes com as imagens/figuras, enviando arquivos .doc/.docx/.odf e .pdf."
   ]
  },
  {
   "cell_type": "markdown",
   "metadata": {
    "slideshow": {
     "slide_type": "subslide"
    }
   },
   "source": [
    "Enviar resolução via essa atividade ao professor, com arquivos (\"Trabalho_Multimetros_NOME1_NOME2_NOME3_NOME4_DATA.EXTENSÃO\", onde 'EXTENSÃO' é \"pdf\", \"tex\", etc), criando arquivo com extensão \".zip\" (ou equivalente) para compactar os arquivos dos itens (1)-(3) acima. Onde 'NOME' é o nome do aluno, sem espaços e sem acentuação, mas pode usar '_', e 'DATA' é data de envio, sem espaços, p. e., 2021-07-20.  \n",
    "\n",
    "Por exemplo, para grupo com 3 alunos \"Fulano\", \"Sicrano\" e \"Beltrano\" enviando um arquivo .ipynb no penúltimo dia, seria \"Trabalho_Multimetros_Fulano_Sicrano_Beltrano_2021-07-19.ipynb\"."
   ]
  },
  {
   "cell_type": "markdown",
   "metadata": {
    "slideshow": {
     "slide_type": "slide"
    }
   },
   "source": [
    "## Motivação"
   ]
  },
  {
   "cell_type": "markdown",
   "metadata": {
    "slideshow": {
     "slide_type": "fragment"
    }
   },
   "source": [
    "Esse trabalho visa :"
   ]
  },
  {
   "cell_type": "markdown",
   "metadata": {
    "slideshow": {
     "slide_type": "fragment"
    }
   },
   "source": [
    "- preparar os alunos para usarem multímetros nos diversos experimentos da disciplina que envolvem circuitos elétricos, com medição de tensão elétrica, corrente elétrica e resistência elétrica; "
   ]
  },
  {
   "cell_type": "markdown",
   "metadata": {
    "slideshow": {
     "slide_type": "fragment"
    }
   },
   "source": [
    "- orientar os alunos sobre os diferentes tipos de multímetros, preços e recursos disponíveis;"
   ]
  },
  {
   "cell_type": "markdown",
   "metadata": {
    "slideshow": {
     "slide_type": "fragment"
    }
   },
   "source": [
    "- motivar os alunos a usarem e terem multímetro (há inclusive uns portáteis, de bolso) como ferramenta útil para o dia-a-dia, permitindo checar tensão de pilhas e baterias recarregáveis (pequenas), ver estado de bateria de carro, testar continuidade/resistência elétrica de cabos/fios elétricos, etc."
   ]
  },
  {
   "cell_type": "markdown",
   "metadata": {
    "slideshow": {
     "slide_type": "slide"
    }
   },
   "source": [
    "## Pesquisa sobre Multímetros"
   ]
  },
  {
   "cell_type": "markdown",
   "metadata": {
    "slideshow": {
     "slide_type": "fragment"
    }
   },
   "source": [
    "### Multímetro"
   ]
  },
  {
   "cell_type": "markdown",
   "metadata": {
    "slideshow": {
     "slide_type": "fragment"
    }
   },
   "source": [
    "- O que é multímetro ?"
   ]
  },
  {
   "cell_type": "markdown",
   "metadata": {
    "slideshow": {
     "slide_type": "fragment"
    }
   },
   "source": [
    "- Quando e por quem foi inventado o multímetro ?"
   ]
  },
  {
   "cell_type": "markdown",
   "metadata": {
    "slideshow": {
     "slide_type": "fragment"
    }
   },
   "source": [
    "- Cite, com figura, links (fabricante e ao menos uma loja) e características principais, ao menos 3 multímetros à venda no Brasil, em 3 faixas de preço :\n",
    "    * $< \\textrm{R\\$} 100$;\n",
    "    * $\\textrm{R\\$} 100\\textrm{-}400$;\n",
    "    * $> \\textrm{R\\$} 400$."
   ]
  },
  {
   "cell_type": "markdown",
   "metadata": {
    "slideshow": {
     "slide_type": "subslide"
    }
   },
   "source": [
    "### Voltímetro"
   ]
  },
  {
   "cell_type": "markdown",
   "metadata": {
    "slideshow": {
     "slide_type": "fragment"
    }
   },
   "source": [
    "* Como funciona um voltímetro analógico, em termos de princípio ?"
   ]
  },
  {
   "cell_type": "markdown",
   "metadata": {
    "slideshow": {
     "slide_type": "fragment"
    }
   },
   "source": [
    "* Como é o circuito interno de um voltímetro ?"
   ]
  },
  {
   "cell_type": "markdown",
   "metadata": {
    "slideshow": {
     "slide_type": "fragment"
    }
   },
   "source": [
    "- Quando e por quem foi inventado o voltímetro ?"
   ]
  },
  {
   "cell_type": "markdown",
   "metadata": {
    "slideshow": {
     "slide_type": "fragment"
    }
   },
   "source": [
    "* Como se conecta um voltímetro em um circuito/componente elétrico ?"
   ]
  },
  {
   "cell_type": "markdown",
   "metadata": {
    "slideshow": {
     "slide_type": "fragment"
    }
   },
   "source": [
    "* Qual a diferença entre voltímetro ideal e real ?"
   ]
  },
  {
   "cell_type": "markdown",
   "metadata": {
    "slideshow": {
     "slide_type": "fragment"
    }
   },
   "source": [
    "* Quais são as características principais de um voltímetro ?"
   ]
  },
  {
   "cell_type": "markdown",
   "metadata": {
    "slideshow": {
     "slide_type": "subslide"
    }
   },
   "source": [
    "### Amperímetro"
   ]
  },
  {
   "cell_type": "markdown",
   "metadata": {
    "slideshow": {
     "slide_type": "fragment"
    }
   },
   "source": [
    "* Como funciona um amperímetro, em termos de princípio e circuito interno ?"
   ]
  },
  {
   "cell_type": "markdown",
   "metadata": {
    "slideshow": {
     "slide_type": "fragment"
    }
   },
   "source": [
    "- Quando e por quem foi inventado o amperímetro ?"
   ]
  },
  {
   "cell_type": "markdown",
   "metadata": {
    "slideshow": {
     "slide_type": "fragment"
    }
   },
   "source": [
    "* Como se conecta um amperímetro em um circuito/componente elétrico ?"
   ]
  },
  {
   "cell_type": "markdown",
   "metadata": {
    "slideshow": {
     "slide_type": "fragment"
    }
   },
   "source": [
    "* Qual a diferença entre amperímetro ideal e real ?"
   ]
  },
  {
   "cell_type": "markdown",
   "metadata": {
    "slideshow": {
     "slide_type": "fragment"
    }
   },
   "source": [
    "* Quais são as características principais de um amperímetro ?"
   ]
  },
  {
   "cell_type": "markdown",
   "metadata": {
    "slideshow": {
     "slide_type": "subslide"
    }
   },
   "source": [
    "### Ohmímetro"
   ]
  },
  {
   "cell_type": "markdown",
   "metadata": {
    "slideshow": {
     "slide_type": "fragment"
    }
   },
   "source": [
    "* Como funciona um ohmímetro, em termos de princípio e circuito interno ?"
   ]
  },
  {
   "cell_type": "markdown",
   "metadata": {
    "slideshow": {
     "slide_type": "fragment"
    }
   },
   "source": [
    "- Quando e por quem foi inventado o ohmímetro ?"
   ]
  },
  {
   "cell_type": "markdown",
   "metadata": {
    "slideshow": {
     "slide_type": "fragment"
    }
   },
   "source": [
    "* Como se conecta um ohmímetro em um circuito/componente elétrico ?"
   ]
  },
  {
   "cell_type": "markdown",
   "metadata": {
    "slideshow": {
     "slide_type": "fragment"
    }
   },
   "source": [
    "* Qual a diferença entre ohmímetro ideal e real ?"
   ]
  },
  {
   "cell_type": "markdown",
   "metadata": {
    "slideshow": {
     "slide_type": "fragment"
    }
   },
   "source": [
    "* Quais são as características principais de um ohmímetro ?"
   ]
  }
 ],
 "metadata": {
  "celltoolbar": "Slideshow",
  "kernelspec": {
   "display_name": "Python 3",
   "language": "python",
   "name": "python3"
  },
  "language_info": {
   "codemirror_mode": {
    "name": "ipython",
    "version": 3
   },
   "file_extension": ".py",
   "mimetype": "text/x-python",
   "name": "python",
   "nbconvert_exporter": "python",
   "pygments_lexer": "ipython3",
   "version": "3.8.10"
  }
 },
 "nbformat": 4,
 "nbformat_minor": 2
}
