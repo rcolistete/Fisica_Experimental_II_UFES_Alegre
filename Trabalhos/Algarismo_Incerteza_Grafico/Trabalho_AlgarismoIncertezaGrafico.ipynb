{
 "cells": [
  {
   "cell_type": "markdown",
   "metadata": {
    "editable": true,
    "slideshow": {
     "slide_type": "slide"
    },
    "tags": []
   },
   "source": [
    "# Trabalho Individual - Algarismo Significativo, Incerteza e Gráfico\n",
    "## < Nome da/o estudante >\n",
    "### Disciplina DQF10441 Física Experimental II - Semestre 20??/?\n",
    "### [DQF - CCENS](http://alegre.ufes.br/ccens/departamento-de-quimica-e-fisica) - [UFES/Alegre](http://alegre.ufes.br/)\n",
    "#### Entregue em < ??/??/20?? >\n",
    "#### Professor : [Roberto Colistete Jr.](https://github.com/rcolistete)"
   ]
  },
  {
   "cell_type": "markdown",
   "metadata": {
    "editable": true,
    "slideshow": {
     "slide_type": "slide"
    },
    "tags": []
   },
   "source": [
    "## Questão 1"
   ]
  },
  {
   "cell_type": "markdown",
   "metadata": {
    "editable": true,
    "slideshow": {
     "slide_type": "fragment"
    },
    "tags": []
   },
   "source": [
    "Calcular (mostrando os cáculos parciais) com número de algarismos significativos corretos e dar a resposta em notação científica :"
   ]
  },
  {
   "cell_type": "markdown",
   "metadata": {
    "editable": true,
    "slideshow": {
     "slide_type": "fragment"
    },
    "tags": []
   },
   "source": [
    "#### a) $(9,84\\times 4,5\\times 2097)/5,26$"
   ]
  },
  {
   "cell_type": "markdown",
   "metadata": {
    "editable": true,
    "slideshow": {
     "slide_type": "fragment"
    },
    "tags": []
   },
   "source": [
    "##### R.:"
   ]
  },
  {
   "cell_type": "markdown",
   "metadata": {
    "editable": true,
    "slideshow": {
     "slide_type": "fragment"
    },
    "tags": []
   },
   "source": [
    "#### b) $1,9016\\,\\text{A}-9\\times 10^{2}\\,\\text{mA}$"
   ]
  },
  {
   "cell_type": "markdown",
   "metadata": {
    "editable": true,
    "jp-MarkdownHeadingCollapsed": true,
    "slideshow": {
     "slide_type": "fragment"
    },
    "tags": []
   },
   "source": [
    "##### R.:"
   ]
  },
  {
   "cell_type": "markdown",
   "metadata": {
    "editable": true,
    "slideshow": {
     "slide_type": "fragment"
    },
    "tags": []
   },
   "source": [
    "#### c) $5,46\\times 10^{4}-5,9890\\times 10^{2}$"
   ]
  },
  {
   "cell_type": "markdown",
   "metadata": {
    "editable": true,
    "slideshow": {
     "slide_type": "fragment"
    },
    "tags": []
   },
   "source": [
    "##### R.:"
   ]
  },
  {
   "cell_type": "markdown",
   "metadata": {
    "editable": true,
    "slideshow": {
     "slide_type": "slide"
    },
    "tags": []
   },
   "source": [
    "## Questão 2"
   ]
  },
  {
   "cell_type": "markdown",
   "metadata": {
    "editable": true,
    "slideshow": {
     "slide_type": "fragment"
    },
    "tags": []
   },
   "source": [
    "Considerando $A = (4,22 \\pm 0,15)$, $B = (7,203 \\pm 0,026)$ e $C = (1,60 \\pm 0,08)$, calcule numericamente (mostrando os cálculos parciais), com incerteza, bem como compare as incertezas relativas de cada resultado com as de $A$, $B$ e $C$."
   ]
  },
  {
   "cell_type": "markdown",
   "metadata": {
    "editable": true,
    "slideshow": {
     "slide_type": "fragment"
    },
    "tags": []
   },
   "source": [
    "#### a) $B - A - C$"
   ]
  },
  {
   "cell_type": "markdown",
   "metadata": {
    "editable": true,
    "slideshow": {
     "slide_type": "fragment"
    },
    "tags": []
   },
   "source": [
    "##### R.:"
   ]
  },
  {
   "cell_type": "markdown",
   "metadata": {
    "editable": true,
    "slideshow": {
     "slide_type": "fragment"
    },
    "tags": []
   },
   "source": [
    "#### b) $A \\times B / C$"
   ]
  },
  {
   "cell_type": "markdown",
   "metadata": {
    "editable": true,
    "slideshow": {
     "slide_type": "fragment"
    },
    "tags": []
   },
   "source": [
    "##### R.:"
   ]
  },
  {
   "cell_type": "markdown",
   "metadata": {
    "editable": true,
    "slideshow": {
     "slide_type": "fragment"
    },
    "tags": []
   },
   "source": [
    "#### c) $C \\times A^{2}/B$"
   ]
  },
  {
   "cell_type": "markdown",
   "metadata": {
    "editable": true,
    "slideshow": {
     "slide_type": "fragment"
    },
    "tags": []
   },
   "source": [
    "##### R.:"
   ]
  },
  {
   "cell_type": "markdown",
   "metadata": {
    "editable": true,
    "slideshow": {
     "slide_type": "slide"
    },
    "tags": []
   },
   "source": [
    "## Questão 3"
   ]
  },
  {
   "cell_type": "markdown",
   "metadata": {
    "editable": true,
    "slideshow": {
     "slide_type": "fragment"
    },
    "tags": []
   },
   "source": [
    "Em um experimento foram feitas as seguintes medidas elétricas em um resistor de $(4,7\\,k\\Omega \\pm 5\\%)$ (valor nominal) :\n",
    "- $R = (4,6 \\pm 0,2)\\,k\\Omega$;\n",
    "- $V_R = (9,1 \\pm 0,3)\\,V$;\n",
    "- $I_R = (1,8 \\pm 0,1)\\,mA$;\n",
    "\n",
    "Com as medidas acima, calcule com propagação de incerteza a potência $P$ em watts (W) via :\n",
    "1. $P_1 = V \\times I$;\n",
    "2. $P_2 = V^2/R$;\n",
    "3. $P_3 = R \\times I^2$.\n",
    "\n",
    "As potências são iguais entre si em termos de valor central ?\n",
    "As potências são compatíveis entre si considerando as janelas de incerteza ?"
   ]
  },
  {
   "cell_type": "markdown",
   "metadata": {
    "editable": true,
    "jp-MarkdownHeadingCollapsed": true,
    "slideshow": {
     "slide_type": "fragment"
    },
    "tags": []
   },
   "source": [
    "##### R.:"
   ]
  },
  {
   "cell_type": "markdown",
   "metadata": {
    "editable": true,
    "slideshow": {
     "slide_type": "slide"
    },
    "tags": []
   },
   "source": [
    "## Questão 4"
   ]
  },
  {
   "cell_type": "markdown",
   "metadata": {
    "editable": true,
    "slideshow": {
     "slide_type": "fragment"
    },
    "tags": []
   },
   "source": [
    "Um grupo de alunos realizou um experimento para determinar a resistência elétrica ($R = V/I$) de um certo resistor. Foi variada e medida a tensão elétrica $V$ e medida a corrente elétrica $I$, tal que foi obtida a tabela abaixo :"
   ]
  },
  {
   "cell_type": "markdown",
   "metadata": {
    "editable": true,
    "slideshow": {
     "slide_type": "subslide"
    },
    "tags": []
   },
   "source": [
    "|  N  |      V (V)    |     I (mA)     |\n",
    "|:---:|--------------:|---------------:|\n",
    "|  1  | $1,2 \\pm 0,4$ |  $4,3 \\pm 0,3$ |\n",
    "|  2  | $3,1 \\pm 0,5$ | $12,4 \\pm 0,6$ |\n",
    "|  3  | $5,6 \\pm 0,6$ | $20,2 \\pm 1,0$ |\n",
    "|  4  | $9,3 \\pm 0,8$ | $36,3 \\pm 1,9$ |"
   ]
  },
  {
   "cell_type": "markdown",
   "metadata": {
    "editable": true,
    "slideshow": {
     "slide_type": "subslide"
    },
    "tags": []
   },
   "source": [
    "#### a) Construa o gráfico da tensão elétrica $V$ versus corrente elétrica $I$, representando os valores com incertezas e traçando a reta média."
   ]
  },
  {
   "cell_type": "markdown",
   "metadata": {
    "editable": true,
    "slideshow": {
     "slide_type": "fragment"
    },
    "tags": []
   },
   "source": [
    "##### R.:"
   ]
  },
  {
   "cell_type": "markdown",
   "metadata": {
    "editable": true,
    "slideshow": {
     "slide_type": "fragment"
    },
    "tags": []
   },
   "source": [
    "#### b) Obtenha a resistência elétrica ($R = V/I$) através do gráfico com incerteza, via regressão linear."
   ]
  },
  {
   "cell_type": "markdown",
   "metadata": {
    "editable": true,
    "slideshow": {
     "slide_type": "fragment"
    },
    "tags": []
   },
   "source": [
    "##### R.:"
   ]
  },
  {
   "cell_type": "markdown",
   "metadata": {
    "editable": true,
    "slideshow": {
     "slide_type": "fragment"
    },
    "tags": []
   },
   "source": [
    "#### c) A resistência elétrica $R$ é compatível com um qual resistor (valor e cores) com valor comercial mais próximo ?"
   ]
  },
  {
   "cell_type": "markdown",
   "metadata": {
    "editable": true,
    "slideshow": {
     "slide_type": "fragment"
    },
    "tags": []
   },
   "source": [
    "##### R.:"
   ]
  }
 ],
 "metadata": {
  "celltoolbar": "Slideshow",
  "kernelspec": {
   "display_name": "Python 3 (ipykernel)",
   "language": "python",
   "name": "python3"
  },
  "language_info": {
   "codemirror_mode": {
    "name": "ipython",
    "version": 3
   },
   "file_extension": ".py",
   "mimetype": "text/x-python",
   "name": "python",
   "nbconvert_exporter": "python",
   "pygments_lexer": "ipython3",
   "version": "3.13.5"
  }
 },
 "nbformat": 4,
 "nbformat_minor": 4
}
